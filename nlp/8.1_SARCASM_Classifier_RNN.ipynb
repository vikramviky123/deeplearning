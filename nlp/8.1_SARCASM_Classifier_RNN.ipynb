{
 "cells": [
  {
   "cell_type": "code",
   "execution_count": 1,
   "metadata": {},
   "outputs": [],
   "source": [
    "import os\n",
    "import sys\n",
    "from pathlib import Path\n",
    "\n",
    "import pandas as pd\n",
    "import numpy as np\n",
    "\n",
    "from helper import *\n",
    "\n",
    "import re\n",
    "from typing import *\n",
    "\n",
    "import nltk\n",
    "from nltk.corpus import stopwords\n",
    "from nltk.stem.porter import PorterStemmer\n",
    "from nltk.stem import WordNetLemmatizer\n"
   ]
  },
  {
   "cell_type": "code",
   "execution_count": 6,
   "metadata": {},
   "outputs": [],
   "source": [
    "# url = 'https://storage.googleapis.com/tensorflow-1-public/course3/sarcasm.json'"
   ]
  },
  {
   "cell_type": "code",
   "execution_count": 2,
   "metadata": {},
   "outputs": [],
   "source": [
    "save_path = Path(\"data/sarcasm/sarcasm.json\")"
   ]
  },
  {
   "cell_type": "code",
   "execution_count": 3,
   "metadata": {},
   "outputs": [],
   "source": [
    "# download_zip_file(url,save_path)"
   ]
  },
  {
   "cell_type": "code",
   "execution_count": 4,
   "metadata": {},
   "outputs": [],
   "source": [
    "df = pd.read_json(save_path)"
   ]
  },
  {
   "cell_type": "code",
   "execution_count": 5,
   "metadata": {},
   "outputs": [
    {
     "data": {
      "text/html": [
       "<div>\n",
       "<style scoped>\n",
       "    .dataframe tbody tr th:only-of-type {\n",
       "        vertical-align: middle;\n",
       "    }\n",
       "\n",
       "    .dataframe tbody tr th {\n",
       "        vertical-align: top;\n",
       "    }\n",
       "\n",
       "    .dataframe thead th {\n",
       "        text-align: right;\n",
       "    }\n",
       "</style>\n",
       "<table border=\"1\" class=\"dataframe\">\n",
       "  <thead>\n",
       "    <tr style=\"text-align: right;\">\n",
       "      <th></th>\n",
       "      <th>article_link</th>\n",
       "      <th>headline</th>\n",
       "      <th>is_sarcastic</th>\n",
       "    </tr>\n",
       "  </thead>\n",
       "  <tbody>\n",
       "    <tr>\n",
       "      <th>0</th>\n",
       "      <td>https://www.huffingtonpost.com/entry/versace-b...</td>\n",
       "      <td>former versace store clerk sues over secret 'b...</td>\n",
       "      <td>0</td>\n",
       "    </tr>\n",
       "    <tr>\n",
       "      <th>1</th>\n",
       "      <td>https://www.huffingtonpost.com/entry/roseanne-...</td>\n",
       "      <td>the 'roseanne' revival catches up to our thorn...</td>\n",
       "      <td>0</td>\n",
       "    </tr>\n",
       "    <tr>\n",
       "      <th>2</th>\n",
       "      <td>https://local.theonion.com/mom-starting-to-fea...</td>\n",
       "      <td>mom starting to fear son's web series closest ...</td>\n",
       "      <td>1</td>\n",
       "    </tr>\n",
       "    <tr>\n",
       "      <th>3</th>\n",
       "      <td>https://politics.theonion.com/boehner-just-wan...</td>\n",
       "      <td>boehner just wants wife to listen, not come up...</td>\n",
       "      <td>1</td>\n",
       "    </tr>\n",
       "    <tr>\n",
       "      <th>4</th>\n",
       "      <td>https://www.huffingtonpost.com/entry/jk-rowlin...</td>\n",
       "      <td>j.k. rowling wishes snape happy birthday in th...</td>\n",
       "      <td>0</td>\n",
       "    </tr>\n",
       "  </tbody>\n",
       "</table>\n",
       "</div>"
      ],
      "text/plain": [
       "                                        article_link  \\\n",
       "0  https://www.huffingtonpost.com/entry/versace-b...   \n",
       "1  https://www.huffingtonpost.com/entry/roseanne-...   \n",
       "2  https://local.theonion.com/mom-starting-to-fea...   \n",
       "3  https://politics.theonion.com/boehner-just-wan...   \n",
       "4  https://www.huffingtonpost.com/entry/jk-rowlin...   \n",
       "\n",
       "                                            headline  is_sarcastic  \n",
       "0  former versace store clerk sues over secret 'b...             0  \n",
       "1  the 'roseanne' revival catches up to our thorn...             0  \n",
       "2  mom starting to fear son's web series closest ...             1  \n",
       "3  boehner just wants wife to listen, not come up...             1  \n",
       "4  j.k. rowling wishes snape happy birthday in th...             0  "
      ]
     },
     "execution_count": 5,
     "metadata": {},
     "output_type": "execute_result"
    }
   ],
   "source": [
    "df.head()"
   ]
  },
  {
   "cell_type": "code",
   "execution_count": 6,
   "metadata": {},
   "outputs": [
    {
     "name": "stdout",
     "output_type": "stream",
     "text": [
      "<class 'pandas.core.frame.DataFrame'>\n",
      "RangeIndex: 26709 entries, 0 to 26708\n",
      "Data columns (total 3 columns):\n",
      " #   Column        Non-Null Count  Dtype \n",
      "---  ------        --------------  ----- \n",
      " 0   article_link  26709 non-null  object\n",
      " 1   headline      26709 non-null  object\n",
      " 2   is_sarcastic  26709 non-null  int64 \n",
      "dtypes: int64(1), object(2)\n",
      "memory usage: 626.1+ KB\n"
     ]
    }
   ],
   "source": [
    "df.info()"
   ]
  },
  {
   "cell_type": "code",
   "execution_count": 7,
   "metadata": {},
   "outputs": [
    {
     "data": {
      "text/plain": [
       "'https://www.huffingtonpost.com/entry/versace-black-code_us_5861fbefe4b0de3a08f600d5'"
      ]
     },
     "execution_count": 7,
     "metadata": {},
     "output_type": "execute_result"
    }
   ],
   "source": [
    "df['article_link'][0]"
   ]
  },
  {
   "cell_type": "code",
   "execution_count": 8,
   "metadata": {},
   "outputs": [],
   "source": [
    "def main_name(x):\n",
    "    return re.findall(r'\\.(.*?)\\.', x)[0]"
   ]
  },
  {
   "cell_type": "code",
   "execution_count": 9,
   "metadata": {},
   "outputs": [],
   "source": [
    "df['main_name'] = df['article_link'].apply(main_name)"
   ]
  },
  {
   "cell_type": "code",
   "execution_count": 10,
   "metadata": {},
   "outputs": [
    {
     "data": {
      "text/html": [
       "<div>\n",
       "<style scoped>\n",
       "    .dataframe tbody tr th:only-of-type {\n",
       "        vertical-align: middle;\n",
       "    }\n",
       "\n",
       "    .dataframe tbody tr th {\n",
       "        vertical-align: top;\n",
       "    }\n",
       "\n",
       "    .dataframe thead th {\n",
       "        text-align: right;\n",
       "    }\n",
       "</style>\n",
       "<table border=\"1\" class=\"dataframe\">\n",
       "  <thead>\n",
       "    <tr style=\"text-align: right;\">\n",
       "      <th></th>\n",
       "      <th>article_link</th>\n",
       "      <th>headline</th>\n",
       "      <th>is_sarcastic</th>\n",
       "      <th>main_name</th>\n",
       "    </tr>\n",
       "  </thead>\n",
       "  <tbody>\n",
       "    <tr>\n",
       "      <th>0</th>\n",
       "      <td>https://www.huffingtonpost.com/entry/versace-b...</td>\n",
       "      <td>former versace store clerk sues over secret 'b...</td>\n",
       "      <td>0</td>\n",
       "      <td>huffingtonpost</td>\n",
       "    </tr>\n",
       "    <tr>\n",
       "      <th>1</th>\n",
       "      <td>https://www.huffingtonpost.com/entry/roseanne-...</td>\n",
       "      <td>the 'roseanne' revival catches up to our thorn...</td>\n",
       "      <td>0</td>\n",
       "      <td>huffingtonpost</td>\n",
       "    </tr>\n",
       "    <tr>\n",
       "      <th>2</th>\n",
       "      <td>https://local.theonion.com/mom-starting-to-fea...</td>\n",
       "      <td>mom starting to fear son's web series closest ...</td>\n",
       "      <td>1</td>\n",
       "      <td>theonion</td>\n",
       "    </tr>\n",
       "    <tr>\n",
       "      <th>3</th>\n",
       "      <td>https://politics.theonion.com/boehner-just-wan...</td>\n",
       "      <td>boehner just wants wife to listen, not come up...</td>\n",
       "      <td>1</td>\n",
       "      <td>theonion</td>\n",
       "    </tr>\n",
       "    <tr>\n",
       "      <th>4</th>\n",
       "      <td>https://www.huffingtonpost.com/entry/jk-rowlin...</td>\n",
       "      <td>j.k. rowling wishes snape happy birthday in th...</td>\n",
       "      <td>0</td>\n",
       "      <td>huffingtonpost</td>\n",
       "    </tr>\n",
       "  </tbody>\n",
       "</table>\n",
       "</div>"
      ],
      "text/plain": [
       "                                        article_link  \\\n",
       "0  https://www.huffingtonpost.com/entry/versace-b...   \n",
       "1  https://www.huffingtonpost.com/entry/roseanne-...   \n",
       "2  https://local.theonion.com/mom-starting-to-fea...   \n",
       "3  https://politics.theonion.com/boehner-just-wan...   \n",
       "4  https://www.huffingtonpost.com/entry/jk-rowlin...   \n",
       "\n",
       "                                            headline  is_sarcastic  \\\n",
       "0  former versace store clerk sues over secret 'b...             0   \n",
       "1  the 'roseanne' revival catches up to our thorn...             0   \n",
       "2  mom starting to fear son's web series closest ...             1   \n",
       "3  boehner just wants wife to listen, not come up...             1   \n",
       "4  j.k. rowling wishes snape happy birthday in th...             0   \n",
       "\n",
       "        main_name  \n",
       "0  huffingtonpost  \n",
       "1  huffingtonpost  \n",
       "2        theonion  \n",
       "3        theonion  \n",
       "4  huffingtonpost  "
      ]
     },
     "execution_count": 10,
     "metadata": {},
     "output_type": "execute_result"
    }
   ],
   "source": [
    "df.head()"
   ]
  },
  {
   "cell_type": "code",
   "execution_count": 11,
   "metadata": {},
   "outputs": [
    {
     "data": {
      "text/plain": [
       "huffingtonpost    0.561047\n",
       "theonion          0.438953\n",
       "Name: main_name, dtype: float64"
      ]
     },
     "execution_count": 11,
     "metadata": {},
     "output_type": "execute_result"
    }
   ],
   "source": [
    "df['main_name'].value_counts(1)"
   ]
  },
  {
   "cell_type": "code",
   "execution_count": 12,
   "metadata": {},
   "outputs": [],
   "source": [
    "sentences = df['headline'].to_list()\n",
    "labels = df['is_sarcastic'].to_list()"
   ]
  },
  {
   "cell_type": "code",
   "execution_count": 13,
   "metadata": {},
   "outputs": [
    {
     "data": {
      "text/plain": [
       "([\"former versace store clerk sues over secret 'black code' for minority shoppers\",\n",
       "  \"the 'roseanne' revival catches up to our thorny political mood, for better and worse\",\n",
       "  \"mom starting to fear son's web series closest thing she will have to grandchild\"],\n",
       " [0, 0, 1])"
      ]
     },
     "execution_count": 13,
     "metadata": {},
     "output_type": "execute_result"
    }
   ],
   "source": [
    "sentences[:3], labels[:3]"
   ]
  },
  {
   "cell_type": "code",
   "execution_count": null,
   "metadata": {},
   "outputs": [],
   "source": []
  },
  {
   "cell_type": "markdown",
   "metadata": {},
   "source": [
    "### 1.Cleaning the Data"
   ]
  },
  {
   "cell_type": "code",
   "execution_count": 14,
   "metadata": {},
   "outputs": [],
   "source": [
    "def clean_data(sentences:List):\n",
    "    ps = PorterStemmer()\n",
    "    corpus = []\n",
    "    for i in range(0, len(sentences)):\n",
    "        each_sentence = re.sub('[^a-zA-Z]', ' ', sentences[i])\n",
    "        each_sentence = each_sentence.lower()\n",
    "        each_sentence = each_sentence.split()\n",
    "\n",
    "        each_sentence = [ps.stem(word)\n",
    "                         for word in each_sentence if not word in stopwords.words('english')]\n",
    "        each_sentence = ' '.join(each_sentence)\n",
    "        corpus.append(each_sentence)\n",
    "    return corpus"
   ]
  },
  {
   "cell_type": "code",
   "execution_count": 15,
   "metadata": {},
   "outputs": [],
   "source": [
    "clean_sentences = clean_data(sentences)"
   ]
  },
  {
   "cell_type": "code",
   "execution_count": 16,
   "metadata": {},
   "outputs": [
    {
     "data": {
      "text/plain": [
       "['former versac store clerk sue secret black code minor shopper',\n",
       " 'roseann reviv catch thorni polit mood better wors',\n",
       " 'mom start fear son web seri closest thing grandchild']"
      ]
     },
     "execution_count": 16,
     "metadata": {},
     "output_type": "execute_result"
    }
   ],
   "source": [
    "clean_sentences[:3]"
   ]
  },
  {
   "cell_type": "markdown",
   "metadata": {},
   "source": [
    "### 2.Train test Split"
   ]
  },
  {
   "cell_type": "code",
   "execution_count": 17,
   "metadata": {},
   "outputs": [],
   "source": [
    "from sklearn.naive_bayes import MultinomialNB\n",
    "from sklearn.model_selection import train_test_split\n",
    "from sklearn.metrics import accuracy_score\n",
    "\n",
    "X_train, X_test, y_train, y_test = train_test_split(\n",
    "    clean_sentences, labels, test_size=0.20, random_state=0, stratify=labels)"
   ]
  },
  {
   "cell_type": "code",
   "execution_count": 18,
   "metadata": {},
   "outputs": [
    {
     "data": {
      "text/plain": [
       "['share hazmat suit maker spike nyc ebola news',\n",
       " 'miss america call u n council promot enough world peac',\n",
       " 'tarsier world smallest primat anim planet looney front part']"
      ]
     },
     "execution_count": 18,
     "metadata": {},
     "output_type": "execute_result"
    }
   ],
   "source": [
    "X_train[:3]"
   ]
  },
  {
   "cell_type": "code",
   "execution_count": 19,
   "metadata": {},
   "outputs": [
    {
     "data": {
      "text/plain": [
       "0    0.561052\n",
       "1    0.438948\n",
       "dtype: float64"
      ]
     },
     "execution_count": 19,
     "metadata": {},
     "output_type": "execute_result"
    }
   ],
   "source": [
    "pd.Series(y_train).value_counts(1)"
   ]
  },
  {
   "cell_type": "code",
   "execution_count": 20,
   "metadata": {},
   "outputs": [
    {
     "data": {
      "text/plain": [
       "0    0.561026\n",
       "1    0.438974\n",
       "dtype: float64"
      ]
     },
     "execution_count": 20,
     "metadata": {},
     "output_type": "execute_result"
    }
   ],
   "source": [
    "pd.Series(y_test).value_counts(1)"
   ]
  },
  {
   "cell_type": "markdown",
   "metadata": {},
   "source": [
    "### 3.TensorFlow Embeddings"
   ]
  },
  {
   "cell_type": "code",
   "execution_count": 21,
   "metadata": {},
   "outputs": [],
   "source": [
    "import numpy as np\n",
    "import pandas as pd\n",
    "\n",
    "import seaborn as sns\n",
    "import matplotlib.pyplot as plt\n",
    "\n",
    "%matplotlib inline\n",
    "\n",
    "import tensorflow as tf\n",
    "from tensorflow.keras.preprocessing.text import Tokenizer\n",
    "from tensorflow.keras.preprocessing.sequence import pad_sequences"
   ]
  },
  {
   "cell_type": "code",
   "execution_count": 22,
   "metadata": {},
   "outputs": [],
   "source": [
    "# Vocabulary size of the tokenizer\n",
    "vocab_size = 10000\n",
    "\n",
    "# Maximum length of the padded sequences\n",
    "max_length = 50\n",
    "\n",
    "# Output dimensions of the Embedding layer\n",
    "embedding_dim = 16"
   ]
  },
  {
   "cell_type": "code",
   "execution_count": 23,
   "metadata": {},
   "outputs": [
    {
     "data": {
      "text/plain": [
       "['share hazmat suit maker spike nyc ebola news',\n",
       " 'miss america call u n council promot enough world peac',\n",
       " 'tarsier world smallest primat anim planet looney front part']"
      ]
     },
     "execution_count": 23,
     "metadata": {},
     "output_type": "execute_result"
    }
   ],
   "source": [
    "X_train[:3]"
   ]
  },
  {
   "cell_type": "code",
   "execution_count": 24,
   "metadata": {},
   "outputs": [],
   "source": [
    "# Parameters for padding and OOV tokens\n",
    "trunc_type = 'post'\n",
    "padding_type = 'post'\n",
    "oov_tok = \"<OOV>\"\n",
    "\n",
    "# Initialize the Tokenizer class\n",
    "tokenizer = Tokenizer(num_words=vocab_size, oov_token=oov_tok)\n",
    "\n",
    "# Generate the word index dictionary\n",
    "tokenizer.fit_on_texts(X_train)\n",
    "word_index = tokenizer.word_index\n",
    "\n",
    "# Generate and pad the training sequences\n",
    "training_sequences = tokenizer.texts_to_sequences(X_train)\n",
    "training_padded = pad_sequences(\n",
    "    training_sequences, maxlen=max_length, padding=padding_type, truncating=trunc_type)\n",
    "\n",
    "# Generate and pad the testing sequences\n",
    "testing_sequences = tokenizer.texts_to_sequences(X_test)\n",
    "testing_padded = pad_sequences(\n",
    "    testing_sequences, maxlen=max_length, padding=padding_type, truncating=trunc_type)\n",
    "\n",
    "# Convert the labels lists into numpy arrays\n",
    "training_labels = np.array(y_train)\n",
    "testing_labels = np.array(y_test)"
   ]
  },
  {
   "cell_type": "code",
   "execution_count": 79,
   "metadata": {},
   "outputs": [
    {
     "data": {
      "text/plain": [
       "(21367, 50)"
      ]
     },
     "execution_count": 79,
     "metadata": {},
     "output_type": "execute_result"
    }
   ],
   "source": [
    "training_padded.shape"
   ]
  },
  {
   "cell_type": "markdown",
   "metadata": {},
   "source": [
    "### With Dense "
   ]
  },
  {
   "cell_type": "code",
   "execution_count": 28,
   "metadata": {},
   "outputs": [
    {
     "name": "stdout",
     "output_type": "stream",
     "text": [
      "Model: \"sequential_2\"\n",
      "_________________________________________________________________\n",
      " Layer (type)                Output Shape              Param #   \n",
      "=================================================================\n",
      " embedding (Embedding)       (None, 50, 16)            160000    \n",
      "                                                                 \n",
      " flatten_2 (Flatten)         (None, 800)               0         \n",
      "                                                                 \n",
      " dense32 (Dense)             (None, 32)                25632     \n",
      "                                                                 \n",
      " batch1 (BatchNormalization)  (None, 32)               128       \n",
      "                                                                 \n",
      " dropout1 (Dropout)          (None, 32)                0         \n",
      "                                                                 \n",
      " dense16 (Dense)             (None, 16)                528       \n",
      "                                                                 \n",
      " batch2 (BatchNormalization)  (None, 16)               64        \n",
      "                                                                 \n",
      " dropout2 (Dropout)          (None, 16)                0         \n",
      "                                                                 \n",
      " last_dense1 (Dense)         (None, 1)                 17        \n",
      "                                                                 \n",
      "=================================================================\n",
      "Total params: 186,369\n",
      "Trainable params: 186,273\n",
      "Non-trainable params: 96\n",
      "_________________________________________________________________\n"
     ]
    }
   ],
   "source": [
    "# Build the model\n",
    "model = tf.keras.Sequential([\n",
    "    tf.keras.layers.Embedding(\n",
    "        vocab_size, embedding_dim, input_length=max_length,name=\"embedding\"),\n",
    "    \n",
    "    tf.keras.layers.Flatten(),\n",
    "    \n",
    "    tf.keras.layers.Dense(32, activation='relu', name=\"dense32\"),\n",
    "    tf.keras.layers.BatchNormalization(name=\"batch1\"),    \n",
    "    tf.keras.layers.Dropout(0.3, name=\"dropout1\"),\n",
    "    \n",
    "    tf.keras.layers.Dense(16, activation='relu', name=\"dense16\"),\n",
    "    tf.keras.layers.BatchNormalization(name=\"batch2\"),\n",
    "    tf.keras.layers.Dropout(0.3, name=\"dropout2\"),\n",
    "\n",
    "    \n",
    "    tf.keras.layers.Dense(1, activation='sigmoid', name=\"last_dense1\")\n",
    "])\n",
    "\n",
    "# Print the model summary\n",
    "model.summary()"
   ]
  },
  {
   "cell_type": "code",
   "execution_count": 29,
   "metadata": {},
   "outputs": [],
   "source": [
    "# Compile the model\n",
    "model.compile(loss='binary_crossentropy', optimizer='adam',metrics=['accuracy'])"
   ]
  },
  {
   "cell_type": "code",
   "execution_count": 32,
   "metadata": {},
   "outputs": [],
   "source": [
    "early_stopping = tf.keras.callbacks.EarlyStopping(\n",
    "                                                    monitor='val_loss',\n",
    "                                                    min_delta=0.0001,\n",
    "                                                    patience=5,\n",
    "                                                    verbose=0,\n",
    "                                                    mode='auto',\n",
    "                                                    # baseline=None,\n",
    "                                                    restore_best_weights=True,\n",
    "                                                    # start_from_epoch=0\n",
    "                                                )"
   ]
  },
  {
   "cell_type": "code",
   "execution_count": 33,
   "metadata": {},
   "outputs": [
    {
     "name": "stdout",
     "output_type": "stream",
     "text": [
      "Epoch 1/30\n",
      "668/668 - 4s - loss: 0.6463 - accuracy: 0.6484 - val_loss: 0.6706 - val_accuracy: 0.6642 - 4s/epoch - 6ms/step\n",
      "Epoch 2/30\n",
      "668/668 - 3s - loss: 0.3952 - accuracy: 0.8265 - val_loss: 0.4777 - val_accuracy: 0.7726 - 3s/epoch - 4ms/step\n",
      "Epoch 3/30\n",
      "668/668 - 3s - loss: 0.2670 - accuracy: 0.8984 - val_loss: 0.4650 - val_accuracy: 0.7827 - 3s/epoch - 5ms/step\n",
      "Epoch 4/30\n",
      "668/668 - 3s - loss: 0.1735 - accuracy: 0.9384 - val_loss: 0.6807 - val_accuracy: 0.7621 - 3s/epoch - 4ms/step\n",
      "Epoch 5/30\n",
      "668/668 - 3s - loss: 0.1242 - accuracy: 0.9562 - val_loss: 0.8531 - val_accuracy: 0.7613 - 3s/epoch - 4ms/step\n",
      "Epoch 6/30\n",
      "668/668 - 3s - loss: 0.1105 - accuracy: 0.9592 - val_loss: 0.7832 - val_accuracy: 0.7709 - 3s/epoch - 4ms/step\n",
      "Epoch 7/30\n",
      "668/668 - 3s - loss: 0.0923 - accuracy: 0.9677 - val_loss: 0.9038 - val_accuracy: 0.7757 - 3s/epoch - 4ms/step\n",
      "Epoch 8/30\n",
      "668/668 - 4s - loss: 0.0874 - accuracy: 0.9700 - val_loss: 0.9536 - val_accuracy: 0.7765 - 4s/epoch - 5ms/step\n"
     ]
    }
   ],
   "source": [
    "num_epochs = 30\n",
    "\n",
    "# Train the model\n",
    "history = model.fit(training_padded, \n",
    "                    training_labels, \n",
    "                    epochs=num_epochs,\n",
    "                    validation_data=(testing_padded, testing_labels), \n",
    "                    verbose=2,\n",
    "                    callbacks=[early_stopping])"
   ]
  },
  {
   "cell_type": "code",
   "execution_count": 34,
   "metadata": {},
   "outputs": [
    {
     "name": "stdout",
     "output_type": "stream",
     "text": [
      "  1/167 [..............................] - ETA: 7s - loss: 0.5058 - accuracy: 0.6562"
     ]
    },
    {
     "name": "stdout",
     "output_type": "stream",
     "text": [
      "167/167 [==============================] - 0s 2ms/step - loss: 0.4650 - accuracy: 0.7827\n"
     ]
    },
    {
     "data": {
      "text/plain": [
       "[0.4649715721607208, 0.7826656699180603]"
      ]
     },
     "execution_count": 34,
     "metadata": {},
     "output_type": "execute_result"
    }
   ],
   "source": [
    "model.evaluate(testing_padded,testing_labels)"
   ]
  },
  {
   "cell_type": "code",
   "execution_count": 35,
   "metadata": {},
   "outputs": [
    {
     "data": {
      "text/plain": [
       "dict_keys(['loss', 'accuracy', 'val_loss', 'val_accuracy'])"
      ]
     },
     "execution_count": 35,
     "metadata": {},
     "output_type": "execute_result"
    }
   ],
   "source": [
    "history.history.keys()"
   ]
  },
  {
   "cell_type": "code",
   "execution_count": 36,
   "metadata": {},
   "outputs": [],
   "source": [
    "myDict = history.history"
   ]
  },
  {
   "cell_type": "code",
   "execution_count": 37,
   "metadata": {},
   "outputs": [
    {
     "data": {
      "text/plain": [
       "[<matplotlib.lines.Line2D at 0x24f1cf5ae00>]"
      ]
     },
     "execution_count": 37,
     "metadata": {},
     "output_type": "execute_result"
    },
    {
     "data": {
      "image/png": "[encoded data removed]",
      "text/plain": [
       "<Figure size 1500x500 with 2 Axes>"
      ]
     },
     "metadata": {},
     "output_type": "display_data"
    }
   ],
   "source": [
    "plt.figure(figsize=(15,5))\n",
    "plt.subplot(1,2,1)\n",
    "plt.plot(myDict['loss'])\n",
    "plt.plot(myDict['val_loss'])\n",
    "plt.subplot(1,2,2)\n",
    "plt.plot(myDict['accuracy'])\n",
    "plt.plot(myDict['val_accuracy'])"
   ]
  },
  {
   "cell_type": "markdown",
   "metadata": {},
   "source": [
    "### 4.RNN"
   ]
  },
  {
   "attachments": {
    "image.png": {
     "image/png": "[encoded data removed]"
    }
   },
   "cell_type": "markdown",
   "metadata": {},
   "source": [
    "![image.png](attachment:image.png)"
   ]
  },
  {
   "cell_type": "code",
   "execution_count": 117,
   "metadata": {},
   "outputs": [
    {
     "name": "stdout",
     "output_type": "stream",
     "text": [
      "Model: \"sequential_24\"\n",
      "_________________________________________________________________\n",
      " Layer (type)                Output Shape              Param #   \n",
      "=================================================================\n",
      " simple_rnn_11 (SimpleRNN)   (None, 3)                 27        \n",
      "                                                                 \n",
      " dense_17 (Dense)            (None, 5)                 20        \n",
      "                                                                 \n",
      " dense_18 (Dense)            (None, 3)                 18        \n",
      "                                                                 \n",
      "=================================================================\n",
      "Total params: 65\n",
      "Trainable params: 65\n",
      "Non-trainable params: 0\n",
      "_________________________________________________________________\n"
     ]
    }
   ],
   "source": [
    "model = tf.keras.Sequential([\n",
    "    tf.keras.layers.SimpleRNN(3,input_shape=(3,5)),\n",
    "    tf.keras.layers.Dense(5),\n",
    "    tf.keras.layers.Dense(3)\n",
    "])\n",
    "model.summary()"
   ]
  },
  {
   "attachments": {
    "image-2.png": {
     "image/png": "[encoded data removed]"
    },
    "image.png": {
     "image/png": "[encoded data removed]"
    }
   },
   "cell_type": "markdown",
   "metadata": {},
   "source": [
    "![image.png](attachment:image.png)\n",
    "![image-2.png](attachment:image-2.png)"
   ]
  },
  {
   "cell_type": "code",
   "execution_count": 55,
   "metadata": {},
   "outputs": [
    {
     "data": {
      "text/plain": [
       "array([[-0.15134007,  0.63260907, -0.67669505],\n",
       "       [ 0.27160007, -0.4681963 , -0.08359861],\n",
       "       [ 0.6213092 ,  0.58365506, -0.1680296 ],\n",
       "       [-0.5033487 , -0.5948261 , -0.6624713 ],\n",
       "       [-0.66575205,  0.6649783 ,  0.35963756]], dtype=float32)"
      ]
     },
     "execution_count": 55,
     "metadata": {},
     "output_type": "execute_result"
    }
   ],
   "source": [
    "# Sending input as 3 rows(each sentence) x 5 columns (embedding vector of each word)\n",
    "# i have 3 RNN's with 5 vectors of each word weights = 5x3\n",
    "model.get_weights()[0]"
   ]
  },
  {
   "cell_type": "code",
   "execution_count": 58,
   "metadata": {},
   "outputs": [
    {
     "data": {
      "text/plain": [
       "array([[-0.42984998, -0.33286592,  0.83930284],\n",
       "       [ 0.5868784 , -0.809417  , -0.02044278],\n",
       "       [-0.6861506 , -0.4837814 , -0.54327977]], dtype=float32)"
      ]
     },
     "execution_count": 58,
     "metadata": {},
     "output_type": "execute_result"
    }
   ],
   "source": [
    "# If i use 3 RNN's means it has 3x3 matrix to hold each others input\n",
    "# the connection between 5 vectors and 3 RNN cells holds 5x3 weights + 3x3 time weights\n",
    "model.get_weights()[1]"
   ]
  },
  {
   "cell_type": "code",
   "execution_count": 57,
   "metadata": {},
   "outputs": [
    {
     "data": {
      "text/plain": [
       "array([0., 0., 0.], dtype=float32)"
      ]
     },
     "execution_count": 57,
     "metadata": {},
     "output_type": "execute_result"
    }
   ],
   "source": [
    "# Bias of 3 RNN cells\n",
    "model.get_weights()[2]"
   ]
  },
  {
   "cell_type": "code",
   "execution_count": 59,
   "metadata": {},
   "outputs": [
    {
     "data": {
      "text/plain": [
       "array([[0.08790159],\n",
       "       [0.5569986 ],\n",
       "       [0.99046814]], dtype=float32)"
      ]
     },
     "execution_count": 59,
     "metadata": {},
     "output_type": "execute_result"
    }
   ],
   "source": [
    "# weights of RNN cell to dense which is 3\n",
    "model.get_weights()[3]"
   ]
  },
  {
   "cell_type": "code",
   "execution_count": 60,
   "metadata": {},
   "outputs": [
    {
     "data": {
      "text/plain": [
       "array([0.], dtype=float32)"
      ]
     },
     "execution_count": 60,
     "metadata": {},
     "output_type": "execute_result"
    }
   ],
   "source": [
    "# bias of dense layer\n",
    "model.get_weights()[4]"
   ]
  },
  {
   "cell_type": "code",
   "execution_count": 69,
   "metadata": {},
   "outputs": [
    {
     "name": "stdout",
     "output_type": "stream",
     "text": [
      "Model: \"sequential_12\"\n",
      "_________________________________________________________________\n",
      " Layer (type)                Output Shape              Param #   \n",
      "=================================================================\n",
      " simple_rnn_9 (SimpleRNN)    (None, 3)                 27        \n",
      "                                                                 \n",
      " dense_16 (Dense)            (None, 1)                 4         \n",
      "                                                                 \n",
      "=================================================================\n",
      "Total params: 31\n",
      "Trainable params: 31\n",
      "Non-trainable params: 0\n",
      "_________________________________________________________________\n",
      "Epoch 1/5\n",
      "1/1 [==============================] - 1s 1s/step - loss: 0.4087\n",
      "Epoch 2/5\n",
      "1/1 [==============================] - 0s 12ms/step - loss: 0.3772\n",
      "Epoch 3/5\n",
      "1/1 [==============================] - 0s 10ms/step - loss: 0.3490\n",
      "Epoch 4/5\n",
      "1/1 [==============================] - 0s 4ms/step - loss: 0.3240\n",
      "Epoch 5/5\n",
      "1/1 [==============================] - 0s 12ms/step - loss: 0.3018\n"
     ]
    },
    {
     "data": {
      "text/plain": [
       "<keras.callbacks.History at 0x24f1e7eab60>"
      ]
     },
     "execution_count": 69,
     "metadata": {},
     "output_type": "execute_result"
    }
   ],
   "source": [
    "import tensorflow as tf\n",
    "\n",
    "model = tf.keras.Sequential([\n",
    "    tf.keras.layers.SimpleRNN(3, input_shape=(3, 5)),\n",
    "    tf.keras.layers.Dense(1, activation='sigmoid')\n",
    "])\n",
    "model.summary()\n",
    "\n",
    "tr_ds = tf.constant(\n",
    "    [\n",
    "        [[0, 1, 0, 0, 0], [0, 0, 0, 1, 0], [1, 0, 0, 0, 0]]\n",
    "    ],\n",
    "    dtype=\"float32\",\n",
    ")\n",
    "\n",
    "# Assuming binary classification, provide corresponding target data\n",
    "target_data = tf.constant(\n",
    "    [\n",
    "        [1]  # 1 indicates a positive class (sarcastic) for the given sequence\n",
    "    ],\n",
    "    dtype=\"float32\",\n",
    ")\n",
    "\n",
    "model.compile(optimizer=tf.keras.optimizers.Adam(\n",
    "    learning_rate=0.01), loss='binary_crossentropy')\n",
    "\n",
    "model.fit(tr_ds, target_data, epochs=5)"
   ]
  },
  {
   "cell_type": "code",
   "execution_count": 71,
   "metadata": {},
   "outputs": [
    {
     "data": {
      "text/plain": [
       "array([[-0.33578378, -0.39685583, -0.02990877],\n",
       "       [-0.7966856 ,  0.01676872, -0.1835309 ],\n",
       "       [-0.68736476, -0.4734121 , -0.8042088 ],\n",
       "       [-0.5335228 ,  0.19432175,  0.35751963],\n",
       "       [ 0.21484262, -0.77107364, -0.70274997]], dtype=float32)"
      ]
     },
     "execution_count": 71,
     "metadata": {},
     "output_type": "execute_result"
    }
   ],
   "source": [
    "model.get_weights()[0]"
   ]
  },
  {
   "cell_type": "code",
   "execution_count": 72,
   "metadata": {},
   "outputs": [
    {
     "data": {
      "text/plain": [
       "array([[ 0.40322828,  0.74945694, -0.66920835],\n",
       "       [ 0.936816  , -0.51183003, -0.06547206],\n",
       "       [ 0.24773683,  0.5933713 ,  0.8342854 ]], dtype=float32)"
      ]
     },
     "execution_count": 72,
     "metadata": {},
     "output_type": "execute_result"
    }
   ],
   "source": [
    "model.get_weights()[1]"
   ]
  },
  {
   "cell_type": "markdown",
   "metadata": {},
   "source": [
    "### RNN on sequences"
   ]
  },
  {
   "cell_type": "code",
   "execution_count": 73,
   "metadata": {},
   "outputs": [
    {
     "data": {
      "text/plain": [
       "(21367, 50)"
      ]
     },
     "execution_count": 73,
     "metadata": {},
     "output_type": "execute_result"
    }
   ],
   "source": [
    "training_padded.shape"
   ]
  },
  {
   "cell_type": "code",
   "execution_count": 80,
   "metadata": {},
   "outputs": [],
   "source": [
    "train_dataset = tf.data.Dataset.from_tensor_slices((training_padded, training_labels))\n",
    "train_dataset = (train_dataset\n",
    "                 .shuffle(buffer_size=8, reshuffle_each_iteration=True)\n",
    "                 .batch(32)\n",
    "                 .prefetch(tf.data.AUTOTUNE))"
   ]
  },
  {
   "cell_type": "code",
   "execution_count": 81,
   "metadata": {},
   "outputs": [],
   "source": [
    "test_dataset = tf.data.Dataset.from_tensor_slices((testing_padded, testing_labels))\n",
    "test_dataset = (test_dataset\n",
    "                 .shuffle(buffer_size=8, reshuffle_each_iteration=True)\n",
    "                 .batch(32)\n",
    "                 .prefetch(tf.data.AUTOTUNE))"
   ]
  },
  {
   "cell_type": "code",
   "execution_count": 101,
   "metadata": {},
   "outputs": [
    {
     "name": "stdout",
     "output_type": "stream",
     "text": [
      "Model: \"sequential_19\"\n",
      "_________________________________________________________________\n",
      " Layer (type)                Output Shape              Param #   \n",
      "=================================================================\n",
      " rnn30 (SimpleRNN)           (None, 30)                960       \n",
      "                                                                 \n",
      " dense32 (Dense)             (None, 32)                992       \n",
      "                                                                 \n",
      " batch1 (BatchNormalization)  (None, 32)               128       \n",
      "                                                                 \n",
      " dropout1 (Dropout)          (None, 32)                0         \n",
      "                                                                 \n",
      " dense16 (Dense)             (None, 16)                528       \n",
      "                                                                 \n",
      " batch2 (BatchNormalization)  (None, 16)               64        \n",
      "                                                                 \n",
      " dropout2 (Dropout)          (None, 16)                0         \n",
      "                                                                 \n",
      " last_dense1 (Dense)         (None, 1)                 17        \n",
      "                                                                 \n",
      "=================================================================\n",
      "Total params: 2,689\n",
      "Trainable params: 2,593\n",
      "Non-trainable params: 96\n",
      "_________________________________________________________________\n"
     ]
    }
   ],
   "source": [
    "# Build the model\n",
    "model = tf.keras.Sequential([\n",
    "    tf.keras.layers.SimpleRNN(30, input_shape=(max_length, 1),return_sequences=False, name=\"rnn30\"),\n",
    "\n",
    "    # tf.keras.layers.Flatten(),\n",
    "\n",
    "    tf.keras.layers.Dense(32, activation='relu', name=\"dense32\"),\n",
    "    tf.keras.layers.BatchNormalization(name=\"batch1\"),\n",
    "    tf.keras.layers.Dropout(0.3, name=\"dropout1\"),\n",
    "\n",
    "    tf.keras.layers.Dense(16, activation='relu', name=\"dense16\"),\n",
    "    tf.keras.layers.BatchNormalization(name=\"batch2\"),\n",
    "    tf.keras.layers.Dropout(0.3, name=\"dropout2\"),\n",
    "\n",
    "\n",
    "    tf.keras.layers.Dense(1, activation='sigmoid', name=\"last_dense1\")\n",
    "])\n",
    "\n",
    "# Print the model summary\n",
    "model.summary()"
   ]
  },
  {
   "cell_type": "code",
   "execution_count": 102,
   "metadata": {},
   "outputs": [],
   "source": [
    "model.compile(optimizer=tf.keras.optimizers.Adam(learning_rate=0.00001), \n",
    "              loss='binary_crossentropy',\n",
    "              metrics=['binary_accuracy'])"
   ]
  },
  {
   "cell_type": "code",
   "execution_count": 103,
   "metadata": {},
   "outputs": [
    {
     "name": "stdout",
     "output_type": "stream",
     "text": [
      "Epoch 1/30\n"
     ]
    },
    {
     "name": "stdout",
     "output_type": "stream",
     "text": [
      "668/668 - 8s - loss: 0.8619 - binary_accuracy: 0.4972 - val_loss: 0.7047 - val_binary_accuracy: 0.5223 - 8s/epoch - 11ms/step\n",
      "Epoch 2/30\n",
      "668/668 - 6s - loss: 0.8305 - binary_accuracy: 0.4995 - val_loss: 0.6927 - val_binary_accuracy: 0.5550 - 6s/epoch - 9ms/step\n",
      "Epoch 3/30\n",
      "668/668 - 7s - loss: 0.8061 - binary_accuracy: 0.5150 - val_loss: 0.6849 - val_binary_accuracy: 0.5618 - 7s/epoch - 10ms/step\n",
      "Epoch 4/30\n",
      "668/668 - 7s - loss: 0.8023 - binary_accuracy: 0.5105 - val_loss: 0.6823 - val_binary_accuracy: 0.5590 - 7s/epoch - 10ms/step\n",
      "Epoch 5/30\n",
      "668/668 - 6s - loss: 0.8022 - binary_accuracy: 0.5127 - val_loss: 0.6797 - val_binary_accuracy: 0.5595 - 6s/epoch - 9ms/step\n",
      "Epoch 6/30\n",
      "668/668 - 6s - loss: 0.7959 - binary_accuracy: 0.5126 - val_loss: 0.6794 - val_binary_accuracy: 0.5700 - 6s/epoch - 9ms/step\n",
      "Epoch 7/30\n",
      "668/668 - 7s - loss: 0.7826 - binary_accuracy: 0.5194 - val_loss: 0.6772 - val_binary_accuracy: 0.5738 - 7s/epoch - 10ms/step\n",
      "Epoch 8/30\n",
      "668/668 - 7s - loss: 0.7734 - binary_accuracy: 0.5278 - val_loss: 0.6779 - val_binary_accuracy: 0.5747 - 7s/epoch - 10ms/step\n",
      "Epoch 9/30\n",
      "668/668 - 5s - loss: 0.7734 - binary_accuracy: 0.5250 - val_loss: 0.6773 - val_binary_accuracy: 0.5786 - 5s/epoch - 8ms/step\n",
      "Epoch 10/30\n",
      "668/668 - 6s - loss: 0.7778 - binary_accuracy: 0.5154 - val_loss: 0.6750 - val_binary_accuracy: 0.5839 - 6s/epoch - 8ms/step\n",
      "Epoch 11/30\n",
      "668/668 - 5s - loss: 0.7658 - binary_accuracy: 0.5271 - val_loss: 0.6739 - val_binary_accuracy: 0.5837 - 5s/epoch - 8ms/step\n",
      "Epoch 12/30\n",
      "668/668 - 6s - loss: 0.7662 - binary_accuracy: 0.5185 - val_loss: 0.6736 - val_binary_accuracy: 0.5863 - 6s/epoch - 9ms/step\n",
      "Epoch 13/30\n",
      "668/668 - 5s - loss: 0.7526 - binary_accuracy: 0.5368 - val_loss: 0.6756 - val_binary_accuracy: 0.5874 - 5s/epoch - 8ms/step\n",
      "Epoch 14/30\n",
      "668/668 - 5s - loss: 0.7601 - binary_accuracy: 0.5252 - val_loss: 0.6741 - val_binary_accuracy: 0.5872 - 5s/epoch - 8ms/step\n",
      "Epoch 15/30\n",
      "668/668 - 5s - loss: 0.7505 - binary_accuracy: 0.5279 - val_loss: 0.6739 - val_binary_accuracy: 0.5884 - 5s/epoch - 8ms/step\n",
      "Epoch 16/30\n",
      "668/668 - 5s - loss: 0.7569 - binary_accuracy: 0.5250 - val_loss: 0.6752 - val_binary_accuracy: 0.5891 - 5s/epoch - 8ms/step\n",
      "Epoch 17/30\n",
      "668/668 - 5s - loss: 0.7477 - binary_accuracy: 0.5317 - val_loss: 0.6726 - val_binary_accuracy: 0.5902 - 5s/epoch - 8ms/step\n",
      "Epoch 18/30\n",
      "668/668 - 5s - loss: 0.7500 - binary_accuracy: 0.5282 - val_loss: 0.6736 - val_binary_accuracy: 0.5910 - 5s/epoch - 8ms/step\n",
      "Epoch 19/30\n",
      "668/668 - 5s - loss: 0.7484 - binary_accuracy: 0.5344 - val_loss: 0.6734 - val_binary_accuracy: 0.5902 - 5s/epoch - 8ms/step\n",
      "Epoch 20/30\n",
      "668/668 - 5s - loss: 0.7433 - binary_accuracy: 0.5378 - val_loss: 0.6734 - val_binary_accuracy: 0.5917 - 5s/epoch - 8ms/step\n",
      "Epoch 21/30\n",
      "668/668 - 6s - loss: 0.7383 - binary_accuracy: 0.5389 - val_loss: 0.6733 - val_binary_accuracy: 0.5932 - 6s/epoch - 8ms/step\n",
      "Epoch 22/30\n",
      "668/668 - 6s - loss: 0.7370 - binary_accuracy: 0.5377 - val_loss: 0.6727 - val_binary_accuracy: 0.5936 - 6s/epoch - 8ms/step\n"
     ]
    },
    {
     "data": {
      "text/plain": [
       "<keras.callbacks.History at 0x24f1af4f8e0>"
      ]
     },
     "execution_count": 103,
     "metadata": {},
     "output_type": "execute_result"
    }
   ],
   "source": [
    "model.fit(train_dataset,\n",
    "          validation_data=test_dataset,\n",
    "          epochs=30,\n",
    "          verbose=2,\n",
    "          callbacks = [early_stopping])"
   ]
  },
  {
   "cell_type": "code",
   "execution_count": 104,
   "metadata": {},
   "outputs": [
    {
     "name": "stdout",
     "output_type": "stream",
     "text": [
      "  1/167 [..............................] - ETA: 3s - loss: 0.7266 - binary_accuracy: 0.6250"
     ]
    },
    {
     "name": "stdout",
     "output_type": "stream",
     "text": [
      "167/167 [==============================] - 1s 4ms/step - loss: 0.6726 - binary_accuracy: 0.5902\n"
     ]
    },
    {
     "data": {
      "text/plain": [
       "[0.6725618839263916, 0.5902283787727356]"
      ]
     },
     "execution_count": 104,
     "metadata": {},
     "output_type": "execute_result"
    }
   ],
   "source": [
    "model.evaluate(test_dataset)"
   ]
  },
  {
   "cell_type": "markdown",
   "metadata": {},
   "source": [
    "### RNN with Embeddings"
   ]
  },
  {
   "cell_type": "code",
   "execution_count": 108,
   "metadata": {},
   "outputs": [
    {
     "name": "stdout",
     "output_type": "stream",
     "text": [
      "Model: \"sequential_21\"\n",
      "_________________________________________________________________\n",
      " Layer (type)                Output Shape              Param #   \n",
      "=================================================================\n",
      " embedding (Embedding)       (None, 50, 16)            160000    \n",
      "                                                                 \n",
      " rnn30 (SimpleRNN)           (None, 30)                1410      \n",
      "                                                                 \n",
      " dense32 (Dense)             (None, 32)                992       \n",
      "                                                                 \n",
      " batch1 (BatchNormalization)  (None, 32)               128       \n",
      "                                                                 \n",
      " dropout1 (Dropout)          (None, 32)                0         \n",
      "                                                                 \n",
      " dense16 (Dense)             (None, 16)                528       \n",
      "                                                                 \n",
      " batch2 (BatchNormalization)  (None, 16)               64        \n",
      "                                                                 \n",
      " dropout2 (Dropout)          (None, 16)                0         \n",
      "                                                                 \n",
      " last_dense1 (Dense)         (None, 1)                 17        \n",
      "                                                                 \n",
      "=================================================================\n",
      "Total params: 163,139\n",
      "Trainable params: 163,043\n",
      "Non-trainable params: 96\n",
      "_________________________________________________________________\n"
     ]
    }
   ],
   "source": [
    "# Build the model\n",
    "model = tf.keras.Sequential([\n",
    "    tf.keras.layers.Embedding(\n",
    "        vocab_size, embedding_dim, input_length=max_length, name=\"embedding\"),\n",
    "    tf.keras.layers.SimpleRNN(30, name=\"rnn30\", return_sequences=False),\n",
    "\n",
    "    # tf.keras.layers.Flatten(),\n",
    "\n",
    "    tf.keras.layers.Dense(32, activation='relu', name=\"dense32\"),\n",
    "    tf.keras.layers.BatchNormalization(name=\"batch1\"),\n",
    "    tf.keras.layers.Dropout(0.3, name=\"dropout1\"),\n",
    "\n",
    "    tf.keras.layers.Dense(16, activation='relu', name=\"dense16\"),\n",
    "    tf.keras.layers.BatchNormalization(name=\"batch2\"),\n",
    "    tf.keras.layers.Dropout(0.3, name=\"dropout2\"),\n",
    "\n",
    "\n",
    "    tf.keras.layers.Dense(1, activation='sigmoid', name=\"last_dense1\")\n",
    "])\n",
    "\n",
    "# Print the model summary\n",
    "model.summary()"
   ]
  },
  {
   "cell_type": "code",
   "execution_count": 109,
   "metadata": {},
   "outputs": [],
   "source": [
    "model.compile(optimizer=tf.keras.optimizers.Adam(learning_rate=0.00001),\n",
    "              loss='binary_crossentropy',\n",
    "              metrics=['binary_accuracy'])"
   ]
  },
  {
   "cell_type": "code",
   "execution_count": 110,
   "metadata": {},
   "outputs": [
    {
     "name": "stdout",
     "output_type": "stream",
     "text": [
      "Epoch 1/30\n"
     ]
    },
    {
     "name": "stdout",
     "output_type": "stream",
     "text": [
      "668/668 - 10s - loss: 0.9385 - binary_accuracy: 0.4837 - val_loss: 0.7623 - val_binary_accuracy: 0.4798 - 10s/epoch - 15ms/step\n",
      "Epoch 2/30\n",
      "668/668 - 10s - loss: 0.8875 - binary_accuracy: 0.5011 - val_loss: 0.7588 - val_binary_accuracy: 0.5167 - 10s/epoch - 14ms/step\n",
      "Epoch 3/30\n",
      "668/668 - 8s - loss: 0.8685 - binary_accuracy: 0.4981 - val_loss: 0.7459 - val_binary_accuracy: 0.5148 - 8s/epoch - 12ms/step\n",
      "Epoch 4/30\n",
      "668/668 - 8s - loss: 0.8514 - binary_accuracy: 0.5084 - val_loss: 0.7437 - val_binary_accuracy: 0.5107 - 8s/epoch - 12ms/step\n",
      "Epoch 5/30\n",
      "668/668 - 9s - loss: 0.8344 - binary_accuracy: 0.5157 - val_loss: 0.7381 - val_binary_accuracy: 0.5202 - 9s/epoch - 13ms/step\n",
      "Epoch 6/30\n",
      "668/668 - 9s - loss: 0.8248 - binary_accuracy: 0.5198 - val_loss: 0.7259 - val_binary_accuracy: 0.5359 - 9s/epoch - 13ms/step\n",
      "Epoch 7/30\n",
      "668/668 - 8s - loss: 0.8120 - binary_accuracy: 0.5267 - val_loss: 0.7172 - val_binary_accuracy: 0.5425 - 8s/epoch - 13ms/step\n",
      "Epoch 8/30\n",
      "668/668 - 10s - loss: 0.8031 - binary_accuracy: 0.5289 - val_loss: 0.7174 - val_binary_accuracy: 0.5371 - 10s/epoch - 14ms/step\n",
      "Epoch 9/30\n",
      "668/668 - 9s - loss: 0.7963 - binary_accuracy: 0.5349 - val_loss: 0.7067 - val_binary_accuracy: 0.5560 - 9s/epoch - 14ms/step\n",
      "Epoch 10/30\n",
      "668/668 - 9s - loss: 0.7844 - binary_accuracy: 0.5403 - val_loss: 0.7011 - val_binary_accuracy: 0.5560 - 9s/epoch - 14ms/step\n",
      "Epoch 11/30\n",
      "668/668 - 10s - loss: 0.7826 - binary_accuracy: 0.5416 - val_loss: 0.6936 - val_binary_accuracy: 0.5640 - 10s/epoch - 15ms/step\n",
      "Epoch 12/30\n",
      "668/668 - 10s - loss: 0.7701 - binary_accuracy: 0.5460 - val_loss: 0.6891 - val_binary_accuracy: 0.5764 - 10s/epoch - 15ms/step\n",
      "Epoch 13/30\n",
      "668/668 - 12s - loss: 0.7623 - binary_accuracy: 0.5533 - val_loss: 0.6850 - val_binary_accuracy: 0.5805 - 12s/epoch - 17ms/step\n",
      "Epoch 14/30\n",
      "668/668 - 10s - loss: 0.7484 - binary_accuracy: 0.5613 - val_loss: 0.6753 - val_binary_accuracy: 0.5891 - 10s/epoch - 14ms/step\n",
      "Epoch 15/30\n",
      "668/668 - 9s - loss: 0.7454 - binary_accuracy: 0.5654 - val_loss: 0.6674 - val_binary_accuracy: 0.5949 - 9s/epoch - 13ms/step\n",
      "Epoch 16/30\n",
      "668/668 - 10s - loss: 0.7329 - binary_accuracy: 0.5756 - val_loss: 0.6667 - val_binary_accuracy: 0.5966 - 10s/epoch - 14ms/step\n",
      "Epoch 17/30\n",
      "668/668 - 11s - loss: 0.7224 - binary_accuracy: 0.5840 - val_loss: 0.6627 - val_binary_accuracy: 0.6030 - 11s/epoch - 16ms/step\n",
      "Epoch 18/30\n",
      "668/668 - 9s - loss: 0.7138 - binary_accuracy: 0.5881 - val_loss: 0.6639 - val_binary_accuracy: 0.5972 - 9s/epoch - 14ms/step\n",
      "Epoch 19/30\n",
      "668/668 - 8s - loss: 0.7034 - binary_accuracy: 0.6006 - val_loss: 0.6487 - val_binary_accuracy: 0.6133 - 8s/epoch - 11ms/step\n",
      "Epoch 20/30\n",
      "668/668 - 7s - loss: 0.6921 - binary_accuracy: 0.6113 - val_loss: 0.6453 - val_binary_accuracy: 0.6209 - 7s/epoch - 11ms/step\n",
      "Epoch 21/30\n",
      "668/668 - 8s - loss: 0.6882 - binary_accuracy: 0.6094 - val_loss: 0.6366 - val_binary_accuracy: 0.6323 - 8s/epoch - 12ms/step\n",
      "Epoch 22/30\n",
      "668/668 - 10s - loss: 0.6738 - binary_accuracy: 0.6236 - val_loss: 0.6352 - val_binary_accuracy: 0.6340 - 10s/epoch - 15ms/step\n",
      "Epoch 23/30\n",
      "668/668 - 8s - loss: 0.6654 - binary_accuracy: 0.6311 - val_loss: 0.6301 - val_binary_accuracy: 0.6378 - 8s/epoch - 13ms/step\n",
      "Epoch 24/30\n",
      "668/668 - 10s - loss: 0.6490 - binary_accuracy: 0.6444 - val_loss: 0.6340 - val_binary_accuracy: 0.6344 - 10s/epoch - 15ms/step\n",
      "Epoch 25/30\n",
      "668/668 - 10s - loss: 0.6390 - binary_accuracy: 0.6525 - val_loss: 0.6156 - val_binary_accuracy: 0.6518 - 10s/epoch - 14ms/step\n",
      "Epoch 26/30\n",
      "668/668 - 10s - loss: 0.6303 - binary_accuracy: 0.6584 - val_loss: 0.6086 - val_binary_accuracy: 0.6612 - 10s/epoch - 15ms/step\n",
      "Epoch 27/30\n",
      "668/668 - 10s - loss: 0.6159 - binary_accuracy: 0.6740 - val_loss: 0.6083 - val_binary_accuracy: 0.6621 - 10s/epoch - 15ms/step\n",
      "Epoch 28/30\n",
      "668/668 - 8s - loss: 0.6009 - binary_accuracy: 0.6864 - val_loss: 0.6005 - val_binary_accuracy: 0.6700 - 8s/epoch - 12ms/step\n",
      "Epoch 29/30\n",
      "668/668 - 7s - loss: 0.5874 - binary_accuracy: 0.6923 - val_loss: 0.6102 - val_binary_accuracy: 0.6640 - 7s/epoch - 11ms/step\n",
      "Epoch 30/30\n",
      "668/668 - 7s - loss: 0.5774 - binary_accuracy: 0.7047 - val_loss: 0.5898 - val_binary_accuracy: 0.6790 - 7s/epoch - 11ms/step\n"
     ]
    },
    {
     "data": {
      "text/plain": [
       "<keras.callbacks.History at 0x24f285eceb0>"
      ]
     },
     "execution_count": 110,
     "metadata": {},
     "output_type": "execute_result"
    }
   ],
   "source": [
    "model.fit(train_dataset,\n",
    "          validation_data=test_dataset,\n",
    "          epochs=30,\n",
    "          verbose=2,\n",
    "          callbacks=[early_stopping])"
   ]
  },
  {
   "cell_type": "markdown",
   "metadata": {},
   "source": [
    "### RNN Embeddings + Bideriectional"
   ]
  },
  {
   "cell_type": "code",
   "execution_count": 114,
   "metadata": {},
   "outputs": [
    {
     "name": "stdout",
     "output_type": "stream",
     "text": [
      "Model: \"sequential_23\"\n",
      "_________________________________________________________________\n",
      " Layer (type)                Output Shape              Param #   \n",
      "=================================================================\n",
      " embedding (Embedding)       (None, 50, 16)            160000    \n",
      "                                                                 \n",
      " bidirectional_1 (Bidirectio  (None, 50, 60)           2820      \n",
      " nal)                                                            \n",
      "                                                                 \n",
      " bidirectional_2 (Bidirectio  (None, 60)               5460      \n",
      " nal)                                                            \n",
      "                                                                 \n",
      " dense32 (Dense)             (None, 32)                1952      \n",
      "                                                                 \n",
      " batch1 (BatchNormalization)  (None, 32)               128       \n",
      "                                                                 \n",
      " dropout1 (Dropout)          (None, 32)                0         \n",
      "                                                                 \n",
      " dense16 (Dense)             (None, 16)                528       \n",
      "                                                                 \n",
      " batch2 (BatchNormalization)  (None, 16)               64        \n",
      "                                                                 \n",
      " dropout2 (Dropout)          (None, 16)                0         \n",
      "                                                                 \n",
      " last_dense1 (Dense)         (None, 1)                 17        \n",
      "                                                                 \n",
      "=================================================================\n",
      "Total params: 170,969\n",
      "Trainable params: 170,873\n",
      "Non-trainable params: 96\n",
      "_________________________________________________________________\n"
     ]
    }
   ],
   "source": [
    "# Build the model\n",
    "model = tf.keras.Sequential([\n",
    "    tf.keras.layers.Embedding(\n",
    "        vocab_size, embedding_dim, input_length=max_length, name=\"embedding\"),\n",
    "    tf.keras.layers.Bidirectional(tf.keras.layers.SimpleRNN(30, name=\"rnn1_30\", return_sequences=True)),\n",
    "    tf.keras.layers.Bidirectional(tf.keras.layers.SimpleRNN(30, name=\"rnn2_30\", return_sequences=False)),\n",
    "\n",
    "    # tf.keras.layers.Flatten(),\n",
    "\n",
    "    tf.keras.layers.Dense(32, activation='relu', name=\"dense32\"),\n",
    "    tf.keras.layers.BatchNormalization(name=\"batch1\"),\n",
    "    tf.keras.layers.Dropout(0.3, name=\"dropout1\"),\n",
    "\n",
    "    tf.keras.layers.Dense(16, activation='relu', name=\"dense16\"),\n",
    "    tf.keras.layers.BatchNormalization(name=\"batch2\"),\n",
    "    tf.keras.layers.Dropout(0.3, name=\"dropout2\"),\n",
    "\n",
    "\n",
    "    tf.keras.layers.Dense(1, activation='sigmoid', name=\"last_dense1\")\n",
    "])\n",
    "\n",
    "# Print the model summary\n",
    "model.summary()"
   ]
  },
  {
   "cell_type": "code",
   "execution_count": 115,
   "metadata": {},
   "outputs": [],
   "source": [
    "model.compile(optimizer=tf.keras.optimizers.Adam(learning_rate=0.00001),\n",
    "              loss='binary_crossentropy',\n",
    "              metrics=['binary_accuracy'])"
   ]
  },
  {
   "cell_type": "code",
   "execution_count": 116,
   "metadata": {},
   "outputs": [
    {
     "name": "stdout",
     "output_type": "stream",
     "text": [
      "Epoch 1/30\n",
      "668/668 - 26s - loss: 0.9227 - binary_accuracy: 0.5221 - val_loss: 0.7674 - val_binary_accuracy: 0.5271 - 26s/epoch - 39ms/step\n",
      "Epoch 2/30\n",
      "668/668 - 22s - loss: 0.8875 - binary_accuracy: 0.5294 - val_loss: 0.7587 - val_binary_accuracy: 0.5331 - 22s/epoch - 33ms/step\n",
      "Epoch 3/30\n",
      "668/668 - 24s - loss: 0.8706 - binary_accuracy: 0.5367 - val_loss: 0.7434 - val_binary_accuracy: 0.5487 - 24s/epoch - 36ms/step\n",
      "Epoch 4/30\n",
      "668/668 - 24s - loss: 0.8487 - binary_accuracy: 0.5389 - val_loss: 0.7232 - val_binary_accuracy: 0.5567 - 24s/epoch - 36ms/step\n",
      "Epoch 5/30\n",
      "668/668 - 23s - loss: 0.8240 - binary_accuracy: 0.5418 - val_loss: 0.7096 - val_binary_accuracy: 0.5723 - 23s/epoch - 35ms/step\n",
      "Epoch 6/30\n",
      "668/668 - 24s - loss: 0.8088 - binary_accuracy: 0.5501 - val_loss: 0.7016 - val_binary_accuracy: 0.5829 - 24s/epoch - 37ms/step\n",
      "Epoch 7/30\n",
      "668/668 - 24s - loss: 0.7988 - binary_accuracy: 0.5538 - val_loss: 0.6946 - val_binary_accuracy: 0.5857 - 24s/epoch - 37ms/step\n",
      "Epoch 8/30\n",
      "668/668 - 26s - loss: 0.7931 - binary_accuracy: 0.5574 - val_loss: 0.6876 - val_binary_accuracy: 0.5915 - 26s/epoch - 38ms/step\n",
      "Epoch 9/30\n",
      "668/668 - 24s - loss: 0.7692 - binary_accuracy: 0.5706 - val_loss: 0.6829 - val_binary_accuracy: 0.5998 - 24s/epoch - 36ms/step\n",
      "Epoch 10/30\n",
      "668/668 - 25s - loss: 0.7631 - binary_accuracy: 0.5716 - val_loss: 0.6774 - val_binary_accuracy: 0.6089 - 25s/epoch - 37ms/step\n",
      "Epoch 11/30\n",
      "668/668 - 26s - loss: 0.7518 - binary_accuracy: 0.5847 - val_loss: 0.6703 - val_binary_accuracy: 0.6183 - 26s/epoch - 38ms/step\n",
      "Epoch 12/30\n",
      "668/668 - 25s - loss: 0.7420 - binary_accuracy: 0.5852 - val_loss: 0.6616 - val_binary_accuracy: 0.6211 - 25s/epoch - 37ms/step\n",
      "Epoch 13/30\n",
      "668/668 - 27s - loss: 0.7228 - binary_accuracy: 0.5957 - val_loss: 0.6568 - val_binary_accuracy: 0.6252 - 27s/epoch - 41ms/step\n",
      "Epoch 14/30\n",
      "668/668 - 28s - loss: 0.7192 - binary_accuracy: 0.6020 - val_loss: 0.6494 - val_binary_accuracy: 0.6318 - 28s/epoch - 43ms/step\n",
      "Epoch 15/30\n",
      "668/668 - 29s - loss: 0.7069 - binary_accuracy: 0.6124 - val_loss: 0.6436 - val_binary_accuracy: 0.6423 - 29s/epoch - 43ms/step\n",
      "Epoch 16/30\n",
      "668/668 - 29s - loss: 0.6932 - binary_accuracy: 0.6191 - val_loss: 0.6376 - val_binary_accuracy: 0.6486 - 29s/epoch - 43ms/step\n",
      "Epoch 17/30\n",
      "668/668 - 29s - loss: 0.6818 - binary_accuracy: 0.6294 - val_loss: 0.6319 - val_binary_accuracy: 0.6572 - 29s/epoch - 43ms/step\n",
      "Epoch 18/30\n",
      "668/668 - 30s - loss: 0.6689 - binary_accuracy: 0.6379 - val_loss: 0.6240 - val_binary_accuracy: 0.6640 - 30s/epoch - 45ms/step\n",
      "Epoch 19/30\n",
      "668/668 - 29s - loss: 0.6644 - binary_accuracy: 0.6491 - val_loss: 0.6181 - val_binary_accuracy: 0.6703 - 29s/epoch - 43ms/step\n",
      "Epoch 20/30\n",
      "668/668 - 29s - loss: 0.6502 - binary_accuracy: 0.6546 - val_loss: 0.6123 - val_binary_accuracy: 0.6803 - 29s/epoch - 44ms/step\n",
      "Epoch 21/30\n",
      "668/668 - 27s - loss: 0.6396 - binary_accuracy: 0.6639 - val_loss: 0.6042 - val_binary_accuracy: 0.6849 - 27s/epoch - 40ms/step\n",
      "Epoch 22/30\n",
      "668/668 - 29s - loss: 0.6228 - binary_accuracy: 0.6748 - val_loss: 0.5977 - val_binary_accuracy: 0.6900 - 29s/epoch - 44ms/step\n",
      "Epoch 23/30\n",
      "668/668 - 31s - loss: 0.6120 - binary_accuracy: 0.6832 - val_loss: 0.5955 - val_binary_accuracy: 0.6943 - 31s/epoch - 47ms/step\n",
      "Epoch 24/30\n",
      "668/668 - 30s - loss: 0.6004 - binary_accuracy: 0.6930 - val_loss: 0.5895 - val_binary_accuracy: 0.6977 - 30s/epoch - 45ms/step\n",
      "Epoch 25/30\n",
      "668/668 - 30s - loss: 0.5961 - binary_accuracy: 0.7000 - val_loss: 0.5807 - val_binary_accuracy: 0.7069 - 30s/epoch - 44ms/step\n",
      "Epoch 26/30\n",
      "668/668 - 24s - loss: 0.5714 - binary_accuracy: 0.7138 - val_loss: 0.5766 - val_binary_accuracy: 0.7072 - 24s/epoch - 36ms/step\n",
      "Epoch 27/30\n",
      "668/668 - 24s - loss: 0.5662 - binary_accuracy: 0.7226 - val_loss: 0.5692 - val_binary_accuracy: 0.7121 - 24s/epoch - 36ms/step\n",
      "Epoch 28/30\n",
      "668/668 - 27s - loss: 0.5535 - binary_accuracy: 0.7297 - val_loss: 0.5632 - val_binary_accuracy: 0.7185 - 27s/epoch - 41ms/step\n",
      "Epoch 29/30\n",
      "668/668 - 25s - loss: 0.5421 - binary_accuracy: 0.7357 - val_loss: 0.5581 - val_binary_accuracy: 0.7211 - 25s/epoch - 38ms/step\n",
      "Epoch 30/30\n",
      "668/668 - 26s - loss: 0.5305 - binary_accuracy: 0.7468 - val_loss: 0.5515 - val_binary_accuracy: 0.7239 - 26s/epoch - 39ms/step\n"
     ]
    },
    {
     "data": {
      "text/plain": [
       "<keras.callbacks.History at 0x24f371082e0>"
      ]
     },
     "execution_count": 116,
     "metadata": {},
     "output_type": "execute_result"
    }
   ],
   "source": [
    "model.fit(train_dataset,\n",
    "          validation_data=test_dataset,\n",
    "          epochs=30,\n",
    "          verbose=2,\n",
    "          callbacks=[early_stopping])"
   ]
  },
  {
   "cell_type": "code",
   "execution_count": null,
   "metadata": {},
   "outputs": [],
   "source": []
  }
 ],
 "metadata": {
  "kernelspec": {
   "display_name": "base",
   "language": "python",
   "name": "python3"
  },
  "language_info": {
   "codemirror_mode": {
    "name": "ipython",
    "version": 3
   },
   "file_extension": ".py",
   "mimetype": "text/x-python",
   "name": "python",
   "nbconvert_exporter": "python",
   "pygments_lexer": "ipython3",
   "version": "3.10.9"
  }
 },
 "nbformat": 4,
 "nbformat_minor": 2
}
