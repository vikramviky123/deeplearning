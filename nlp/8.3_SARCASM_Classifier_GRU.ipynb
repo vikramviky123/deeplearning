{
 "cells": [
  {
   "cell_type": "code",
   "execution_count": 1,
   "metadata": {},
   "outputs": [],
   "source": [
    "import os\n",
    "import sys\n",
    "from pathlib import Path\n",
    "\n",
    "import pandas as pd\n",
    "import numpy as np\n",
    "\n",
    "from helper import *\n",
    "\n",
    "import re\n",
    "from typing import *\n",
    "\n",
    "import nltk\n",
    "from nltk.corpus import stopwords\n",
    "from nltk.stem.porter import PorterStemmer\n",
    "from nltk.stem import WordNetLemmatizer\n"
   ]
  },
  {
   "cell_type": "markdown",
   "metadata": {},
   "source": [
    "### Data Loading"
   ]
  },
  {
   "cell_type": "code",
   "execution_count": 2,
   "metadata": {},
   "outputs": [],
   "source": [
    "# url = 'https://storage.googleapis.com/tensorflow-1-public/course3/sarcasm.json'"
   ]
  },
  {
   "cell_type": "code",
   "execution_count": 2,
   "metadata": {},
   "outputs": [],
   "source": [
    "save_path = Path(\"data/sarcasm/sarcasm.json\")"
   ]
  },
  {
   "cell_type": "code",
   "execution_count": 3,
   "metadata": {},
   "outputs": [],
   "source": [
    "# download_zip_file(url,save_path)"
   ]
  },
  {
   "cell_type": "code",
   "execution_count": 4,
   "metadata": {},
   "outputs": [],
   "source": [
    "df = pd.read_json(save_path)"
   ]
  },
  {
   "cell_type": "code",
   "execution_count": 5,
   "metadata": {},
   "outputs": [
    {
     "data": {
      "text/html": [
       "<div>\n",
       "<style scoped>\n",
       "    .dataframe tbody tr th:only-of-type {\n",
       "        vertical-align: middle;\n",
       "    }\n",
       "\n",
       "    .dataframe tbody tr th {\n",
       "        vertical-align: top;\n",
       "    }\n",
       "\n",
       "    .dataframe thead th {\n",
       "        text-align: right;\n",
       "    }\n",
       "</style>\n",
       "<table border=\"1\" class=\"dataframe\">\n",
       "  <thead>\n",
       "    <tr style=\"text-align: right;\">\n",
       "      <th></th>\n",
       "      <th>article_link</th>\n",
       "      <th>headline</th>\n",
       "      <th>is_sarcastic</th>\n",
       "    </tr>\n",
       "  </thead>\n",
       "  <tbody>\n",
       "    <tr>\n",
       "      <th>0</th>\n",
       "      <td>https://www.huffingtonpost.com/entry/versace-b...</td>\n",
       "      <td>former versace store clerk sues over secret 'b...</td>\n",
       "      <td>0</td>\n",
       "    </tr>\n",
       "    <tr>\n",
       "      <th>1</th>\n",
       "      <td>https://www.huffingtonpost.com/entry/roseanne-...</td>\n",
       "      <td>the 'roseanne' revival catches up to our thorn...</td>\n",
       "      <td>0</td>\n",
       "    </tr>\n",
       "    <tr>\n",
       "      <th>2</th>\n",
       "      <td>https://local.theonion.com/mom-starting-to-fea...</td>\n",
       "      <td>mom starting to fear son's web series closest ...</td>\n",
       "      <td>1</td>\n",
       "    </tr>\n",
       "    <tr>\n",
       "      <th>3</th>\n",
       "      <td>https://politics.theonion.com/boehner-just-wan...</td>\n",
       "      <td>boehner just wants wife to listen, not come up...</td>\n",
       "      <td>1</td>\n",
       "    </tr>\n",
       "    <tr>\n",
       "      <th>4</th>\n",
       "      <td>https://www.huffingtonpost.com/entry/jk-rowlin...</td>\n",
       "      <td>j.k. rowling wishes snape happy birthday in th...</td>\n",
       "      <td>0</td>\n",
       "    </tr>\n",
       "  </tbody>\n",
       "</table>\n",
       "</div>"
      ],
      "text/plain": [
       "                                        article_link  \\\n",
       "0  https://www.huffingtonpost.com/entry/versace-b...   \n",
       "1  https://www.huffingtonpost.com/entry/roseanne-...   \n",
       "2  https://local.theonion.com/mom-starting-to-fea...   \n",
       "3  https://politics.theonion.com/boehner-just-wan...   \n",
       "4  https://www.huffingtonpost.com/entry/jk-rowlin...   \n",
       "\n",
       "                                            headline  is_sarcastic  \n",
       "0  former versace store clerk sues over secret 'b...             0  \n",
       "1  the 'roseanne' revival catches up to our thorn...             0  \n",
       "2  mom starting to fear son's web series closest ...             1  \n",
       "3  boehner just wants wife to listen, not come up...             1  \n",
       "4  j.k. rowling wishes snape happy birthday in th...             0  "
      ]
     },
     "execution_count": 5,
     "metadata": {},
     "output_type": "execute_result"
    }
   ],
   "source": [
    "df.head()"
   ]
  },
  {
   "cell_type": "code",
   "execution_count": 6,
   "metadata": {},
   "outputs": [
    {
     "name": "stdout",
     "output_type": "stream",
     "text": [
      "<class 'pandas.core.frame.DataFrame'>\n",
      "RangeIndex: 26709 entries, 0 to 26708\n",
      "Data columns (total 3 columns):\n",
      " #   Column        Non-Null Count  Dtype \n",
      "---  ------        --------------  ----- \n",
      " 0   article_link  26709 non-null  object\n",
      " 1   headline      26709 non-null  object\n",
      " 2   is_sarcastic  26709 non-null  int64 \n",
      "dtypes: int64(1), object(2)\n",
      "memory usage: 626.1+ KB\n"
     ]
    }
   ],
   "source": [
    "df.info()"
   ]
  },
  {
   "cell_type": "code",
   "execution_count": 7,
   "metadata": {},
   "outputs": [
    {
     "data": {
      "text/plain": [
       "'https://www.huffingtonpost.com/entry/versace-black-code_us_5861fbefe4b0de3a08f600d5'"
      ]
     },
     "execution_count": 7,
     "metadata": {},
     "output_type": "execute_result"
    }
   ],
   "source": [
    "df['article_link'][0]"
   ]
  },
  {
   "cell_type": "code",
   "execution_count": 8,
   "metadata": {},
   "outputs": [],
   "source": [
    "def main_name(x):\n",
    "    return re.findall(r'\\.(.*?)\\.', x)[0]"
   ]
  },
  {
   "cell_type": "code",
   "execution_count": 9,
   "metadata": {},
   "outputs": [],
   "source": [
    "df['main_name'] = df['article_link'].apply(main_name)"
   ]
  },
  {
   "cell_type": "code",
   "execution_count": 10,
   "metadata": {},
   "outputs": [
    {
     "data": {
      "text/html": [
       "<div>\n",
       "<style scoped>\n",
       "    .dataframe tbody tr th:only-of-type {\n",
       "        vertical-align: middle;\n",
       "    }\n",
       "\n",
       "    .dataframe tbody tr th {\n",
       "        vertical-align: top;\n",
       "    }\n",
       "\n",
       "    .dataframe thead th {\n",
       "        text-align: right;\n",
       "    }\n",
       "</style>\n",
       "<table border=\"1\" class=\"dataframe\">\n",
       "  <thead>\n",
       "    <tr style=\"text-align: right;\">\n",
       "      <th></th>\n",
       "      <th>article_link</th>\n",
       "      <th>headline</th>\n",
       "      <th>is_sarcastic</th>\n",
       "      <th>main_name</th>\n",
       "    </tr>\n",
       "  </thead>\n",
       "  <tbody>\n",
       "    <tr>\n",
       "      <th>0</th>\n",
       "      <td>https://www.huffingtonpost.com/entry/versace-b...</td>\n",
       "      <td>former versace store clerk sues over secret 'b...</td>\n",
       "      <td>0</td>\n",
       "      <td>huffingtonpost</td>\n",
       "    </tr>\n",
       "    <tr>\n",
       "      <th>1</th>\n",
       "      <td>https://www.huffingtonpost.com/entry/roseanne-...</td>\n",
       "      <td>the 'roseanne' revival catches up to our thorn...</td>\n",
       "      <td>0</td>\n",
       "      <td>huffingtonpost</td>\n",
       "    </tr>\n",
       "    <tr>\n",
       "      <th>2</th>\n",
       "      <td>https://local.theonion.com/mom-starting-to-fea...</td>\n",
       "      <td>mom starting to fear son's web series closest ...</td>\n",
       "      <td>1</td>\n",
       "      <td>theonion</td>\n",
       "    </tr>\n",
       "    <tr>\n",
       "      <th>3</th>\n",
       "      <td>https://politics.theonion.com/boehner-just-wan...</td>\n",
       "      <td>boehner just wants wife to listen, not come up...</td>\n",
       "      <td>1</td>\n",
       "      <td>theonion</td>\n",
       "    </tr>\n",
       "    <tr>\n",
       "      <th>4</th>\n",
       "      <td>https://www.huffingtonpost.com/entry/jk-rowlin...</td>\n",
       "      <td>j.k. rowling wishes snape happy birthday in th...</td>\n",
       "      <td>0</td>\n",
       "      <td>huffingtonpost</td>\n",
       "    </tr>\n",
       "  </tbody>\n",
       "</table>\n",
       "</div>"
      ],
      "text/plain": [
       "                                        article_link  \\\n",
       "0  https://www.huffingtonpost.com/entry/versace-b...   \n",
       "1  https://www.huffingtonpost.com/entry/roseanne-...   \n",
       "2  https://local.theonion.com/mom-starting-to-fea...   \n",
       "3  https://politics.theonion.com/boehner-just-wan...   \n",
       "4  https://www.huffingtonpost.com/entry/jk-rowlin...   \n",
       "\n",
       "                                            headline  is_sarcastic  \\\n",
       "0  former versace store clerk sues over secret 'b...             0   \n",
       "1  the 'roseanne' revival catches up to our thorn...             0   \n",
       "2  mom starting to fear son's web series closest ...             1   \n",
       "3  boehner just wants wife to listen, not come up...             1   \n",
       "4  j.k. rowling wishes snape happy birthday in th...             0   \n",
       "\n",
       "        main_name  \n",
       "0  huffingtonpost  \n",
       "1  huffingtonpost  \n",
       "2        theonion  \n",
       "3        theonion  \n",
       "4  huffingtonpost  "
      ]
     },
     "execution_count": 10,
     "metadata": {},
     "output_type": "execute_result"
    }
   ],
   "source": [
    "df.head()"
   ]
  },
  {
   "cell_type": "code",
   "execution_count": 11,
   "metadata": {},
   "outputs": [
    {
     "data": {
      "text/plain": [
       "huffingtonpost    0.561047\n",
       "theonion          0.438953\n",
       "Name: main_name, dtype: float64"
      ]
     },
     "execution_count": 11,
     "metadata": {},
     "output_type": "execute_result"
    }
   ],
   "source": [
    "df['main_name'].value_counts(1)"
   ]
  },
  {
   "cell_type": "code",
   "execution_count": 12,
   "metadata": {},
   "outputs": [],
   "source": [
    "sentences = df['headline'].to_list()\n",
    "labels = df['is_sarcastic'].to_list()"
   ]
  },
  {
   "cell_type": "code",
   "execution_count": 13,
   "metadata": {},
   "outputs": [
    {
     "data": {
      "text/plain": [
       "([\"former versace store clerk sues over secret 'black code' for minority shoppers\",\n",
       "  \"the 'roseanne' revival catches up to our thorny political mood, for better and worse\",\n",
       "  \"mom starting to fear son's web series closest thing she will have to grandchild\"],\n",
       " [0, 0, 1])"
      ]
     },
     "execution_count": 13,
     "metadata": {},
     "output_type": "execute_result"
    }
   ],
   "source": [
    "sentences[:3], labels[:3]"
   ]
  },
  {
   "cell_type": "code",
   "execution_count": null,
   "metadata": {},
   "outputs": [],
   "source": []
  },
  {
   "cell_type": "markdown",
   "metadata": {},
   "source": [
    "### 1.Cleaning the Data"
   ]
  },
  {
   "cell_type": "code",
   "execution_count": 19,
   "metadata": {},
   "outputs": [],
   "source": [
    "def clean_data(sentences:List):\n",
    "    ps = PorterStemmer()\n",
    "    corpus = []\n",
    "    for i in range(0, len(sentences)):\n",
    "        each_sentence = re.sub('[^a-zA-Z]', ' ', sentences[i])\n",
    "        each_sentence = each_sentence.lower()\n",
    "        each_sentence = each_sentence.split()\n",
    "\n",
    "        each_sentence = [ps.stem(word)\n",
    "                         for word in each_sentence if not word in stopwords.words('english')]\n",
    "        each_sentence = ' '.join(each_sentence)\n",
    "        corpus.append(each_sentence)\n",
    "    return corpus"
   ]
  },
  {
   "cell_type": "code",
   "execution_count": 20,
   "metadata": {},
   "outputs": [],
   "source": [
    "clean_sentences = clean_data(sentences)"
   ]
  },
  {
   "cell_type": "code",
   "execution_count": 21,
   "metadata": {},
   "outputs": [
    {
     "data": {
      "text/plain": [
       "['former versac store clerk sue secret black code minor shopper',\n",
       " 'roseann reviv catch thorni polit mood better wors',\n",
       " 'mom start fear son web seri closest thing grandchild']"
      ]
     },
     "execution_count": 21,
     "metadata": {},
     "output_type": "execute_result"
    }
   ],
   "source": [
    "clean_sentences[:3]"
   ]
  },
  {
   "cell_type": "markdown",
   "metadata": {},
   "source": [
    "### 2.Train test Split"
   ]
  },
  {
   "cell_type": "code",
   "execution_count": 22,
   "metadata": {},
   "outputs": [],
   "source": [
    "from sklearn.model_selection import train_test_split\n",
    "from sklearn.metrics import accuracy_score\n",
    "\n",
    "X_train, X_test, y_train, y_test = train_test_split(\n",
    "    clean_sentences, labels, test_size=0.20, random_state=0, stratify=labels)"
   ]
  },
  {
   "cell_type": "code",
   "execution_count": 23,
   "metadata": {},
   "outputs": [
    {
     "data": {
      "text/plain": [
       "['share hazmat suit maker spike nyc ebola news',\n",
       " 'miss america call u n council promot enough world peac',\n",
       " 'tarsier world smallest primat anim planet looney front part']"
      ]
     },
     "execution_count": 23,
     "metadata": {},
     "output_type": "execute_result"
    }
   ],
   "source": [
    "X_train[:3]"
   ]
  },
  {
   "cell_type": "code",
   "execution_count": 24,
   "metadata": {},
   "outputs": [
    {
     "data": {
      "text/plain": [
       "0    0.561052\n",
       "1    0.438948\n",
       "dtype: float64"
      ]
     },
     "execution_count": 24,
     "metadata": {},
     "output_type": "execute_result"
    }
   ],
   "source": [
    "pd.Series(y_train).value_counts(1)"
   ]
  },
  {
   "cell_type": "code",
   "execution_count": 25,
   "metadata": {},
   "outputs": [
    {
     "data": {
      "text/plain": [
       "0    0.561026\n",
       "1    0.438974\n",
       "dtype: float64"
      ]
     },
     "execution_count": 25,
     "metadata": {},
     "output_type": "execute_result"
    }
   ],
   "source": [
    "pd.Series(y_test).value_counts(1)"
   ]
  },
  {
   "cell_type": "markdown",
   "metadata": {},
   "source": [
    "### 3.TensorFlow Embeddings"
   ]
  },
  {
   "cell_type": "code",
   "execution_count": 26,
   "metadata": {},
   "outputs": [],
   "source": [
    "import numpy as np\n",
    "import pandas as pd\n",
    "\n",
    "import seaborn as sns\n",
    "import matplotlib.pyplot as plt\n",
    "\n",
    "%matplotlib inline\n",
    "\n",
    "import tensorflow as tf\n",
    "from tensorflow.keras.preprocessing.text import Tokenizer\n",
    "from tensorflow.keras.preprocessing.sequence import pad_sequences"
   ]
  },
  {
   "cell_type": "code",
   "execution_count": 27,
   "metadata": {},
   "outputs": [],
   "source": [
    "# Vocabulary size of the tokenizer\n",
    "vocab_size = 10000\n",
    "\n",
    "# Maximum length of the padded sequences\n",
    "max_length = 50\n",
    "\n",
    "# Output dimensions of the Embedding layer\n",
    "embedding_dim = 16"
   ]
  },
  {
   "cell_type": "code",
   "execution_count": 28,
   "metadata": {},
   "outputs": [
    {
     "data": {
      "text/plain": [
       "['share hazmat suit maker spike nyc ebola news',\n",
       " 'miss america call u n council promot enough world peac',\n",
       " 'tarsier world smallest primat anim planet looney front part']"
      ]
     },
     "execution_count": 28,
     "metadata": {},
     "output_type": "execute_result"
    }
   ],
   "source": [
    "X_train[:3]"
   ]
  },
  {
   "cell_type": "code",
   "execution_count": 29,
   "metadata": {},
   "outputs": [],
   "source": [
    "# Parameters for padding and OOV tokens\n",
    "trunc_type = 'post'\n",
    "padding_type = 'post'\n",
    "oov_tok = \"<OOV>\"\n",
    "\n",
    "# Initialize the Tokenizer class\n",
    "tokenizer = Tokenizer(num_words=vocab_size, oov_token=oov_tok)\n",
    "\n",
    "# Generate the word index dictionary\n",
    "tokenizer.fit_on_texts(X_train)\n",
    "word_index = tokenizer.word_index\n",
    "\n",
    "# Generate and pad the training sequences\n",
    "training_sequences = tokenizer.texts_to_sequences(X_train)\n",
    "training_padded = pad_sequences(\n",
    "    training_sequences, maxlen=max_length, padding=padding_type, truncating=trunc_type)\n",
    "\n",
    "# Generate and pad the testing sequences\n",
    "testing_sequences = tokenizer.texts_to_sequences(X_test)\n",
    "testing_padded = pad_sequences(\n",
    "    testing_sequences, maxlen=max_length, padding=padding_type, truncating=trunc_type)\n",
    "\n",
    "# Convert the labels lists into numpy arrays\n",
    "training_labels = np.array(y_train)\n",
    "testing_labels = np.array(y_test)"
   ]
  },
  {
   "cell_type": "code",
   "execution_count": 30,
   "metadata": {},
   "outputs": [
    {
     "data": {
      "text/plain": [
       "(21367, 50)"
      ]
     },
     "execution_count": 30,
     "metadata": {},
     "output_type": "execute_result"
    }
   ],
   "source": [
    "training_padded.shape"
   ]
  },
  {
   "cell_type": "code",
   "execution_count": 31,
   "metadata": {},
   "outputs": [],
   "source": [
    "train_dataset = tf.data.Dataset.from_tensor_slices(\n",
    "    (training_padded, training_labels))\n",
    "train_dataset = (train_dataset\n",
    "                 .shuffle(buffer_size=8, reshuffle_each_iteration=True)\n",
    "                 .batch(32)\n",
    "                 .prefetch(tf.data.AUTOTUNE))"
   ]
  },
  {
   "cell_type": "code",
   "execution_count": 32,
   "metadata": {},
   "outputs": [],
   "source": [
    "test_dataset = tf.data.Dataset.from_tensor_slices(\n",
    "    (testing_padded, testing_labels))\n",
    "test_dataset = (test_dataset\n",
    "                .shuffle(buffer_size=8, reshuffle_each_iteration=True)\n",
    "                .batch(32)\n",
    "                .prefetch(tf.data.AUTOTUNE))"
   ]
  },
  {
   "cell_type": "code",
   "execution_count": 33,
   "metadata": {},
   "outputs": [],
   "source": [
    "early_stopping = tf.keras.callbacks.EarlyStopping(\n",
    "    monitor='val_loss',\n",
    "    min_delta=0.0001,\n",
    "    patience=5,\n",
    "    verbose=0,\n",
    "    mode='auto',\n",
    "    # baseline=None,\n",
    "    restore_best_weights=True,\n",
    "    # start_from_epoch=0\n",
    ")"
   ]
  },
  {
   "cell_type": "code",
   "execution_count": 38,
   "metadata": {},
   "outputs": [],
   "source": [
    "def plot_dict(myDict):\n",
    "    plt.figure(figsize=(15, 5))\n",
    "    plt.subplot(1, 2, 1)\n",
    "    plt.plot(myDict['loss'])\n",
    "    plt.plot(myDict['val_loss'])\n",
    "    plt.subplot(1, 2, 2)\n",
    "    plt.plot(myDict['accuracy'])\n",
    "    plt.plot(myDict['val_accuracy'])\n",
    "    plt.tight_layout()\n",
    "    plt.show()"
   ]
  },
  {
   "cell_type": "markdown",
   "metadata": {},
   "source": [
    "### With Dense & CONV 1D"
   ]
  },
  {
   "cell_type": "code",
   "execution_count": 76,
   "metadata": {},
   "outputs": [
    {
     "name": "stdout",
     "output_type": "stream",
     "text": [
      "Model: \"sequential_9\"\n",
      "_________________________________________________________________\n",
      " Layer (type)                Output Shape              Param #   \n",
      "=================================================================\n",
      " embedding (Embedding)       (None, 50, 16)            160000    \n",
      "                                                                 \n",
      " conv1d_10 (Conv1D)          (None, 46, 128)           10368     \n",
      "                                                                 \n",
      " global_max_pooling1d_11 (Gl  (None, 128)              0         \n",
      " obalMaxPooling1D)                                               \n",
      "                                                                 \n",
      " dense32 (Dense)             (None, 32)                4128      \n",
      "                                                                 \n",
      " batch1 (BatchNormalization)  (None, 32)               128       \n",
      "                                                                 \n",
      " dropout1 (Dropout)          (None, 32)                0         \n",
      "                                                                 \n",
      " dense16 (Dense)             (None, 16)                528       \n",
      "                                                                 \n",
      " batch2 (BatchNormalization)  (None, 16)               64        \n",
      "                                                                 \n",
      " dropout2 (Dropout)          (None, 16)                0         \n",
      "                                                                 \n",
      " last_dense1 (Dense)         (None, 1)                 17        \n",
      "                                                                 \n",
      "=================================================================\n",
      "Total params: 175,233\n",
      "Trainable params: 175,137\n",
      "Non-trainable params: 96\n",
      "_________________________________________________________________\n"
     ]
    }
   ],
   "source": [
    "# Build the model\n",
    "filters = 128\n",
    "kernel_size = 5\n",
    "\n",
    "model = tf.keras.Sequential([\n",
    "\n",
    "    tf.keras.layers.Embedding(\n",
    "\n",
    "        vocab_size, embedding_dim, input_length=max_length,name=\"embedding\"),\n",
    "    \n",
    "    tf.keras.layers.Conv1D(filters, kernel_size,padding='valid', activation='relu'),\n",
    "    tf.keras.layers.GlobalMaxPooling1D(), \n",
    "\n",
    "    # tf.keras.layers.Flatten(),\n",
    "    \n",
    "    tf.keras.layers.Dense(32, activation='relu', name=\"dense32\"),\n",
    "    tf.keras.layers.BatchNormalization(name=\"batch1\"),    \n",
    "    tf.keras.layers.Dropout(0.3, name=\"dropout1\"),    \n",
    "\n",
    "    tf.keras.layers.Dense(16, activation='relu', name=\"dense16\"),\n",
    "    tf.keras.layers.BatchNormalization(name=\"batch2\"),\n",
    "    tf.keras.layers.Dropout(0.3, name=\"dropout2\"),\n",
    "\n",
    "    tf.keras.layers.Dense(1, activation='sigmoid', name=\"last_dense1\")\n",
    "])\n",
    "\n",
    "# Print the model summary\n",
    "model.summary()"
   ]
  },
  {
   "cell_type": "code",
   "execution_count": 77,
   "metadata": {},
   "outputs": [],
   "source": [
    "# Compile the model\n",
    "model.compile(loss='binary_crossentropy', \n",
    "              optimizer=tf.keras.optimizers.Adam(learning_rate= 0.00001),\n",
    "              metrics=['accuracy'])"
   ]
  },
  {
   "cell_type": "code",
   "execution_count": 78,
   "metadata": {},
   "outputs": [
    {
     "name": "stdout",
     "output_type": "stream",
     "text": [
      "668/668 - 6s - loss: 0.7490 - accuracy: 0.5795 - val_loss: 0.7142 - val_accuracy: 0.5674 - 6s/epoch - 9ms/step\n",
      "Epoch 13/30\n",
      "668/668 - 6s - loss: 0.7444 - accuracy: 0.5808 - val_loss: 0.7123 - val_accuracy: 0.5698 - 6s/epoch - 9ms/step\n",
      "Epoch 14/30\n",
      "668/668 - 6s - loss: 0.7373 - accuracy: 0.5858 - val_loss: 0.7091 - val_accuracy: 0.5715 - 6s/epoch - 9ms/step\n",
      "Epoch 15/30\n",
      "668/668 - 6s - loss: 0.7269 - accuracy: 0.5919 - val_loss: 0.7078 - val_accuracy: 0.5766 - 6s/epoch - 9ms/step\n",
      "Epoch 16/30\n",
      "668/668 - 7s - loss: 0.7267 - accuracy: 0.5928 - val_loss: 0.7050 - val_accuracy: 0.5792 - 7s/epoch - 10ms/step\n",
      "Epoch 17/30\n",
      "668/668 - 6s - loss: 0.7168 - accuracy: 0.6002 - val_loss: 0.7024 - val_accuracy: 0.5790 - 6s/epoch - 9ms/step\n",
      "Epoch 18/30\n",
      "668/668 - 6s - loss: 0.7016 - accuracy: 0.6097 - val_loss: 0.7009 - val_accuracy: 0.5790 - 6s/epoch - 9ms/step\n",
      "Epoch 19/30\n",
      "668/668 - 6s - loss: 0.6989 - accuracy: 0.6135 - val_loss: 0.6992 - val_accuracy: 0.5794 - 6s/epoch - 9ms/step\n",
      "Epoch 20/30\n",
      "668/668 - 6s - loss: 0.6971 - accuracy: 0.6172 - val_loss: 0.6958 - val_accuracy: 0.5844 - 6s/epoch - 10ms/step\n",
      "Epoch 21/30\n",
      "668/668 - 6s - loss: 0.6827 - accuracy: 0.6212 - val_loss: 0.6950 - val_accuracy: 0.5865 - 6s/epoch - 9ms/step\n",
      "Epoch 22/30\n",
      "668/668 - 6s - loss: 0.6775 - accuracy: 0.6279 - val_loss: 0.6930 - val_accuracy: 0.5904 - 6s/epoch - 9ms/step\n",
      "Epoch 23/30\n",
      "668/668 - 6s - loss: 0.6702 - accuracy: 0.6337 - val_loss: 0.6903 - val_accuracy: 0.5942 - 6s/epoch - 9ms/step\n",
      "Epoch 24/30\n",
      "668/668 - 6s - loss: 0.6607 - accuracy: 0.6390 - val_loss: 0.6894 - val_accuracy: 0.5953 - 6s/epoch - 9ms/step\n",
      "Epoch 25/30\n",
      "668/668 - 6s - loss: 0.6508 - accuracy: 0.6498 - val_loss: 0.6862 - val_accuracy: 0.5994 - 6s/epoch - 9ms/step\n",
      "Epoch 26/30\n",
      "668/668 - 7s - loss: 0.6504 - accuracy: 0.6503 - val_loss: 0.6844 - val_accuracy: 0.6020 - 7s/epoch - 10ms/step\n",
      "Epoch 27/30\n",
      "668/668 - 6s - loss: 0.6418 - accuracy: 0.6563 - val_loss: 0.6805 - val_accuracy: 0.6033 - 6s/epoch - 9ms/step\n",
      "Epoch 28/30\n",
      "668/668 - 6s - loss: 0.6350 - accuracy: 0.6607 - val_loss: 0.6791 - val_accuracy: 0.6046 - 6s/epoch - 9ms/step\n",
      "Epoch 29/30\n",
      "668/668 - 6s - loss: 0.6315 - accuracy: 0.6638 - val_loss: 0.6773 - val_accuracy: 0.6112 - 6s/epoch - 9ms/step\n",
      "Epoch 30/30\n",
      "668/668 - 6s - loss: 0.6234 - accuracy: 0.6717 - val_loss: 0.6739 - val_accuracy: 0.6174 - 6s/epoch - 9ms/step\n"
     ]
    }
   ],
   "source": [
    "num_epochs = 30\n",
    "\n",
    "# Train the model\n",
    "history = model.fit(train_dataset, \n",
    "                    validation_data =test_dataset, \n",
    "                    epochs=num_epochs,\n",
    "                    verbose=2,\n",
    "                    callbacks=[early_stopping])"
   ]
  },
  {
   "cell_type": "code",
   "execution_count": 79,
   "metadata": {},
   "outputs": [
    {
     "name": "stdout",
     "output_type": "stream",
     "text": [
      "167/167 [==============================] - 1s 5ms/step - loss: 0.6739 - accuracy: 0.6174\n"
     ]
    },
    {
     "data": {
      "text/plain": [
       "[0.6739043593406677, 0.6173717975616455]"
      ]
     },
     "execution_count": 79,
     "metadata": {},
     "output_type": "execute_result"
    }
   ],
   "source": [
    "model.evaluate(testing_padded,testing_labels)"
   ]
  },
  {
   "cell_type": "code",
   "execution_count": 80,
   "metadata": {},
   "outputs": [],
   "source": [
    "myDict = history.history"
   ]
  },
  {
   "cell_type": "code",
   "execution_count": 81,
   "metadata": {},
   "outputs": [
    {
     "data": {
      "image/png": "[encoded data removed]",
      "text/plain": [
       "<Figure size 1500x500 with 2 Axes>"
      ]
     },
     "metadata": {},
     "output_type": "display_data"
    }
   ],
   "source": [
    "plot_dict(myDict)"
   ]
  },
  {
   "cell_type": "markdown",
   "metadata": {},
   "source": [
    "### 4.GRU"
   ]
  },
  {
   "cell_type": "code",
   "execution_count": 82,
   "metadata": {},
   "outputs": [
    {
     "name": "stdout",
     "output_type": "stream",
     "text": [
      "Model: \"sequential_10\"\n",
      "_________________________________________________________________\n",
      " Layer (type)                Output Shape              Param #   \n",
      "=================================================================\n",
      " gru (GRU)                   (None, 3)                 72        \n",
      "                                                                 \n",
      " dense (Dense)               (None, 5)                 20        \n",
      "                                                                 \n",
      " dense_1 (Dense)             (None, 2)                 12        \n",
      "                                                                 \n",
      "=================================================================\n",
      "Total params: 104\n",
      "Trainable params: 104\n",
      "Non-trainable params: 0\n",
      "_________________________________________________________________\n"
     ]
    }
   ],
   "source": [
    "model = tf.keras.Sequential([\n",
    "    tf.keras.layers.GRU(3,input_shape=(40,3)),\n",
    "    tf.keras.layers.Dense(5),\n",
    "    tf.keras.layers.Dense(2)\n",
    "])\n",
    "model.summary()"
   ]
  },
  {
   "cell_type": "code",
   "execution_count": 83,
   "metadata": {},
   "outputs": [
    {
     "name": "stdout",
     "output_type": "stream",
     "text": [
      "(3, 9)\n"
     ]
    },
    {
     "data": {
      "text/plain": [
       "array([[ 0.00698221,  0.48150665, -0.24228805,  0.18524837,  0.38073546,\n",
       "        -0.15898716,  0.5191408 , -0.1553747 ,  0.5462535 ],\n",
       "       [ 0.4624607 ,  0.14442712,  0.06200308,  0.12151188,  0.19565392,\n",
       "         0.09923393, -0.67494756, -0.34716645, -0.06138349],\n",
       "       [-0.41449857, -0.15467525,  0.46401352,  0.37507898,  0.04946357,\n",
       "        -0.43800116,  0.21605217, -0.1549741 ,  0.6148121 ]],\n",
       "      dtype=float32)"
      ]
     },
     "execution_count": 83,
     "metadata": {},
     "output_type": "execute_result"
    }
   ],
   "source": [
    "# Sending input as 3 rows(each sentence) x 5 columns (embedding vector of each word)\n",
    "# i have 3 RNN's with 5 vectors of each word weights = 5x3\n",
    "print(model.get_weights()[0].shape)\n",
    "model.get_weights()[0]"
   ]
  },
  {
   "cell_type": "code",
   "execution_count": 84,
   "metadata": {},
   "outputs": [
    {
     "name": "stdout",
     "output_type": "stream",
     "text": [
      "(3, 9)\n"
     ]
    },
    {
     "data": {
      "text/plain": [
       "array([[-0.11785781, -0.29095802, -0.04321792,  0.38132676,  0.18667985,\n",
       "        -0.20917755, -0.3375322 ,  0.37639368,  0.6480512 ],\n",
       "       [-0.5639622 , -0.3917209 ,  0.05229671, -0.42308605,  0.49941558,\n",
       "        -0.02339747, -0.02614227, -0.30983096, -0.01107621],\n",
       "       [-0.15648174,  0.14914753, -0.59049004, -0.43190032, -0.37585354,\n",
       "        -0.06836132, -0.51815194,  0.02749897,  0.05362184]],\n",
       "      dtype=float32)"
      ]
     },
     "execution_count": 84,
     "metadata": {},
     "output_type": "execute_result"
    }
   ],
   "source": [
    "# If i use 3 RNN's means it has 3x3 matrix to hold each others input\n",
    "# the connection between 5 vectors and 3 RNN cells holds 5x3 weights + 3x3 time weights\n",
    "print(model.get_weights()[1].shape)\n",
    "model.get_weights()[1]"
   ]
  },
  {
   "cell_type": "code",
   "execution_count": 85,
   "metadata": {},
   "outputs": [
    {
     "data": {
      "text/plain": [
       "array([[0., 0., 0., 0., 0., 0., 0., 0., 0.],\n",
       "       [0., 0., 0., 0., 0., 0., 0., 0., 0.]], dtype=float32)"
      ]
     },
     "execution_count": 85,
     "metadata": {},
     "output_type": "execute_result"
    }
   ],
   "source": [
    "# Bias of 3 RNN cells\n",
    "model.get_weights()[2]"
   ]
  },
  {
   "cell_type": "code",
   "execution_count": 86,
   "metadata": {},
   "outputs": [
    {
     "data": {
      "text/plain": [
       "array([[ 0.45874232, -0.7391418 , -0.7698612 , -0.14178824, -0.62287056],\n",
       "       [-0.22869319, -0.15568435, -0.84453696, -0.7598467 , -0.20790535],\n",
       "       [ 0.5692521 , -0.61033124, -0.24121022,  0.77203685,  0.26596946]],\n",
       "      dtype=float32)"
      ]
     },
     "execution_count": 86,
     "metadata": {},
     "output_type": "execute_result"
    }
   ],
   "source": [
    "# weights of RNN cell to dense which is 3\n",
    "model.get_weights()[3]"
   ]
  },
  {
   "cell_type": "code",
   "execution_count": 87,
   "metadata": {},
   "outputs": [
    {
     "data": {
      "text/plain": [
       "array([0., 0., 0., 0., 0.], dtype=float32)"
      ]
     },
     "execution_count": 87,
     "metadata": {},
     "output_type": "execute_result"
    }
   ],
   "source": [
    "# bias of dense layer\n",
    "model.get_weights()[4]"
   ]
  },
  {
   "cell_type": "markdown",
   "metadata": {},
   "source": [
    "### GRU on sequences"
   ]
  },
  {
   "cell_type": "code",
   "execution_count": 89,
   "metadata": {},
   "outputs": [
    {
     "name": "stdout",
     "output_type": "stream",
     "text": [
      "Model: \"sequential_12\"\n",
      "_________________________________________________________________\n",
      " Layer (type)                Output Shape              Param #   \n",
      "=================================================================\n",
      " LSTM30 (GRU)                (None, 30)                2970      \n",
      "                                                                 \n",
      " dense32 (Dense)             (None, 32)                992       \n",
      "                                                                 \n",
      " batch1 (BatchNormalization)  (None, 32)               128       \n",
      "                                                                 \n",
      " dropout1 (Dropout)          (None, 32)                0         \n",
      "                                                                 \n",
      " dense16 (Dense)             (None, 16)                528       \n",
      "                                                                 \n",
      " batch2 (BatchNormalization)  (None, 16)               64        \n",
      "                                                                 \n",
      " dropout2 (Dropout)          (None, 16)                0         \n",
      "                                                                 \n",
      " last_dense1 (Dense)         (None, 1)                 17        \n",
      "                                                                 \n",
      "=================================================================\n",
      "Total params: 4,699\n",
      "Trainable params: 4,603\n",
      "Non-trainable params: 96\n",
      "_________________________________________________________________\n"
     ]
    }
   ],
   "source": [
    "# Build the model\n",
    "model = tf.keras.Sequential([\n",
    "    tf.keras.layers.GRU(30, input_shape=(max_length, 1),return_sequences=False, name=\"GRU30\"),\n",
    "\n",
    "    # tf.keras.layers.Flatten(),\n",
    "\n",
    "    tf.keras.layers.Dense(32, activation='relu', name=\"dense32\"),\n",
    "    tf.keras.layers.BatchNormalization(name=\"batch1\"),\n",
    "    tf.keras.layers.Dropout(0.3, name=\"dropout1\"),\n",
    "\n",
    "    tf.keras.layers.Dense(16, activation='relu', name=\"dense16\"),\n",
    "    tf.keras.layers.BatchNormalization(name=\"batch2\"),\n",
    "    tf.keras.layers.Dropout(0.3, name=\"dropout2\"),\n",
    "\n",
    "\n",
    "    tf.keras.layers.Dense(1, activation='sigmoid', name=\"last_dense1\")\n",
    "])\n",
    "\n",
    "# Print the model summary\n",
    "model.summary()"
   ]
  },
  {
   "cell_type": "code",
   "execution_count": 90,
   "metadata": {},
   "outputs": [],
   "source": [
    "model.compile(optimizer=tf.keras.optimizers.Adam(learning_rate=0.00001), \n",
    "              loss='binary_crossentropy',\n",
    "              metrics=['binary_accuracy'])"
   ]
  },
  {
   "cell_type": "code",
   "execution_count": 91,
   "metadata": {},
   "outputs": [
    {
     "name": "stdout",
     "output_type": "stream",
     "text": [
      "Epoch 1/30\n",
      "668/668 - 20s - loss: 0.6926 - binary_accuracy: 0.5550 - val_loss: 0.6930 - val_binary_accuracy: 0.5612 - 20s/epoch - 30ms/step\n",
      "Epoch 2/30\n",
      "668/668 - 13s - loss: 0.6915 - binary_accuracy: 0.5607 - val_loss: 0.6905 - val_binary_accuracy: 0.5610 - 13s/epoch - 19ms/step\n",
      "Epoch 3/30\n",
      "668/668 - 13s - loss: 0.6907 - binary_accuracy: 0.5611 - val_loss: 0.6905 - val_binary_accuracy: 0.5610 - 13s/epoch - 20ms/step\n",
      "Epoch 4/30\n",
      "668/668 - 14s - loss: 0.6898 - binary_accuracy: 0.5611 - val_loss: 0.6894 - val_binary_accuracy: 0.5610 - 14s/epoch - 22ms/step\n",
      "Epoch 5/30\n",
      "668/668 - 15s - loss: 0.6892 - binary_accuracy: 0.5611 - val_loss: 0.6893 - val_binary_accuracy: 0.5610 - 15s/epoch - 22ms/step\n",
      "Epoch 6/30\n",
      "668/668 - 14s - loss: 0.6886 - binary_accuracy: 0.5611 - val_loss: 0.6908 - val_binary_accuracy: 0.5610 - 14s/epoch - 20ms/step\n",
      "Epoch 7/30\n",
      "668/668 - 16s - loss: 0.6880 - binary_accuracy: 0.5611 - val_loss: 0.6872 - val_binary_accuracy: 0.5610 - 16s/epoch - 24ms/step\n",
      "Epoch 8/30\n",
      "668/668 - 18s - loss: 0.6876 - binary_accuracy: 0.5611 - val_loss: 0.6881 - val_binary_accuracy: 0.5612 - 18s/epoch - 27ms/step\n",
      "Epoch 9/30\n",
      "668/668 - 17s - loss: 0.6873 - binary_accuracy: 0.5611 - val_loss: 0.6870 - val_binary_accuracy: 0.5610 - 17s/epoch - 26ms/step\n",
      "Epoch 10/30\n",
      "668/668 - 16s - loss: 0.6871 - binary_accuracy: 0.5611 - val_loss: 0.6864 - val_binary_accuracy: 0.5610 - 16s/epoch - 24ms/step\n",
      "Epoch 11/30\n",
      "668/668 - 16s - loss: 0.6867 - binary_accuracy: 0.5611 - val_loss: 0.6870 - val_binary_accuracy: 0.5612 - 16s/epoch - 25ms/step\n",
      "Epoch 12/30\n",
      "668/668 - 16s - loss: 0.6864 - binary_accuracy: 0.5611 - val_loss: 0.6854 - val_binary_accuracy: 0.5612 - 16s/epoch - 24ms/step\n",
      "Epoch 13/30\n",
      "668/668 - 16s - loss: 0.6825 - binary_accuracy: 0.5707 - val_loss: 0.6849 - val_binary_accuracy: 0.5638 - 16s/epoch - 24ms/step\n",
      "Epoch 14/30\n",
      "668/668 - 16s - loss: 0.6769 - binary_accuracy: 0.5848 - val_loss: 0.6757 - val_binary_accuracy: 0.5676 - 16s/epoch - 24ms/step\n",
      "Epoch 15/30\n",
      "668/668 - 16s - loss: 0.6755 - binary_accuracy: 0.5870 - val_loss: 0.6713 - val_binary_accuracy: 0.5936 - 16s/epoch - 24ms/step\n",
      "Epoch 16/30\n",
      "668/668 - 16s - loss: 0.6755 - binary_accuracy: 0.5846 - val_loss: 0.6718 - val_binary_accuracy: 0.5889 - 16s/epoch - 24ms/step\n",
      "Epoch 17/30\n",
      "668/668 - 16s - loss: 0.6747 - binary_accuracy: 0.5838 - val_loss: 0.6727 - val_binary_accuracy: 0.5947 - 16s/epoch - 24ms/step\n",
      "Epoch 18/30\n",
      "668/668 - 16s - loss: 0.6750 - binary_accuracy: 0.5838 - val_loss: 0.6753 - val_binary_accuracy: 0.5693 - 16s/epoch - 25ms/step\n",
      "Epoch 19/30\n",
      "668/668 - 17s - loss: 0.6750 - binary_accuracy: 0.5880 - val_loss: 0.6707 - val_binary_accuracy: 0.5912 - 17s/epoch - 26ms/step\n",
      "Epoch 20/30\n",
      "668/668 - 17s - loss: 0.6743 - binary_accuracy: 0.5850 - val_loss: 0.6744 - val_binary_accuracy: 0.5687 - 17s/epoch - 25ms/step\n",
      "Epoch 21/30\n",
      "668/668 - 16s - loss: 0.6742 - binary_accuracy: 0.5853 - val_loss: 0.6727 - val_binary_accuracy: 0.5942 - 16s/epoch - 24ms/step\n",
      "Epoch 22/30\n",
      "668/668 - 16s - loss: 0.6735 - binary_accuracy: 0.5855 - val_loss: 0.6727 - val_binary_accuracy: 0.5741 - 16s/epoch - 24ms/step\n",
      "Epoch 23/30\n",
      "668/668 - 16s - loss: 0.6742 - binary_accuracy: 0.5843 - val_loss: 0.6705 - val_binary_accuracy: 0.5949 - 16s/epoch - 24ms/step\n",
      "Epoch 24/30\n",
      "668/668 - 16s - loss: 0.6741 - binary_accuracy: 0.5882 - val_loss: 0.6823 - val_binary_accuracy: 0.5498 - 16s/epoch - 24ms/step\n",
      "Epoch 25/30\n",
      "668/668 - 16s - loss: 0.6732 - binary_accuracy: 0.5884 - val_loss: 0.6719 - val_binary_accuracy: 0.5826 - 16s/epoch - 24ms/step\n",
      "Epoch 26/30\n",
      "668/668 - 16s - loss: 0.6734 - binary_accuracy: 0.5867 - val_loss: 0.6872 - val_binary_accuracy: 0.5812 - 16s/epoch - 24ms/step\n",
      "Epoch 27/30\n",
      "668/668 - 16s - loss: 0.6731 - binary_accuracy: 0.5877 - val_loss: 0.6849 - val_binary_accuracy: 0.5487 - 16s/epoch - 24ms/step\n",
      "Epoch 28/30\n",
      "668/668 - 16s - loss: 0.6725 - binary_accuracy: 0.5885 - val_loss: 0.7330 - val_binary_accuracy: 0.5668 - 16s/epoch - 25ms/step\n"
     ]
    },
    {
     "data": {
      "text/plain": [
       "<keras.callbacks.History at 0x205e4b345b0>"
      ]
     },
     "execution_count": 91,
     "metadata": {},
     "output_type": "execute_result"
    }
   ],
   "source": [
    "model.fit(train_dataset,\n",
    "          validation_data=test_dataset,\n",
    "          epochs=30,\n",
    "          verbose=2,\n",
    "          callbacks = [early_stopping])"
   ]
  },
  {
   "cell_type": "code",
   "execution_count": 92,
   "metadata": {},
   "outputs": [
    {
     "name": "stdout",
     "output_type": "stream",
     "text": [
      "167/167 [==============================] - 1s 8ms/step - loss: 0.6705 - binary_accuracy: 0.5949\n"
     ]
    },
    {
     "data": {
      "text/plain": [
       "[0.6705204248428345, 0.5949082970619202]"
      ]
     },
     "execution_count": 92,
     "metadata": {},
     "output_type": "execute_result"
    }
   ],
   "source": [
    "model.evaluate(test_dataset)"
   ]
  },
  {
   "cell_type": "markdown",
   "metadata": {},
   "source": [
    "### GRU with Embeddings"
   ]
  },
  {
   "cell_type": "code",
   "execution_count": 93,
   "metadata": {},
   "outputs": [
    {
     "name": "stdout",
     "output_type": "stream",
     "text": [
      "Model: \"sequential_13\"\n",
      "_________________________________________________________________\n",
      " Layer (type)                Output Shape              Param #   \n",
      "=================================================================\n",
      " embedding (Embedding)       (None, 50, 16)            160000    \n",
      "                                                                 \n",
      " GRU30 (GRU)                 (None, 30)                4320      \n",
      "                                                                 \n",
      " dense32 (Dense)             (None, 32)                992       \n",
      "                                                                 \n",
      " batch1 (BatchNormalization)  (None, 32)               128       \n",
      "                                                                 \n",
      " dropout1 (Dropout)          (None, 32)                0         \n",
      "                                                                 \n",
      " dense16 (Dense)             (None, 16)                528       \n",
      "                                                                 \n",
      " batch2 (BatchNormalization)  (None, 16)               64        \n",
      "                                                                 \n",
      " dropout2 (Dropout)          (None, 16)                0         \n",
      "                                                                 \n",
      " last_dense1 (Dense)         (None, 1)                 17        \n",
      "                                                                 \n",
      "=================================================================\n",
      "Total params: 166,049\n",
      "Trainable params: 165,953\n",
      "Non-trainable params: 96\n",
      "_________________________________________________________________\n"
     ]
    }
   ],
   "source": [
    "# Build the model\n",
    "model = tf.keras.Sequential([\n",
    "    tf.keras.layers.Embedding(\n",
    "        vocab_size, embedding_dim, input_length=max_length, name=\"embedding\"),\n",
    "    tf.keras.layers.GRU(30, name=\"GRU30\", return_sequences=False),\n",
    "\n",
    "    # tf.keras.layers.Flatten(),\n",
    "\n",
    "    tf.keras.layers.Dense(32, activation='relu', name=\"dense32\"),\n",
    "    tf.keras.layers.BatchNormalization(name=\"batch1\"),\n",
    "    tf.keras.layers.Dropout(0.3, name=\"dropout1\"),\n",
    "\n",
    "    tf.keras.layers.Dense(16, activation='relu', name=\"dense16\"),\n",
    "    tf.keras.layers.BatchNormalization(name=\"batch2\"),\n",
    "    tf.keras.layers.Dropout(0.3, name=\"dropout2\"),\n",
    "\n",
    "\n",
    "    tf.keras.layers.Dense(1, activation='sigmoid', name=\"last_dense1\")\n",
    "])\n",
    "\n",
    "# Print the model summary\n",
    "model.summary()"
   ]
  },
  {
   "cell_type": "code",
   "execution_count": 94,
   "metadata": {},
   "outputs": [],
   "source": [
    "model.compile(optimizer=tf.keras.optimizers.Adam(learning_rate=0.00001),\n",
    "              loss='binary_crossentropy',\n",
    "              metrics=['binary_accuracy'])"
   ]
  },
  {
   "cell_type": "code",
   "execution_count": 95,
   "metadata": {},
   "outputs": [
    {
     "name": "stdout",
     "output_type": "stream",
     "text": [
      "Epoch 1/30\n",
      "668/668 - 24s - loss: 0.6927 - binary_accuracy: 0.5499 - val_loss: 0.6912 - val_binary_accuracy: 0.5610 - 24s/epoch - 36ms/step\n",
      "Epoch 2/30\n",
      "668/668 - 23s - loss: 0.6917 - binary_accuracy: 0.5608 - val_loss: 0.6915 - val_binary_accuracy: 0.5610 - 23s/epoch - 34ms/step\n",
      "Epoch 3/30\n",
      "668/668 - 18s - loss: 0.6909 - binary_accuracy: 0.5611 - val_loss: 0.6882 - val_binary_accuracy: 0.5610 - 18s/epoch - 27ms/step\n",
      "Epoch 4/30\n",
      "668/668 - 19s - loss: 0.6902 - binary_accuracy: 0.5611 - val_loss: 0.6857 - val_binary_accuracy: 0.5610 - 19s/epoch - 29ms/step\n",
      "Epoch 5/30\n",
      "668/668 - 17s - loss: 0.6895 - binary_accuracy: 0.5611 - val_loss: 0.6875 - val_binary_accuracy: 0.5610 - 17s/epoch - 26ms/step\n",
      "Epoch 6/30\n",
      "668/668 - 19s - loss: 0.6890 - binary_accuracy: 0.5611 - val_loss: 0.6895 - val_binary_accuracy: 0.5610 - 19s/epoch - 28ms/step\n",
      "Epoch 7/30\n",
      "668/668 - 17s - loss: 0.6886 - binary_accuracy: 0.5611 - val_loss: 0.6892 - val_binary_accuracy: 0.5610 - 17s/epoch - 26ms/step\n",
      "Epoch 8/30\n",
      "668/668 - 16s - loss: 0.6882 - binary_accuracy: 0.5611 - val_loss: 0.6859 - val_binary_accuracy: 0.5610 - 16s/epoch - 24ms/step\n",
      "Epoch 9/30\n",
      "668/668 - 16s - loss: 0.6878 - binary_accuracy: 0.5611 - val_loss: 0.6861 - val_binary_accuracy: 0.5610 - 16s/epoch - 25ms/step\n"
     ]
    },
    {
     "data": {
      "text/plain": [
       "<keras.callbacks.History at 0x205e8904a60>"
      ]
     },
     "execution_count": 95,
     "metadata": {},
     "output_type": "execute_result"
    }
   ],
   "source": [
    "model.fit(train_dataset,\n",
    "          validation_data=test_dataset,\n",
    "          epochs=30,\n",
    "          verbose=2,\n",
    "          callbacks=[early_stopping])"
   ]
  },
  {
   "cell_type": "markdown",
   "metadata": {},
   "source": [
    "### GRU Embeddings + Bideriectional"
   ]
  },
  {
   "cell_type": "code",
   "execution_count": 96,
   "metadata": {},
   "outputs": [
    {
     "name": "stdout",
     "output_type": "stream",
     "text": [
      "Model: \"sequential_14\"\n",
      "_________________________________________________________________\n",
      " Layer (type)                Output Shape              Param #   \n",
      "=================================================================\n",
      " embedding (Embedding)       (None, 50, 16)            160000    \n",
      "                                                                 \n",
      " bidirectional (Bidirectiona  (None, 50, 100)          20400     \n",
      " l)                                                              \n",
      "                                                                 \n",
      " bidirectional_1 (Bidirectio  (None, 100)              45600     \n",
      " nal)                                                            \n",
      "                                                                 \n",
      " dense32 (Dense)             (None, 32)                3232      \n",
      "                                                                 \n",
      " batch1 (BatchNormalization)  (None, 32)               128       \n",
      "                                                                 \n",
      " dropout1 (Dropout)          (None, 32)                0         \n",
      "                                                                 \n",
      " dense16 (Dense)             (None, 16)                528       \n",
      "                                                                 \n",
      " batch2 (BatchNormalization)  (None, 16)               64        \n",
      "                                                                 \n",
      " dropout2 (Dropout)          (None, 16)                0         \n",
      "                                                                 \n",
      " last_dense1 (Dense)         (None, 1)                 17        \n",
      "                                                                 \n",
      "=================================================================\n",
      "Total params: 229,969\n",
      "Trainable params: 229,873\n",
      "Non-trainable params: 96\n",
      "_________________________________________________________________\n"
     ]
    }
   ],
   "source": [
    "# Build the model\n",
    "model = tf.keras.Sequential([\n",
    "    tf.keras.layers.Embedding(\n",
    "        vocab_size, embedding_dim, input_length=max_length, name=\"embedding\"),\n",
    "    tf.keras.layers.Bidirectional(tf.keras.layers.GRU(\n",
    "        50, name=\"GRU1_50\", return_sequences=True)),\n",
    "    tf.keras.layers.Bidirectional(tf.keras.layers.GRU(\n",
    "        50, name=\"GRU2_50\", return_sequences=False)),\n",
    "\n",
    "    # tf.keras.layers.Flatten(),\n",
    "\n",
    "    tf.keras.layers.Dense(32, activation='relu', name=\"dense32\"),\n",
    "    tf.keras.layers.BatchNormalization(name=\"batch1\"),\n",
    "    tf.keras.layers.Dropout(0.3, name=\"dropout1\"),\n",
    "\n",
    "    tf.keras.layers.Dense(16, activation='relu', name=\"dense16\"),\n",
    "    tf.keras.layers.BatchNormalization(name=\"batch2\"),\n",
    "    tf.keras.layers.Dropout(0.3, name=\"dropout2\"),\n",
    "\n",
    "\n",
    "    tf.keras.layers.Dense(1, activation='sigmoid', name=\"last_dense1\")\n",
    "])\n",
    "\n",
    "# Print the model summary\n",
    "model.summary()"
   ]
  },
  {
   "cell_type": "code",
   "execution_count": 97,
   "metadata": {},
   "outputs": [],
   "source": [
    "model.compile(optimizer=tf.keras.optimizers.Adam(learning_rate=0.00001),\n",
    "              loss='binary_crossentropy',\n",
    "              metrics=['binary_accuracy'])"
   ]
  },
  {
   "cell_type": "code",
   "execution_count": 98,
   "metadata": {},
   "outputs": [
    {
     "name": "stdout",
     "output_type": "stream",
     "text": [
      "Epoch 1/30\n",
      "668/668 - 68s - loss: 0.8751 - binary_accuracy: 0.5143 - val_loss: 0.7028 - val_binary_accuracy: 0.5751 - 68s/epoch - 101ms/step\n",
      "Epoch 2/30\n",
      "668/668 - 51s - loss: 0.8139 - binary_accuracy: 0.5312 - val_loss: 0.6926 - val_binary_accuracy: 0.5704 - 51s/epoch - 76ms/step\n",
      "Epoch 3/30\n",
      "668/668 - 48s - loss: 0.7725 - binary_accuracy: 0.5347 - val_loss: 0.6842 - val_binary_accuracy: 0.5689 - 48s/epoch - 72ms/step\n",
      "Epoch 4/30\n",
      "668/668 - 48s - loss: 0.7485 - binary_accuracy: 0.5421 - val_loss: 0.6732 - val_binary_accuracy: 0.5824 - 48s/epoch - 72ms/step\n",
      "Epoch 5/30\n",
      "668/668 - 48s - loss: 0.7236 - binary_accuracy: 0.5574 - val_loss: 0.6693 - val_binary_accuracy: 0.5872 - 48s/epoch - 72ms/step\n",
      "Epoch 6/30\n",
      "668/668 - 47s - loss: 0.7101 - binary_accuracy: 0.5611 - val_loss: 0.6655 - val_binary_accuracy: 0.5960 - 47s/epoch - 70ms/step\n",
      "Epoch 7/30\n",
      "668/668 - 45s - loss: 0.6963 - binary_accuracy: 0.5716 - val_loss: 0.6609 - val_binary_accuracy: 0.6104 - 45s/epoch - 68ms/step\n",
      "Epoch 8/30\n",
      "668/668 - 44s - loss: 0.6840 - binary_accuracy: 0.5807 - val_loss: 0.6584 - val_binary_accuracy: 0.6146 - 44s/epoch - 66ms/step\n",
      "Epoch 9/30\n",
      "668/668 - 46s - loss: 0.6767 - binary_accuracy: 0.5936 - val_loss: 0.6550 - val_binary_accuracy: 0.6191 - 46s/epoch - 69ms/step\n",
      "Epoch 10/30\n",
      "668/668 - 43s - loss: 0.6728 - binary_accuracy: 0.5939 - val_loss: 0.6531 - val_binary_accuracy: 0.6230 - 43s/epoch - 64ms/step\n",
      "Epoch 11/30\n",
      "668/668 - 43s - loss: 0.6643 - binary_accuracy: 0.6056 - val_loss: 0.6486 - val_binary_accuracy: 0.6252 - 43s/epoch - 64ms/step\n",
      "Epoch 12/30\n",
      "668/668 - 42s - loss: 0.6613 - binary_accuracy: 0.6108 - val_loss: 0.6462 - val_binary_accuracy: 0.6320 - 42s/epoch - 63ms/step\n",
      "Epoch 13/30\n",
      "668/668 - 44s - loss: 0.6533 - binary_accuracy: 0.6208 - val_loss: 0.6428 - val_binary_accuracy: 0.6316 - 44s/epoch - 66ms/step\n",
      "Epoch 14/30\n",
      "668/668 - 41s - loss: 0.6486 - binary_accuracy: 0.6289 - val_loss: 0.6383 - val_binary_accuracy: 0.6376 - 41s/epoch - 62ms/step\n",
      "Epoch 15/30\n",
      "668/668 - 40s - loss: 0.6465 - binary_accuracy: 0.6327 - val_loss: 0.6332 - val_binary_accuracy: 0.6464 - 40s/epoch - 60ms/step\n",
      "Epoch 16/30\n",
      "668/668 - 42s - loss: 0.6404 - binary_accuracy: 0.6373 - val_loss: 0.6289 - val_binary_accuracy: 0.6494 - 42s/epoch - 63ms/step\n",
      "Epoch 17/30\n",
      "668/668 - 48s - loss: 0.6327 - binary_accuracy: 0.6470 - val_loss: 0.6254 - val_binary_accuracy: 0.6516 - 48s/epoch - 72ms/step\n",
      "Epoch 18/30\n",
      "668/668 - 46s - loss: 0.6246 - binary_accuracy: 0.6544 - val_loss: 0.6213 - val_binary_accuracy: 0.6559 - 46s/epoch - 68ms/step\n",
      "Epoch 19/30\n",
      "668/668 - 51s - loss: 0.6176 - binary_accuracy: 0.6638 - val_loss: 0.6155 - val_binary_accuracy: 0.6619 - 51s/epoch - 76ms/step\n",
      "Epoch 20/30\n",
      "668/668 - 51s - loss: 0.6123 - binary_accuracy: 0.6709 - val_loss: 0.6094 - val_binary_accuracy: 0.6711 - 51s/epoch - 76ms/step\n",
      "Epoch 21/30\n",
      "668/668 - 51s - loss: 0.6051 - binary_accuracy: 0.6792 - val_loss: 0.6049 - val_binary_accuracy: 0.6728 - 51s/epoch - 76ms/step\n",
      "Epoch 22/30\n",
      "668/668 - 49s - loss: 0.5969 - binary_accuracy: 0.6864 - val_loss: 0.5986 - val_binary_accuracy: 0.6771 - 49s/epoch - 73ms/step\n",
      "Epoch 23/30\n",
      "668/668 - 49s - loss: 0.5899 - binary_accuracy: 0.6942 - val_loss: 0.5921 - val_binary_accuracy: 0.6831 - 49s/epoch - 74ms/step\n",
      "Epoch 24/30\n",
      "668/668 - 49s - loss: 0.5828 - binary_accuracy: 0.6996 - val_loss: 0.5882 - val_binary_accuracy: 0.6874 - 49s/epoch - 73ms/step\n",
      "Epoch 25/30\n",
      "668/668 - 49s - loss: 0.5716 - binary_accuracy: 0.7109 - val_loss: 0.5803 - val_binary_accuracy: 0.6947 - 49s/epoch - 74ms/step\n",
      "Epoch 26/30\n",
      "668/668 - 47s - loss: 0.5638 - binary_accuracy: 0.7165 - val_loss: 0.5764 - val_binary_accuracy: 0.6962 - 47s/epoch - 71ms/step\n",
      "Epoch 27/30\n",
      "668/668 - 55s - loss: 0.5563 - binary_accuracy: 0.7223 - val_loss: 0.5685 - val_binary_accuracy: 0.7076 - 55s/epoch - 83ms/step\n",
      "Epoch 28/30\n",
      "668/668 - 50s - loss: 0.5455 - binary_accuracy: 0.7312 - val_loss: 0.5620 - val_binary_accuracy: 0.7153 - 50s/epoch - 74ms/step\n",
      "Epoch 29/30\n",
      "668/668 - 64s - loss: 0.5376 - binary_accuracy: 0.7369 - val_loss: 0.5576 - val_binary_accuracy: 0.7183 - 64s/epoch - 96ms/step\n",
      "Epoch 30/30\n",
      "668/668 - 46s - loss: 0.5314 - binary_accuracy: 0.7454 - val_loss: 0.5548 - val_binary_accuracy: 0.7200 - 46s/epoch - 69ms/step\n"
     ]
    },
    {
     "data": {
      "text/plain": [
       "<keras.callbacks.History at 0x205dd44d360>"
      ]
     },
     "execution_count": 98,
     "metadata": {},
     "output_type": "execute_result"
    }
   ],
   "source": [
    "model.fit(train_dataset,\n",
    "          validation_data=test_dataset,\n",
    "          epochs=30,\n",
    "          verbose=2,\n",
    "          callbacks=[early_stopping])"
   ]
  },
  {
   "cell_type": "code",
   "execution_count": null,
   "metadata": {},
   "outputs": [],
   "source": []
  }
 ],
 "metadata": {
  "kernelspec": {
   "display_name": "base",
   "language": "python",
   "name": "python3"
  },
  "language_info": {
   "codemirror_mode": {
    "name": "ipython",
    "version": 3
   },
   "file_extension": ".py",
   "mimetype": "text/x-python",
   "name": "python",
   "nbconvert_exporter": "python",
   "pygments_lexer": "ipython3",
   "version": "3.11.5"
  }
 },
 "nbformat": 4,
 "nbformat_minor": 2
}
