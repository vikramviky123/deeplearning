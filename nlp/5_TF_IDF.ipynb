{
 "cells": [
  {
   "cell_type": "code",
   "execution_count": 1,
   "metadata": {},
   "outputs": [],
   "source": [
    "import nltk\n",
    "import re\n",
    "from nltk.corpus import stopwords\n",
    "from nltk.stem.porter import PorterStemmer\n",
    "from nltk.stem import WordNetLemmatizer"
   ]
  },
  {
   "cell_type": "code",
   "execution_count": 2,
   "metadata": {},
   "outputs": [],
   "source": [
    "paragraph = \"\"\"I have three visions for India. In 3000 years of our history, people from all over \n",
    "               the world have come and invaded us, captured our lands, conquered our minds. \n",
    "               From Alexander onwards, the Greeks, the Turks, the Moguls, the Portuguese, the British,\n",
    "               the French, the Dutch, all of them came and looted us, took over what was ours. \n",
    "               Yet we have not done this to any other nation. We have not conquered anyone. \n",
    "               We have not grabbed their land, their culture, \n",
    "               their history and tried to enforce our way of life on them. \n",
    "               Why? Because we respect the freedom of others.That is why my \n",
    "               first vision is that of freedom. I believe that India got its first vision of \n",
    "               this in 1857, when we started the War of Independence. It is this freedom that\n",
    "               we must protect and nurture and build on. If we are not free, no one will respect us.\n",
    "               My second vision for India’s development. For fifty years we have been a developing nation.\n",
    "               It is time we see ourselves as a developed nation. We are among the top 5 nations of the world\n",
    "               in terms of GDP. We have a 10 percent growth rate in most areas. Our poverty levels are falling.\n",
    "               Our achievements are being globally recognised today. Yet we lack the self-confidence to\n",
    "               see ourselves as a developed nation, self-reliant and self-assured. Isn’t this incorrect?\n",
    "               I have a third vision. India must stand up to the world. Because I believe that unless India \n",
    "               stands up to the world, no one will respect us. Only strength respects strength. We must be \n",
    "               strong not only as a military power but also as an economic power. Both must go hand-in-hand. \n",
    "               My good fortune was to have worked with three great minds. Dr. Vikram Sarabhai of the Dept. of \n",
    "               space, Professor Satish Dhawan, who succeeded him and Dr. Brahm Prakash, father of nuclear material.\n",
    "               I was lucky to have worked with all three of them closely and consider this the great opportunity of my life. \n",
    "               I see four milestones in my career\"\"\""
   ]
  },
  {
   "cell_type": "code",
   "execution_count": 3,
   "metadata": {},
   "outputs": [
    {
     "data": {
      "text/plain": [
       "['I have three visions for India.',\n",
       " 'In 3000 years of our history, people from all over \\n               the world have come and invaded us, captured our lands, conquered our minds.',\n",
       " 'From Alexander onwards, the Greeks, the Turks, the Moguls, the Portuguese, the British,\\n               the French, the Dutch, all of them came and looted us, took over what was ours.']"
      ]
     },
     "execution_count": 3,
     "metadata": {},
     "output_type": "execute_result"
    }
   ],
   "source": [
    "sentences = nltk.sent_tokenize(paragraph)\n",
    "sentences[:3]"
   ]
  },
  {
   "cell_type": "code",
   "execution_count": 4,
   "metadata": {},
   "outputs": [
    {
     "data": {
      "text/plain": [
       "['I', 'have', 'three', 'visions', 'for', 'India', '.']"
      ]
     },
     "execution_count": 4,
     "metadata": {},
     "output_type": "execute_result"
    }
   ],
   "source": [
    "nltk.word_tokenize(sentences[0])"
   ]
  },
  {
   "cell_type": "code",
   "execution_count": 5,
   "metadata": {},
   "outputs": [],
   "source": [
    "ps = PorterStemmer()\n",
    "lemm = WordNetLemmatizer()"
   ]
  },
  {
   "cell_type": "code",
   "execution_count": 6,
   "metadata": {},
   "outputs": [],
   "source": [
    "corpus = []\n",
    "for i in range(len(sentences)):\n",
    "    review = re.sub('[^a-zA-Z]', ' ', sentences[i])\n",
    "    review = review.lower()\n",
    "    review = review.split()\n",
    "    review = [ps.stem(word) for word in review if not word in set(\n",
    "        stopwords.words('english'))]\n",
    "    review = ' '.join(review)\n",
    "    corpus.append(review)"
   ]
  },
  {
   "cell_type": "code",
   "execution_count": 7,
   "metadata": {},
   "outputs": [
    {
     "data": {
      "text/plain": [
       "['three vision india',\n",
       " 'year histori peopl world come invad us captur land conquer mind',\n",
       " 'alexand onward greek turk mogul portugues british french dutch came loot us took']"
      ]
     },
     "execution_count": 7,
     "metadata": {},
     "output_type": "execute_result"
    }
   ],
   "source": [
    "corpus[:3]"
   ]
  },
  {
   "cell_type": "code",
   "execution_count": 8,
   "metadata": {},
   "outputs": [
    {
     "data": {
      "text/plain": [
       "['I have three visions for India.',\n",
       " 'In 3000 years of our history, people from all over \\n               the world have come and invaded us, captured our lands, conquered our minds.',\n",
       " 'From Alexander onwards, the Greeks, the Turks, the Moguls, the Portuguese, the British,\\n               the French, the Dutch, all of them came and looted us, took over what was ours.']"
      ]
     },
     "execution_count": 8,
     "metadata": {},
     "output_type": "execute_result"
    }
   ],
   "source": [
    "sentences[:3]"
   ]
  },
  {
   "cell_type": "code",
   "execution_count": 10,
   "metadata": {},
   "outputs": [],
   "source": [
    "# Creating the TF-IDF model\n",
    "from sklearn.feature_extraction.text import TfidfVectorizer\n",
    "tf_idf = TfidfVectorizer()\n",
    "X = tf_idf.fit_transform(corpus).toarray()"
   ]
  },
  {
   "cell_type": "code",
   "execution_count": null,
   "metadata": {},
   "outputs": [],
   "source": []
  },
  {
   "cell_type": "code",
   "execution_count": 13,
   "metadata": {},
   "outputs": [
    {
     "data": {
      "text/plain": [
       "113"
      ]
     },
     "execution_count": 13,
     "metadata": {},
     "output_type": "execute_result"
    }
   ],
   "source": [
    "len(X[0])"
   ]
  },
  {
   "cell_type": "code",
   "execution_count": 14,
   "metadata": {},
   "outputs": [
    {
     "data": {
      "text/plain": [
       "31"
      ]
     },
     "execution_count": 14,
     "metadata": {},
     "output_type": "execute_result"
    }
   ],
   "source": [
    "len(corpus)"
   ]
  },
  {
   "cell_type": "code",
   "execution_count": 15,
   "metadata": {},
   "outputs": [],
   "source": [
    "all_words = []\n",
    "\n",
    "for sentence in corpus:\n",
    "    for each_word in sentence.split():\n",
    "        all_words.append(each_word)   "
   ]
  },
  {
   "cell_type": "code",
   "execution_count": 16,
   "metadata": {},
   "outputs": [
    {
     "name": "stdout",
     "output_type": "stream",
     "text": [
      "['father', 'nuclear', 'materi', 'lucki', 'close', 'consid', 'opportun', 'four', 'mileston', 'career']\n",
      "[1, 1, 1, 1, 1, 1, 1, 1, 1, 1]\n"
     ]
    }
   ],
   "source": [
    "all_words_freq = nltk.FreqDist(all_words)\n",
    "print(list(all_words_freq.keys())[-10:])\n",
    "print(list(all_words_freq.values())[-10:])"
   ]
  },
  {
   "cell_type": "code",
   "execution_count": 17,
   "metadata": {},
   "outputs": [],
   "source": [
    "from collections import Counter, OrderedDict\n",
    "counter = Counter()\n",
    "for line in corpus:\n",
    "    counter.update(line.split())\n",
    "    \n",
    "sorted_by_freq_tuples = sorted(\n",
    "    counter.items(), key=lambda x: x[1], reverse=True)\n",
    "ordered_dict = OrderedDict(sorted_by_freq_tuples)"
   ]
  },
  {
   "cell_type": "code",
   "execution_count": 18,
   "metadata": {},
   "outputs": [
    {
     "data": {
      "text/plain": [
       "OrderedDict([('vision', 5),\n",
       "             ('india', 5),\n",
       "             ('nation', 5),\n",
       "             ('world', 4),\n",
       "             ('us', 4),\n",
       "             ('respect', 4),\n",
       "             ('must', 4),\n",
       "             ('develop', 4),\n",
       "             ('three', 3),\n",
       "             ('freedom', 3),\n",
       "             ('see', 3),\n",
       "             ('self', 3),\n",
       "             ('year', 2),\n",
       "             ('histori', 2),\n",
       "             ('land', 2),\n",
       "             ('conquer', 2),\n",
       "             ('mind', 2),\n",
       "             ('yet', 2),\n",
       "             ('life', 2),\n",
       "             ('first', 2),\n",
       "             ('believ', 2),\n",
       "             ('one', 2),\n",
       "             ('stand', 2),\n",
       "             ('strength', 2),\n",
       "             ('power', 2),\n",
       "             ('hand', 2),\n",
       "             ('work', 2),\n",
       "             ('great', 2),\n",
       "             ('dr', 2),\n",
       "             ('peopl', 1),\n",
       "             ('come', 1),\n",
       "             ('invad', 1),\n",
       "             ('captur', 1),\n",
       "             ('alexand', 1),\n",
       "             ('onward', 1),\n",
       "             ('greek', 1),\n",
       "             ('turk', 1),\n",
       "             ('mogul', 1),\n",
       "             ('portugues', 1),\n",
       "             ('british', 1),\n",
       "             ('french', 1),\n",
       "             ('dutch', 1),\n",
       "             ('came', 1),\n",
       "             ('loot', 1),\n",
       "             ('took', 1),\n",
       "             ('done', 1),\n",
       "             ('anyon', 1),\n",
       "             ('grab', 1),\n",
       "             ('cultur', 1),\n",
       "             ('tri', 1),\n",
       "             ('enforc', 1),\n",
       "             ('way', 1),\n",
       "             ('other', 1),\n",
       "             ('got', 1),\n",
       "             ('start', 1),\n",
       "             ('war', 1),\n",
       "             ('independ', 1),\n",
       "             ('protect', 1),\n",
       "             ('nurtur', 1),\n",
       "             ('build', 1),\n",
       "             ('free', 1),\n",
       "             ('second', 1),\n",
       "             ('fifti', 1),\n",
       "             ('time', 1),\n",
       "             ('among', 1),\n",
       "             ('top', 1),\n",
       "             ('term', 1),\n",
       "             ('gdp', 1),\n",
       "             ('percent', 1),\n",
       "             ('growth', 1),\n",
       "             ('rate', 1),\n",
       "             ('area', 1),\n",
       "             ('poverti', 1),\n",
       "             ('level', 1),\n",
       "             ('fall', 1),\n",
       "             ('achiev', 1),\n",
       "             ('global', 1),\n",
       "             ('recognis', 1),\n",
       "             ('today', 1),\n",
       "             ('lack', 1),\n",
       "             ('confid', 1),\n",
       "             ('reliant', 1),\n",
       "             ('assur', 1),\n",
       "             ('incorrect', 1),\n",
       "             ('third', 1),\n",
       "             ('unless', 1),\n",
       "             ('strong', 1),\n",
       "             ('militari', 1),\n",
       "             ('also', 1),\n",
       "             ('econom', 1),\n",
       "             ('go', 1),\n",
       "             ('good', 1),\n",
       "             ('fortun', 1),\n",
       "             ('vikram', 1),\n",
       "             ('sarabhai', 1),\n",
       "             ('dept', 1),\n",
       "             ('space', 1),\n",
       "             ('professor', 1),\n",
       "             ('satish', 1),\n",
       "             ('dhawan', 1),\n",
       "             ('succeed', 1),\n",
       "             ('brahm', 1),\n",
       "             ('prakash', 1),\n",
       "             ('father', 1),\n",
       "             ('nuclear', 1),\n",
       "             ('materi', 1),\n",
       "             ('lucki', 1),\n",
       "             ('close', 1),\n",
       "             ('consid', 1),\n",
       "             ('opportun', 1),\n",
       "             ('four', 1),\n",
       "             ('mileston', 1),\n",
       "             ('career', 1)])"
      ]
     },
     "execution_count": 18,
     "metadata": {},
     "output_type": "execute_result"
    }
   ],
   "source": [
    "ordered_dict"
   ]
  },
  {
   "cell_type": "code",
   "execution_count": 19,
   "metadata": {},
   "outputs": [
    {
     "data": {
      "text/plain": [
       "(31, 113)"
      ]
     },
     "execution_count": 19,
     "metadata": {},
     "output_type": "execute_result"
    }
   ],
   "source": [
    "X.shape"
   ]
  },
  {
   "cell_type": "code",
   "execution_count": null,
   "metadata": {},
   "outputs": [],
   "source": []
  }
 ],
 "metadata": {
  "kernelspec": {
   "display_name": "base",
   "language": "python",
   "name": "python3"
  },
  "language_info": {
   "codemirror_mode": {
    "name": "ipython",
    "version": 3
   },
   "file_extension": ".py",
   "mimetype": "text/x-python",
   "name": "python",
   "nbconvert_exporter": "python",
   "pygments_lexer": "ipython3",
   "version": "3.10.9"
  }
 },
 "nbformat": 4,
 "nbformat_minor": 2
}
