{
 "cells": [
  {
   "cell_type": "code",
   "execution_count": 1,
   "metadata": {},
   "outputs": [
    {
     "name": "stdout",
     "output_type": "stream",
     "text": [
      "WARNING:tensorflow:From c:\\Users\\91981\\anaconda3\\Lib\\site-packages\\keras\\src\\losses.py:2976: The name tf.losses.sparse_softmax_cross_entropy is deprecated. Please use tf.compat.v1.losses.sparse_softmax_cross_entropy instead.\n",
      "\n"
     ]
    }
   ],
   "source": [
    "from tensorflow.keras.preprocessing.text import Tokenizer\n",
    "from tensorflow.keras.preprocessing.sequence import pad_sequences"
   ]
  },
  {
   "cell_type": "code",
   "execution_count": 2,
   "metadata": {},
   "outputs": [
    {
     "data": {
      "text/plain": [
       "<keras.src.preprocessing.text.Tokenizer at 0x29c2ebc1f50>"
      ]
     },
     "execution_count": 2,
     "metadata": {},
     "output_type": "execute_result"
    }
   ],
   "source": [
    "# Define input sentences\n",
    "sentences = [\n",
    "    'I love my dog',\n",
    "    'I love my cat',\n",
    "    'You love my dog!',\n",
    "    'Do you think my dog is amazing?'\n",
    "]\n",
    "\n",
    "# Initialize the Tokenizer class\n",
    "# total number of words in word_index\n",
    "tokenizer = Tokenizer(num_words=100, oov_token=\"<OOV>\")\n",
    "tokenizer "
   ]
  },
  {
   "cell_type": "code",
   "execution_count": 3,
   "metadata": {},
   "outputs": [],
   "source": [
    "# Generate indices for each word in the corpus\n",
    "tokenizer.fit_on_texts(sentences)"
   ]
  },
  {
   "cell_type": "code",
   "execution_count": 4,
   "metadata": {},
   "outputs": [
    {
     "data": {
      "text/plain": [
       "{'num_words': 100,\n",
       " 'filters': '!\"#$%&()*+,-./:;<=>?@[\\\\]^_`{|}~\\t\\n',\n",
       " 'lower': True,\n",
       " 'split': ' ',\n",
       " 'char_level': False,\n",
       " 'oov_token': '<OOV>',\n",
       " 'document_count': 4,\n",
       " 'word_counts': '{\"i\": 2, \"love\": 3, \"my\": 4, \"dog\": 3, \"cat\": 1, \"you\": 2, \"do\": 1, \"think\": 1, \"is\": 1, \"amazing\": 1}',\n",
       " 'word_docs': '{\"i\": 2, \"dog\": 3, \"my\": 4, \"love\": 3, \"cat\": 1, \"you\": 2, \"is\": 1, \"do\": 1, \"think\": 1, \"amazing\": 1}',\n",
       " 'index_docs': '{\"5\": 2, \"4\": 3, \"2\": 4, \"3\": 3, \"7\": 1, \"6\": 2, \"10\": 1, \"8\": 1, \"9\": 1, \"11\": 1}',\n",
       " 'index_word': '{\"1\": \"<OOV>\", \"2\": \"my\", \"3\": \"love\", \"4\": \"dog\", \"5\": \"i\", \"6\": \"you\", \"7\": \"cat\", \"8\": \"do\", \"9\": \"think\", \"10\": \"is\", \"11\": \"amazing\"}',\n",
       " 'word_index': '{\"<OOV>\": 1, \"my\": 2, \"love\": 3, \"dog\": 4, \"i\": 5, \"you\": 6, \"cat\": 7, \"do\": 8, \"think\": 9, \"is\": 10, \"amazing\": 11}'}"
      ]
     },
     "execution_count": 4,
     "metadata": {},
     "output_type": "execute_result"
    }
   ],
   "source": [
    "tokenizer.get_config()"
   ]
  },
  {
   "cell_type": "code",
   "execution_count": 5,
   "metadata": {},
   "outputs": [
    {
     "name": "stdout",
     "output_type": "stream",
     "text": [
      "{'<OOV>': 1, 'my': 2, 'love': 3, 'dog': 4, 'i': 5, 'you': 6, 'cat': 7, 'do': 8, 'think': 9, 'is': 10, 'amazing': 11}\n"
     ]
    }
   ],
   "source": [
    "# Get the indices and print it\n",
    "word_index = tokenizer.word_index\n",
    "print(word_index)"
   ]
  },
  {
   "cell_type": "markdown",
   "metadata": {},
   "source": [
    "##### text to sequence"
   ]
  },
  {
   "cell_type": "code",
   "execution_count": 6,
   "metadata": {},
   "outputs": [
    {
     "name": "stdout",
     "output_type": "stream",
     "text": [
      "['I love my dog', 'I love my cat', 'You love my dog!', 'Do you think my dog is amazing?']\n",
      "\n",
      "Word Index =  {'<OOV>': 1, 'my': 2, 'love': 3, 'dog': 4, 'i': 5, 'you': 6, 'cat': 7, 'do': 8, 'think': 9, 'is': 10, 'amazing': 11}\n",
      "\n",
      "Sequences =  [[5, 3, 2, 1, 8, 6, 9, 1, 10, 11], [5, 1, 1, 1, 7]]\n"
     ]
    }
   ],
   "source": [
    "# Generate list of token sequences\n",
    "new_sentence = [\"I love my monkey do you think it is amazing\",\n",
    "                \"i have a new cat\"]\n",
    "\n",
    "new_sequence = tokenizer.texts_to_sequences(new_sentence)\n",
    "\n",
    "# Print the result\n",
    "print(sentences)\n",
    "print(\"\\nWord Index = \", word_index)\n",
    "print(\"\\nSequences = \", new_sequence)"
   ]
  },
  {
   "cell_type": "markdown",
   "metadata": {},
   "source": [
    "##### Sequence to Text"
   ]
  },
  {
   "cell_type": "code",
   "execution_count": 7,
   "metadata": {},
   "outputs": [
    {
     "data": {
      "text/plain": [
       "['i love my <OOV> do you think <OOV> is amazing', 'i <OOV> <OOV> <OOV> cat']"
      ]
     },
     "execution_count": 7,
     "metadata": {},
     "output_type": "execute_result"
    }
   ],
   "source": [
    "tokenizer.sequences_to_texts(new_sequence)"
   ]
  },
  {
   "cell_type": "markdown",
   "metadata": {},
   "source": [
    "##### Padding"
   ]
  },
  {
   "cell_type": "code",
   "execution_count": 8,
   "metadata": {},
   "outputs": [
    {
     "name": "stdout",
     "output_type": "stream",
     "text": [
      "[[ 5  3  2  1  8  6  9  1 10 11  0  0  0  0  0]\n",
      " [ 5  1  1  1  7  0  0  0  0  0  0  0  0  0  0]]\n"
     ]
    }
   ],
   "source": [
    "# Pad the sequences to a uniform length\n",
    "padded = pad_sequences(new_sequence, maxlen=15,\n",
    "                       padding='post', truncating='post')\n",
    "print(padded)"
   ]
  }
 ],
 "metadata": {
  "kernelspec": {
   "display_name": "base",
   "language": "python",
   "name": "python3"
  },
  "language_info": {
   "codemirror_mode": {
    "name": "ipython",
    "version": 3
   },
   "file_extension": ".py",
   "mimetype": "text/x-python",
   "name": "python",
   "nbconvert_exporter": "python",
   "pygments_lexer": "ipython3",
   "version": "3.11.5"
  }
 },
 "nbformat": 4,
 "nbformat_minor": 2
}
