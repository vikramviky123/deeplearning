{
 "cells": [
  {
   "cell_type": "code",
   "execution_count": 1,
   "metadata": {},
   "outputs": [],
   "source": [
    "import os\n",
    "import sys\n",
    "from pathlib import  Path\n",
    "\n",
    "import zipfile\n",
    "import requests\n",
    "\n",
    "import pandas as pd\n",
    "import numpy as np\n",
    "\n",
    "import matplotlib.pyplot as plt\n",
    "import seaborn as sns\n",
    "\n",
    "%matplotlib inline\n",
    "\n",
    "from sklearn.model_selection import  train_test_split\n",
    "\n",
    "import tensorflow\n",
    "import tensorflow as tf\n",
    "from tensorflow.keras import  layers, callbacks\n",
    "from tensorflow.keras.layers import Normalization, Dense, InputLayer, Dropout, BatchNormalization\n",
    "from tensorflow.keras.losses import MeanSquaredError,Huber,MeanAbsoluteError\n",
    "from tensorflow.keras.metrics import RootMeanSquaredError, MeanAbsoluteError\n",
    "from tensorflow.keras.optimizers import Adagrad, RMSprop, Adam"
   ]
  },
  {
   "cell_type": "code",
   "execution_count": 2,
   "metadata": {},
   "outputs": [
    {
     "name": "stdout",
     "output_type": "stream",
     "text": [
      "Binary Crossentropy Loss: 0.32844674587249756\n"
     ]
    }
   ],
   "source": [
    "import tensorflow as tf\n",
    "\n",
    "# Example data\n",
    "y_true_binary = tf.constant([0, 1, 1, 0], dtype=tf.float32)\n",
    "y_pred_binary = tf.constant([0.2, 0.8, 0.6, 0.3], dtype=tf.float32)\n",
    "\n",
    "# Binary Crossentropy\n",
    "binary_crossentropy = tf.keras.losses.BinaryCrossentropy()\n",
    "loss_binary = binary_crossentropy(y_true_binary, y_pred_binary)\n",
    "\n",
    "print(f'Binary Crossentropy Loss: {loss_binary.numpy()}')"
   ]
  },
  {
   "cell_type": "code",
   "execution_count": 3,
   "metadata": {},
   "outputs": [
    {
     "name": "stdout",
     "output_type": "stream",
     "text": [
      "Categorical Crossentropy Loss: 0.5945971012115479\n"
     ]
    }
   ],
   "source": [
    "# Example data\n",
    "y_true_categorical = tf.constant(\n",
    "    [[0, 1, 0], [1, 0, 0], [0, 0, 1]], dtype=tf.float32)\n",
    "y_pred_categorical = tf.constant(\n",
    "    [[0.1, 0.7, 0.2], [0.8, 0.1, 0.1], [0.3, 0.4, 0.3]], dtype=tf.float32)\n",
    "\n",
    "# Categorical Crossentropy\n",
    "categorical_crossentropy = tf.keras.losses.CategoricalCrossentropy()\n",
    "loss_categorical = categorical_crossentropy(\n",
    "    y_true_categorical, y_pred_categorical)\n",
    "\n",
    "print(f'Categorical Crossentropy Loss: {loss_categorical.numpy()}')"
   ]
  },
  {
   "cell_type": "code",
   "execution_count": 4,
   "metadata": {},
   "outputs": [
    {
     "name": "stdout",
     "output_type": "stream",
     "text": [
      "Sparse Categorical Crossentropy Loss: 0.5945971012115479\n"
     ]
    }
   ],
   "source": [
    "# Example data (integer labels)\n",
    "y_true_sparse = tf.constant([1, 0, 2], dtype=tf.int64)\n",
    "y_pred_sparse = tf.constant([[0.1, 0.7, 0.2], [0.8, 0.1, 0.1], [\n",
    "                            0.3, 0.4, 0.3]], dtype=tf.float32)\n",
    "\n",
    "# Sparse Categorical Crossentropy\n",
    "sparse_categorical_crossentropy = tf.keras.losses.SparseCategoricalCrossentropy()\n",
    "loss_sparse = sparse_categorical_crossentropy(y_true_sparse, y_pred_sparse)\n",
    "\n",
    "print(f'Sparse Categorical Crossentropy Loss: {loss_sparse.numpy()}')"
   ]
  },
  {
   "cell_type": "code",
   "execution_count": null,
   "metadata": {},
   "outputs": [],
   "source": []
  }
 ],
 "metadata": {
  "kernelspec": {
   "display_name": "base",
   "language": "python",
   "name": "python3"
  },
  "language_info": {
   "codemirror_mode": {
    "name": "ipython",
    "version": 3
   },
   "file_extension": ".py",
   "mimetype": "text/x-python",
   "name": "python",
   "nbconvert_exporter": "python",
   "pygments_lexer": "ipython3",
   "version": "3.10.9"
  }
 },
 "nbformat": 4,
 "nbformat_minor": 2
}
