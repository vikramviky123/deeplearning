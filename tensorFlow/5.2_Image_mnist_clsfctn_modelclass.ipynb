{
 "cells": [
  {
   "cell_type": "code",
   "execution_count": 1,
   "metadata": {},
   "outputs": [
    {
     "name": "stdout",
     "output_type": "stream",
     "text": [
      "WARNING:tensorflow:From c:\\Users\\91981\\anaconda3\\lib\\site-packages\\keras\\src\\losses.py:2976: The name tf.losses.sparse_softmax_cross_entropy is deprecated. Please use tf.compat.v1.losses.sparse_softmax_cross_entropy instead.\n",
      "\n",
      "WARNING:tensorflow:From c:\\Users\\91981\\anaconda3\\lib\\site-packages\\tensorflow_probability\\python\\internal\\backend\\numpy\\_utils.py:48: The name tf.logging.TaskLevelStatusMessage is deprecated. Please use tf.compat.v1.logging.TaskLevelStatusMessage instead.\n",
      "\n",
      "WARNING:tensorflow:From c:\\Users\\91981\\anaconda3\\lib\\site-packages\\tensorflow_probability\\python\\internal\\backend\\numpy\\_utils.py:48: The name tf.control_flow_v2_enabled is deprecated. Please use tf.compat.v1.control_flow_v2_enabled instead.\n",
      "\n"
     ]
    }
   ],
   "source": [
    "import os\n",
    "import sys\n",
    "from pathlib import  Path\n",
    "\n",
    "import zipfile\n",
    "import requests\n",
    "\n",
    "import pandas as pd\n",
    "import numpy as np\n",
    "\n",
    "import matplotlib.pyplot as plt\n",
    "import seaborn as sns\n",
    "\n",
    "%matplotlib inline\n",
    "\n",
    "from sklearn.model_selection import  train_test_split\n",
    "\n",
    "import tensorflow\n",
    "import tensorflow as tf\n",
    "\n",
    "import tensorflow_datasets as tfds\n",
    "import tensorflow_probability as tfp\n",
    "\n",
    "from tensorflow.keras.models import Model\n",
    "from tensorflow.keras.layers import Layer\n",
    "\n",
    "from tensorflow.keras.layers import Conv2D, MaxPool2D, Dense, Flatten, InputLayer\n",
    "from tensorflow.keras.layers import BatchNormalization, Input, Dropout\n",
    "from tensorflow.keras.layers import RandomFlip, RandomRotation, Resizing, Rescaling\n",
    "\n",
    "from tensorflow.keras.losses import BinaryCrossentropy\n",
    "from tensorflow.keras.metrics import BinaryAccuracy, FalsePositives, FalseNegatives, TruePositives\n",
    "from tensorflow.keras.metrics import TrueNegatives, Precision, Recall, AUC, binary_accuracy\n",
    "\n",
    "from tensorflow.keras.optimizers import Adam, RMSprop, Adam\n",
    "from tensorflow.keras.callbacks import Callback, CSVLogger, EarlyStopping, LearningRateScheduler, ModelCheckpoint, ReduceLROnPlateau\n",
    "from tensorflow.keras.regularizers  import L2, L1\n",
    "\n",
    "from tensorboard.plugins.hparams import api as hp\n",
    "\n",
    "from helper import *"
   ]
  },
  {
   "cell_type": "code",
   "execution_count": 2,
   "metadata": {},
   "outputs": [],
   "source": [
    "# import wandb\n",
    "# from wandb.keras import WandbCallback"
   ]
  },
  {
   "cell_type": "markdown",
   "metadata": {},
   "source": [
    "## Data Download"
   ]
  },
  {
   "cell_type": "code",
   "execution_count": 3,
   "metadata": {},
   "outputs": [],
   "source": [
    "(ds_train, ds_test), ds_info = tfds.load(\n",
    "    'mnist',\n",
    "    split=['train', 'test'],\n",
    "    shuffle_files=True,\n",
    "    as_supervised=True,\n",
    "    with_info=True,\n",
    ")"
   ]
  },
  {
   "cell_type": "code",
   "execution_count": 4,
   "metadata": {},
   "outputs": [
    {
     "name": "stdout",
     "output_type": "stream",
     "text": [
      "[0, 1, 2, 3, 4, 5, 6, 7, 8, 9]\n",
      "[0, 1, 2, 3, 4, 5]\n",
      "[6, 7]\n",
      "[8, 9]\n"
     ]
    }
   ],
   "source": [
    "d_set = tf.data.Dataset.range(10)\n",
    "print(list(d_set.as_numpy_iterator()))\n",
    "\n",
    "ll = len(list(d_set.as_numpy_iterator()))\n",
    "\n",
    "tr_d_set = d_set.take(int(ll*0.6))\n",
    "print(list(tr_d_set.as_numpy_iterator()))\n",
    "\n",
    "val_d_set = d_set.skip(int(ll*0.6))\n",
    "val_set = val_d_set.take(int(ll*0.2))\n",
    "print(list(val_set.as_numpy_iterator()))\n",
    "\n",
    "ts_d_set = val_d_set.skip(int(ll*0.2))\n",
    "print(list(ts_d_set.as_numpy_iterator()))"
   ]
  },
  {
   "cell_type": "markdown",
   "metadata": {},
   "source": [
    "## Data SPlitting"
   ]
  },
  {
   "cell_type": "code",
   "execution_count": 5,
   "metadata": {},
   "outputs": [],
   "source": [
    "TRAIN_RATIO = 0.8\n",
    "VAL_RATIO = 0.2\n",
    "\n",
    "\n",
    "train_dataset, val_dataset = splits(\n",
    "    ds_train, TRAIN_RATIO, VAL_RATIO)\n",
    "# print(list(train_dataset.take(1).as_numpy_iterator()),\n",
    "#     list(val_dataset.take(1).as_numpy_iterator()), list(test_dataset.take(1).as_numpy_iterator()))"
   ]
  },
  {
   "cell_type": "code",
   "execution_count": 6,
   "metadata": {},
   "outputs": [],
   "source": [
    "# print(list(train_dataset.take(1).as_numpy_iterator()),\n",
    "#     list(val_dataset.take(1).as_numpy_iterator()))"
   ]
  },
  {
   "cell_type": "code",
   "execution_count": 7,
   "metadata": {},
   "outputs": [
    {
     "data": {
      "image/png": "[encoded data removed]",
      "text/plain": [
       "<Figure size 1500x700 with 16 Axes>"
      ]
     },
     "metadata": {},
     "output_type": "display_data"
    }
   ],
   "source": [
    "plt.figure(figsize=(15,7))\n",
    "for i, (image, label) in enumerate(train_dataset.take(16)):\n",
    "  ax = plt.subplot(4, 8, i + 1)\n",
    "\n",
    "  plt.imshow(image)\n",
    "  plt.title(ds_info.features['label'].int2str(label.numpy()))\n",
    "  plt.axis('off')\n",
    "plt.tight_layout()\n",
    "plt.show()"
   ]
  },
  {
   "cell_type": "code",
   "execution_count": 8,
   "metadata": {},
   "outputs": [],
   "source": [
    "CONFIGURATION = {\n",
    "    \"LEARNING_RATE\": 0.001,\n",
    "    \"N_EPOCHS\": 5,\n",
    "    \"BATCH_SIZE\": 128,\n",
    "    \"DROPOUT_RATE\": 0.0,\n",
    "    \"IM_SIZE\": 24,\n",
    "    \"REGULARIZATION_RATE\": 0.0,\n",
    "    \"N_FILTERS\": 6,\n",
    "    \"KERNEL_SIZE\": 3,\n",
    "    \"N_STRIDES\": 1,\n",
    "    \"POOL_SIZE\": 2,\n",
    "    \"N_DENSE_1\": 100,\n",
    "    \"N_DENSE_2\": 10,\n",
    "}\n"
   ]
  },
  {
   "cell_type": "markdown",
   "metadata": {},
   "source": [
    "### Data Generator"
   ]
  },
  {
   "cell_type": "code",
   "execution_count": 9,
   "metadata": {},
   "outputs": [],
   "source": [
    "def resize_rescale(image, label):\n",
    "    return tf.cast(image, tf.float32) / 255., label"
   ]
  },
  {
   "cell_type": "code",
   "execution_count": 10,
   "metadata": {},
   "outputs": [],
   "source": [
    "train_ = train_dataset.map(resize_rescale)\n",
    "train_data = train_.shuffle(\n",
    "    buffer_size=8, reshuffle_each_iteration=True).batch(128).prefetch(tf.data.AUTOTUNE)\n",
    "\n",
    "val_ = val_dataset.map(resize_rescale)\n",
    "validation_data = val_.shuffle(\n",
    "    buffer_size=8, reshuffle_each_iteration=True).batch(128).prefetch(tf.data.AUTOTUNE)\n",
    "\n",
    "test_ = ds_test.map(resize_rescale)\n",
    "# test_data = test_.shuffle(\n",
    "#     buffer_size=8, reshuffle_each_iteration=True).batch(128).prefetch(tf.data.AUTOTUNE)"
   ]
  },
  {
   "cell_type": "code",
   "execution_count": 11,
   "metadata": {},
   "outputs": [],
   "source": [
    "early_stopping = EarlyStopping(\n",
    "    monitor='val_loss',\n",
    "    min_delta = 0.0001,\n",
    "    patience = 20,\n",
    "    verbose=1,\n",
    "    mode = 'auto',\n",
    "    baseline= None,\n",
    "    restore_best_weights = True\n",
    ")"
   ]
  },
  {
   "cell_type": "code",
   "execution_count": 12,
   "metadata": {},
   "outputs": [],
   "source": [
    "test_data = test_.batch(1)"
   ]
  },
  {
   "cell_type": "code",
   "execution_count": null,
   "metadata": {},
   "outputs": [],
   "source": []
  },
  {
   "cell_type": "markdown",
   "metadata": {},
   "source": [
    "## Model Training"
   ]
  },
  {
   "cell_type": "markdown",
   "metadata": {},
   "source": [
    "### Model Generation"
   ]
  },
  {
   "cell_type": "code",
   "execution_count": 13,
   "metadata": {},
   "outputs": [
    {
     "name": "stdout",
     "output_type": "stream",
     "text": [
      "WARNING:tensorflow:From c:\\Users\\91981\\anaconda3\\lib\\site-packages\\keras\\src\\backend.py:1398: The name tf.executing_eagerly_outside_functions is deprecated. Please use tf.compat.v1.executing_eagerly_outside_functions instead.\n",
      "\n"
     ]
    },
    {
     "name": "stderr",
     "output_type": "stream",
     "text": [
      "WARNING:tensorflow:From c:\\Users\\91981\\anaconda3\\lib\\site-packages\\keras\\src\\backend.py:1398: The name tf.executing_eagerly_outside_functions is deprecated. Please use tf.compat.v1.executing_eagerly_outside_functions instead.\n",
      "\n"
     ]
    },
    {
     "name": "stdout",
     "output_type": "stream",
     "text": [
      "WARNING:tensorflow:From c:\\Users\\91981\\anaconda3\\lib\\site-packages\\keras\\src\\layers\\normalization\\batch_normalization.py:979: The name tf.nn.fused_batch_norm is deprecated. Please use tf.compat.v1.nn.fused_batch_norm instead.\n",
      "\n"
     ]
    },
    {
     "name": "stderr",
     "output_type": "stream",
     "text": [
      "WARNING:tensorflow:From c:\\Users\\91981\\anaconda3\\lib\\site-packages\\keras\\src\\layers\\normalization\\batch_normalization.py:979: The name tf.nn.fused_batch_norm is deprecated. Please use tf.compat.v1.nn.fused_batch_norm instead.\n",
      "\n"
     ]
    },
    {
     "name": "stdout",
     "output_type": "stream",
     "text": [
      "Model: \"Lenet_Model_Func\"\n",
      "_________________________________________________________________\n",
      " Layer (type)                Output Shape              Param #   \n",
      "=================================================================\n",
      " Input Image (InputLayer)    [(None, 28, 28, 1)]       0         \n",
      "                                                                 \n",
      " conv2d (Conv2D)             (None, 24, 24, 6)         156       \n",
      "                                                                 \n",
      " batch_normalization (Batch  (None, 24, 24, 6)         24        \n",
      " Normalization)                                                  \n",
      "                                                                 \n",
      " max_pooling2d (MaxPooling2  (None, 12, 12, 6)         0         \n",
      " D)                                                              \n",
      "                                                                 \n",
      " conv2d_1 (Conv2D)           (None, 8, 8, 16)          2416      \n",
      "                                                                 \n",
      " batch_normalization_1 (Bat  (None, 8, 8, 16)          64        \n",
      " chNormalization)                                                \n",
      "                                                                 \n",
      " max_pooling2d_1 (MaxPoolin  (None, 4, 4, 16)          0         \n",
      " g2D)                                                            \n",
      "                                                                 \n",
      " flatten (Flatten)           (None, 256)               0         \n",
      "                                                                 \n",
      " dense (Dense)               (None, 120)               30840     \n",
      "                                                                 \n",
      " batch_normalization_2 (Bat  (None, 120)               480       \n",
      " chNormalization)                                                \n",
      "                                                                 \n",
      " dense_1 (Dense)             (None, 84)                10164     \n",
      "                                                                 \n",
      " batch_normalization_3 (Bat  (None, 84)                336       \n",
      " chNormalization)                                                \n",
      "                                                                 \n",
      " dense_2 (Dense)             (None, 10)                850       \n",
      "                                                                 \n",
      "=================================================================\n",
      "Total params: 45330 (177.07 KB)\n",
      "Trainable params: 44878 (175.30 KB)\n",
      "Non-trainable params: 452 (1.77 KB)\n",
      "_________________________________________________________________\n"
     ]
    }
   ],
   "source": [
    "func_input = Input(shape=(28, 28, 1), name=\"Input Image\")\n",
    "\n",
    "\n",
    "x =    tf.keras.layers.Conv2D(filters=6, kernel_size=5, strides=(\n",
    "        1, 1), padding='valid', activation='relu')(func_input)\n",
    "x =    tf.keras.layers.BatchNormalization()(x)\n",
    "x =   tf.keras.layers.MaxPooling2D(pool_size=(\n",
    "        2, 2), strides=(2, 2), padding='valid')(x)\n",
    "\n",
    "x =   tf.keras.layers.Conv2D(filters=16, kernel_size=5, strides=(\n",
    "        1, 1), padding='valid', activation='relu')(x)\n",
    "x =   tf.keras.layers.BatchNormalization()(x)\n",
    "x =   tf.keras.layers.MaxPooling2D(pool_size=(\n",
    "        2, 2), strides=(2, 2), padding='valid')(x)\n",
    "\n",
    "x =    tf.keras.layers.Flatten()(x)\n",
    "\n",
    "x =    tf.keras.layers.Dense(120, activation='relu')(x)\n",
    "x =    tf.keras.layers.BatchNormalization()(x)\n",
    "x =    tf.keras.layers.Dense(84, activation='relu')(x)\n",
    "x =    tf.keras.layers.BatchNormalization()(x)\n",
    "func_output = tf.keras.layers.Dense(10, activation='softmax')(x)\n",
    "\n",
    "\n",
    "lenet_model_func = Model(func_input, func_output, name=\"Lenet_Model_Func\")\n",
    "\n",
    "lenet_model_func.summary()"
   ]
  },
  {
   "cell_type": "code",
   "execution_count": null,
   "metadata": {},
   "outputs": [],
   "source": []
  },
  {
   "cell_type": "code",
   "execution_count": 14,
   "metadata": {},
   "outputs": [],
   "source": [
    "class FeatureExtractor(Layer):\n",
    "    def __init__(self,filters,kernel_size,strides,padding,activation,pool_size):\n",
    "        super(FeatureExtractor,self).__init__()\n",
    "        \n",
    "        self.conv_1 = tf.keras.layers.Conv2D(filters=filters, kernel_size=kernel_size, strides=strides, padding=padding, activation=activation)\n",
    "        self.batch_1 = tf.keras.layers.BatchNormalization()\n",
    "        self.maxpool_1 = tf.keras.layers.MaxPooling2D(pool_size=pool_size, strides=strides*2, padding=padding)\n",
    "        \n",
    "        self.conv_2 = tf.keras.layers.Conv2D(filters=filters*2+4, kernel_size=kernel_size, strides=strides, padding=padding, activation=activation)\n",
    "        self.batch_2 = tf.keras.layers.BatchNormalization()\n",
    "        self.maxpool_2 = tf.keras.layers.MaxPooling2D(pool_size=pool_size, strides=strides*2, padding=padding)\n",
    "        \n",
    "    def call(self,x, training):\n",
    "        x = self.conv_1(x)\n",
    "        x = self.batch_1(x)\n",
    "        x = self.maxpool_1(x)\n",
    "        \n",
    "        x = self.conv_2(x)\n",
    "        x = self.batch_2(x)\n",
    "        x = self.maxpool_2(x)\n",
    "        \n",
    "        return x\n",
    "    \n",
    "\n",
    "class ModelExtractor(Model):\n",
    "    def __init__(self):\n",
    "        super(ModelExtractor, self).__init__()\n",
    "\n",
    "        self.fetaure_extractor = FeatureExtractor(filters=6,\n",
    "                                       kernel_size=5,\n",
    "                                       strides=1,\n",
    "                                       padding='valid',\n",
    "                                       activation='relu',\n",
    "                                       pool_size=2)\n",
    "        \n",
    "        self.flatten = tf.keras.layers.Flatten()\n",
    "\n",
    "        self.dense_1 = tf.keras.layers.Dense(120, activation='relu')\n",
    "        self.batch_1 = tf.keras.layers.BatchNormalization()\n",
    "        self.dense_2 = tf.keras.layers.Dense(84, activation='relu')\n",
    "        self.batch_2 = tf.keras.layers.BatchNormalization()\n",
    "        self.dense_3 = tf.keras.layers.Dense(10, activation='softmax')\n",
    "\n",
    "    def call(self, x, training):\n",
    "        x = self.fetaure_extractor(x)\n",
    "        x = self.flatten(x)\n",
    "        \n",
    "        x = self.dense_1(x)\n",
    "        x = self.batch_1(x)\n",
    "        \n",
    "        x = self.dense_2(x)\n",
    "        x = self.batch_2(x)\n",
    "\n",
    "        x = self.dense_3(x)\n",
    "\n",
    "        return x\n",
    "    \n",
    "feature_sub_classed = FeatureExtractor(filters=6,\n",
    "                                       kernel_size=5,\n",
    "                                       strides=1,\n",
    "                                       padding='valid',\n",
    "                                       activation='relu',\n",
    "                                       pool_size=2)\n",
    "\n",
    "model_sub_classed = ModelExtractor()"
   ]
  },
  {
   "cell_type": "code",
   "execution_count": 15,
   "metadata": {},
   "outputs": [
    {
     "name": "stdout",
     "output_type": "stream",
     "text": [
      "Model: \"Lenet_Model_sub_classed\"\n",
      "_________________________________________________________________\n",
      " Layer (type)                Output Shape              Param #   \n",
      "=================================================================\n",
      " Input Image (InputLayer)    [(None, 28, 28, 1)]       0         \n",
      "                                                                 \n",
      " model_extractor (ModelExtr  (None, 10)                45330     \n",
      " actor)                                                          \n",
      "                                                                 \n",
      "=================================================================\n",
      "Total params: 45330 (177.07 KB)\n",
      "Trainable params: 44878 (175.30 KB)\n",
      "Non-trainable params: 452 (1.77 KB)\n",
      "_________________________________________________________________\n"
     ]
    }
   ],
   "source": [
    "func_input = Input(shape=(28, 28, 1), name=\"Input Image\")\n",
    "\n",
    "func_output = model_sub_classed(func_input)\n",
    "\n",
    "lenet_model_sub_classed = Model(func_input, func_output, name=\"Lenet_Model_sub_classed\")\n",
    "\n",
    "lenet_model_sub_classed.summary()"
   ]
  },
  {
   "cell_type": "markdown",
   "metadata": {},
   "source": [
    "### Callbacks"
   ]
  },
  {
   "cell_type": "code",
   "execution_count": 16,
   "metadata": {},
   "outputs": [],
   "source": [
    "class CustomCallback(tf.keras.callbacks.Callback):\n",
    "    def on_epoch_end(self,epoch,logs={}):\n",
    "        if (logs.get('val_sparse_categorical_accuracy')>=0.992):\n",
    "            print(\"99.5% Accuracy is reached .......Hence Stopping\")\n",
    "            self.model.stop_training=True  \n",
    "                                                                                   \n",
    "def schedule_func(epoch,lr):\n",
    "    if epoch < 3:\n",
    "        return lr\n",
    "    else:\n",
    "        return lr * tf.math.exp(-0.1)\n",
    "\n",
    "# Giving call back for accuracy\n",
    "callbacks = CustomCallback() \n",
    "\n",
    "# Giving call back for EarlyStopping\n",
    "early_stopping = EarlyStopping(\n",
    "    monitor='val_loss',\n",
    "    min_delta=0.0001,\n",
    "    patience=10,\n",
    "    verbose=1,\n",
    "    mode='auto',\n",
    "    baseline=None,\n",
    "    restore_best_weights=True\n",
    ")\n",
    "      \n",
    "# Logging the losses and metrics data\n",
    "filename = 'log.csv'\n",
    "csv_logger = tf.keras.callbacks.CSVLogger(filename, separator=',', append=False)\n",
    "\n",
    "# Changing Learning Rate with a Scheduler function\n",
    "lr_scheduler = tf.keras.callbacks.LearningRateScheduler(schedule_func)\n",
    "lr_scheduler = tf.keras.callbacks.ReduceLROnPlateau(\n",
    "    monitor='val_sparse_categorical_accuracy',\n",
    "                                                    factor=0.1,\n",
    "                                                    patience=3,\n",
    "                                                    verbose=1,\n",
    "                                                    mode='auto'                                      \n",
    "                                                )\n",
    "\n",
    "# Saving the best model and its weights to given path\n",
    "checkpoint_filepath = 'weights/tmp/checkpoint'\n",
    "model_checkpoint_callback = tf.keras.callbacks.ModelCheckpoint(\n",
    "                                                                    filepath=checkpoint_filepath,\n",
    "                                                                    verbose = 1,\n",
    "                                                                    save_weights_only=True,\n",
    "                                                                    save_best_only=True,\n",
    "                                                                    monitor='val_loss',\n",
    "                                                                    mode='auto'\n",
    "                                                                    )"
   ]
  },
  {
   "cell_type": "markdown",
   "metadata": {},
   "source": [
    "### Training"
   ]
  },
  {
   "cell_type": "code",
   "execution_count": 17,
   "metadata": {},
   "outputs": [
    {
     "name": "stdout",
     "output_type": "stream",
     "text": [
      "Epoch 1/50\n",
      "WARNING:tensorflow:From c:\\Users\\91981\\anaconda3\\lib\\site-packages\\keras\\src\\utils\\tf_utils.py:492: The name tf.ragged.RaggedTensorValue is deprecated. Please use tf.compat.v1.ragged.RaggedTensorValue instead.\n",
      "\n"
     ]
    },
    {
     "name": "stderr",
     "output_type": "stream",
     "text": [
      "WARNING:tensorflow:From c:\\Users\\91981\\anaconda3\\lib\\site-packages\\keras\\src\\utils\\tf_utils.py:492: The name tf.ragged.RaggedTensorValue is deprecated. Please use tf.compat.v1.ragged.RaggedTensorValue instead.\n",
      "\n"
     ]
    },
    {
     "name": "stdout",
     "output_type": "stream",
     "text": [
      "\n",
      "Epoch 1: val_loss improved from inf to 0.08413, saving model to weights/tmp\\checkpoint\n",
      "375/375 - 10s - loss: 0.1414 - sparse_categorical_accuracy: 0.9560 - val_loss: 0.0841 - val_sparse_categorical_accuracy: 0.9742 - lr: 0.0100 - 10s/epoch - 27ms/step\n",
      "Epoch 2/50\n",
      "\n",
      "Epoch 2: val_loss did not improve from 0.08413\n",
      "375/375 - 7s - loss: 0.0603 - sparse_categorical_accuracy: 0.9815 - val_loss: 0.0957 - val_sparse_categorical_accuracy: 0.9721 - lr: 0.0100 - 7s/epoch - 18ms/step\n",
      "Epoch 3/50\n",
      "\n",
      "Epoch 3: val_loss did not improve from 0.08413\n",
      "375/375 - 7s - loss: 0.0437 - sparse_categorical_accuracy: 0.9861 - val_loss: 0.0949 - val_sparse_categorical_accuracy: 0.9729 - lr: 0.0100 - 7s/epoch - 18ms/step\n",
      "Epoch 4/50\n",
      "\n",
      "Epoch 4: val_loss improved from 0.08413 to 0.05148, saving model to weights/tmp\\checkpoint\n",
      "375/375 - 7s - loss: 0.0357 - sparse_categorical_accuracy: 0.9887 - val_loss: 0.0515 - val_sparse_categorical_accuracy: 0.9861 - lr: 0.0100 - 7s/epoch - 19ms/step\n",
      "Epoch 5/50\n",
      "\n",
      "Epoch 5: val_loss improved from 0.05148 to 0.05144, saving model to weights/tmp\\checkpoint\n",
      "375/375 - 8s - loss: 0.0298 - sparse_categorical_accuracy: 0.9908 - val_loss: 0.0514 - val_sparse_categorical_accuracy: 0.9871 - lr: 0.0100 - 8s/epoch - 22ms/step\n",
      "Epoch 6/50\n",
      "\n",
      "Epoch 6: val_loss improved from 0.05144 to 0.04557, saving model to weights/tmp\\checkpoint\n",
      "375/375 - 7s - loss: 0.0248 - sparse_categorical_accuracy: 0.9923 - val_loss: 0.0456 - val_sparse_categorical_accuracy: 0.9877 - lr: 0.0100 - 7s/epoch - 19ms/step\n",
      "Epoch 7/50\n",
      "\n",
      "Epoch 7: val_loss did not improve from 0.04557\n",
      "375/375 - 6s - loss: 0.0225 - sparse_categorical_accuracy: 0.9928 - val_loss: 0.0542 - val_sparse_categorical_accuracy: 0.9856 - lr: 0.0100 - 6s/epoch - 17ms/step\n",
      "Epoch 8/50\n",
      "\n",
      "Epoch 8: val_loss did not improve from 0.04557\n",
      "375/375 - 6s - loss: 0.0197 - sparse_categorical_accuracy: 0.9938 - val_loss: 0.0826 - val_sparse_categorical_accuracy: 0.9780 - lr: 0.0100 - 6s/epoch - 17ms/step\n",
      "Epoch 9/50\n",
      "\n",
      "Epoch 9: ReduceLROnPlateau reducing learning rate to 0.0009999999776482583.\n",
      "\n",
      "Epoch 9: val_loss did not improve from 0.04557\n",
      "375/375 - 6s - loss: 0.0203 - sparse_categorical_accuracy: 0.9936 - val_loss: 0.0531 - val_sparse_categorical_accuracy: 0.9862 - lr: 0.0100 - 6s/epoch - 17ms/step\n",
      "Epoch 10/50\n",
      "\n",
      "Epoch 10: val_loss improved from 0.04557 to 0.03398, saving model to weights/tmp\\checkpoint\n",
      "375/375 - 6s - loss: 0.0083 - sparse_categorical_accuracy: 0.9974 - val_loss: 0.0340 - val_sparse_categorical_accuracy: 0.9907 - lr: 1.0000e-03 - 6s/epoch - 17ms/step\n",
      "Epoch 11/50\n",
      "\n",
      "Epoch 11: val_loss improved from 0.03398 to 0.03350, saving model to weights/tmp\\checkpoint\n",
      "375/375 - 6s - loss: 0.0043 - sparse_categorical_accuracy: 0.9989 - val_loss: 0.0335 - val_sparse_categorical_accuracy: 0.9913 - lr: 1.0000e-03 - 6s/epoch - 17ms/step\n",
      "Epoch 12/50\n",
      "\n",
      "Epoch 12: val_loss did not improve from 0.03350\n",
      "375/375 - 7s - loss: 0.0030 - sparse_categorical_accuracy: 0.9995 - val_loss: 0.0338 - val_sparse_categorical_accuracy: 0.9911 - lr: 1.0000e-03 - 7s/epoch - 18ms/step\n",
      "Epoch 13/50\n",
      "\n",
      "Epoch 13: val_loss did not improve from 0.03350\n",
      "375/375 - 6s - loss: 0.0022 - sparse_categorical_accuracy: 0.9996 - val_loss: 0.0339 - val_sparse_categorical_accuracy: 0.9911 - lr: 1.0000e-03 - 6s/epoch - 17ms/step\n",
      "Epoch 14/50\n",
      "\n",
      "Epoch 14: ReduceLROnPlateau reducing learning rate to 9.999999310821295e-05.\n",
      "\n",
      "Epoch 14: val_loss did not improve from 0.03350\n",
      "375/375 - 6s - loss: 0.0017 - sparse_categorical_accuracy: 0.9997 - val_loss: 0.0348 - val_sparse_categorical_accuracy: 0.9910 - lr: 1.0000e-03 - 6s/epoch - 16ms/step\n",
      "Epoch 15/50\n",
      "\n",
      "Epoch 15: val_loss did not improve from 0.03350\n",
      "375/375 - 6s - loss: 0.0013 - sparse_categorical_accuracy: 0.9999 - val_loss: 0.0349 - val_sparse_categorical_accuracy: 0.9910 - lr: 1.0000e-04 - 6s/epoch - 16ms/step\n",
      "Epoch 16/50\n",
      "\n",
      "Epoch 16: val_loss did not improve from 0.03350\n",
      "375/375 - 6s - loss: 0.0012 - sparse_categorical_accuracy: 0.9999 - val_loss: 0.0350 - val_sparse_categorical_accuracy: 0.9911 - lr: 1.0000e-04 - 6s/epoch - 16ms/step\n",
      "Epoch 17/50\n",
      "\n",
      "Epoch 17: ReduceLROnPlateau reducing learning rate to 9.999999019782991e-06.\n",
      "\n",
      "Epoch 17: val_loss did not improve from 0.03350\n",
      "375/375 - 7s - loss: 0.0012 - sparse_categorical_accuracy: 0.9999 - val_loss: 0.0351 - val_sparse_categorical_accuracy: 0.9912 - lr: 1.0000e-04 - 7s/epoch - 18ms/step\n",
      "Epoch 18/50\n",
      "\n",
      "Epoch 18: val_loss did not improve from 0.03350\n",
      "375/375 - 8s - loss: 0.0011 - sparse_categorical_accuracy: 0.9999 - val_loss: 0.0351 - val_sparse_categorical_accuracy: 0.9912 - lr: 1.0000e-05 - 8s/epoch - 20ms/step\n",
      "Epoch 19/50\n",
      "\n",
      "Epoch 19: val_loss did not improve from 0.03350\n",
      "375/375 - 7s - loss: 0.0011 - sparse_categorical_accuracy: 0.9999 - val_loss: 0.0351 - val_sparse_categorical_accuracy: 0.9912 - lr: 1.0000e-05 - 7s/epoch - 19ms/step\n",
      "Epoch 20/50\n",
      "\n",
      "Epoch 20: ReduceLROnPlateau reducing learning rate to 9.99999883788405e-07.\n",
      "\n",
      "Epoch 20: val_loss did not improve from 0.03350\n",
      "375/375 - 8s - loss: 0.0010 - sparse_categorical_accuracy: 0.9999 - val_loss: 0.0351 - val_sparse_categorical_accuracy: 0.9912 - lr: 1.0000e-05 - 8s/epoch - 20ms/step\n",
      "Epoch 21/50\n",
      "Restoring model weights from the end of the best epoch: 11.\n",
      "\n",
      "Epoch 21: val_loss did not improve from 0.03350\n",
      "375/375 - 8s - loss: 0.0011 - sparse_categorical_accuracy: 0.9999 - val_loss: 0.0351 - val_sparse_categorical_accuracy: 0.9912 - lr: 1.0000e-06 - 8s/epoch - 20ms/step\n",
      "Epoch 21: early stopping\n"
     ]
    }
   ],
   "source": [
    "lenet_model_sub_classed.compile(optimizer=tf.keras.optimizers.Adam(learning_rate=0.01),\n",
    "                                loss=tf.keras.losses.SparseCategoricalCrossentropy(),\n",
    "                                metrics=['sparse_categorical_accuracy'])\n",
    "\n",
    "lenet_history = lenet_model_sub_classed.fit(train_data,\n",
    "                            validation_data=validation_data,\n",
    "                            epochs=50,\n",
    "                            verbose=2,\n",
    "                            callbacks = [callbacks, \n",
    "                                         early_stopping, \n",
    "                                         csv_logger, \n",
    "                                         lr_scheduler, \n",
    "                                         model_checkpoint_callback])"
   ]
  },
  {
   "cell_type": "code",
   "execution_count": 18,
   "metadata": {},
   "outputs": [
    {
     "data": {
      "image/png": "[encoded data removed]",
      "text/plain": [
       "<Figure size 1500x500 with 2 Axes>"
      ]
     },
     "metadata": {},
     "output_type": "display_data"
    }
   ],
   "source": [
    "fig, ax = plt.subplots(1, 2, figsize=(15, 5))\n",
    "\n",
    "ax[0].plot(lenet_history.history['loss'], label=\"train_loss\")\n",
    "ax[0].plot(lenet_history.history['val_loss'], label=\"val_loss\")\n",
    "ax[0].set_title(\"SCE loss function\")\n",
    "ax[0].legend()\n",
    "\n",
    "ax[1].plot(lenet_history.history['sparse_categorical_accuracy'], label=\"train_acc\")\n",
    "ax[1].plot(lenet_history.history['val_sparse_categorical_accuracy'],\n",
    "           label=\"val_acc\")\n",
    "ax[1].set_title(\"Accuracy Metric function\")\n",
    "ax[1].legend()\n",
    "plt.tight_layout()\n",
    "plt.show()"
   ]
  },
  {
   "cell_type": "markdown",
   "metadata": {},
   "source": [
    "### Model Evaluation"
   ]
  },
  {
   "cell_type": "code",
   "execution_count": 19,
   "metadata": {},
   "outputs": [
    {
     "name": "stdout",
     "output_type": "stream",
     "text": [
      "10000/10000 [==============================] - 28s 3ms/step - loss: 0.0293 - sparse_categorical_accuracy: 0.9922\n"
     ]
    },
    {
     "data": {
      "text/plain": [
       "[0.029268691316246986, 0.9922000169754028]"
      ]
     },
     "execution_count": 19,
     "metadata": {},
     "output_type": "execute_result"
    }
   ],
   "source": [
    "lenet_model_sub_classed.evaluate(test_data)"
   ]
  },
  {
   "cell_type": "code",
   "execution_count": 25,
   "metadata": {},
   "outputs": [
    {
     "name": "stdout",
     "output_type": "stream",
     "text": [
      "1/1 [==============================] - 0s 34ms/step\n",
      "1/1 [==============================] - 0s 17ms/step\n",
      "1/1 [==============================] - 0s 22ms/step\n",
      "1/1 [==============================] - 0s 20ms/step\n",
      "1/1 [==============================] - 0s 23ms/step\n",
      "1/1 [==============================] - 0s 20ms/step\n",
      "1/1 [==============================] - 0s 22ms/step\n",
      "1/1 [==============================] - 0s 24ms/step\n",
      "1/1 [==============================] - 0s 23ms/step\n",
      "1/1 [==============================] - 0s 32ms/step\n",
      "1/1 [==============================] - 0s 25ms/step\n",
      "1/1 [==============================] - 0s 17ms/step\n",
      "1/1 [==============================] - 0s 24ms/step\n",
      "1/1 [==============================] - 0s 23ms/step\n",
      "1/1 [==============================] - 0s 36ms/step\n",
      "1/1 [==============================] - 0s 25ms/step\n"
     ]
    },
    {
     "data": {
      "image/png": "[encoded data removed]",
      "text/plain": [
       "<Figure size 1500x700 with 16 Axes>"
      ]
     },
     "metadata": {},
     "output_type": "display_data"
    },
    {
     "name": "stdout",
     "output_type": "stream",
     "text": [
      "1/1 [==============================] - 0s 48ms/step\n"
     ]
    },
    {
     "data": {
      "text/plain": [
       "array([[4.6146059e-11, 1.6725983e-10, 1.0000000e+00, 1.2283795e-08,\n",
       "        3.1573519e-09, 1.3472530e-10, 7.0275945e-11, 1.4997614e-11,\n",
       "        3.7191066e-09, 5.5247935e-11]], dtype=float32)"
      ]
     },
     "execution_count": 25,
     "metadata": {},
     "output_type": "execute_result"
    }
   ],
   "source": [
    "plt.figure(figsize=(15, 7))\n",
    "\n",
    "\n",
    "for i, (image, label) in enumerate(test_data.take(16)):\n",
    "\n",
    "  ax = plt.subplot(4, 8, i + 1)\n",
    "\n",
    "  plt.imshow(tf.squeeze(image, axis=0))\n",
    "\n",
    "  pred_prob_lst = lenet_model_sub_classed.predict(image)\n",
    "\n",
    "  pred_label = np.argmax(pred_prob_lst)\n",
    "\n",
    "  pred_prob = np.max(pred_prob_lst)\n",
    "\n",
    "  plt.title(f\"label:{pred_label} prob:{pred_prob:.2f}\")\n",
    "\n",
    "  plt.axis('off')\n",
    "plt.tight_layout()\n",
    "\n",
    "\n",
    "plt.show()\n",
    "\n",
    "lenet_model_sub_classed.predict(test_data.take(1))"
   ]
  },
  {
   "cell_type": "markdown",
   "metadata": {},
   "source": [
    "## Saving Model"
   ]
  },
  {
   "cell_type": "code",
   "execution_count": 43,
   "metadata": {},
   "outputs": [
    {
     "name": "stdout",
     "output_type": "stream",
     "text": [
      "WARNING:tensorflow:From c:\\Users\\91981\\anaconda3\\lib\\site-packages\\keras\\src\\saving\\legacy\\save.py:538: The name tf.train.NewCheckpointReader is deprecated. Please use tf.compat.v1.train.NewCheckpointReader instead.\n",
      "\n"
     ]
    },
    {
     "name": "stderr",
     "output_type": "stream",
     "text": [
      "WARNING:tensorflow:From c:\\Users\\91981\\anaconda3\\lib\\site-packages\\keras\\src\\saving\\legacy\\save.py:538: The name tf.train.NewCheckpointReader is deprecated. Please use tf.compat.v1.train.NewCheckpointReader instead.\n",
      "\n"
     ]
    },
    {
     "name": "stdout",
     "output_type": "stream",
     "text": [
      "10000/10000 [==============================] - 31s 3ms/step - loss: 0.0293 - sparse_categorical_accuracy: 0.9922\n"
     ]
    },
    {
     "data": {
      "text/plain": [
       "[0.029268691316246986, 0.9922000169754028]"
      ]
     },
     "execution_count": 43,
     "metadata": {},
     "output_type": "execute_result"
    }
   ],
   "source": [
    "lenet_model_sub_classed.save_weights('weights/lenet_weights')\n",
    "lenet_model_sub_classed.load_weights('weights/lenet_weights')\n",
    "lenet_model_sub_classed.evaluate(test_data)"
   ]
  },
  {
   "cell_type": "code",
   "execution_count": 44,
   "metadata": {},
   "outputs": [
    {
     "name": "stdout",
     "output_type": "stream",
     "text": [
      "10000/10000 [==============================] - 29s 3ms/step - loss: 0.0293 - sparse_categorical_accuracy: 0.9922\n"
     ]
    },
    {
     "data": {
      "text/plain": [
       "[0.029268691316246986, 0.9922000169754028]"
      ]
     },
     "execution_count": 44,
     "metadata": {},
     "output_type": "execute_result"
    }
   ],
   "source": [
    "lenet_model_sub_classed.load_weights(checkpoint_filepath)\n",
    "lenet_model_sub_classed.evaluate(test_data)"
   ]
  }
 ],
 "metadata": {
  "kernelspec": {
   "display_name": "base",
   "language": "python",
   "name": "python3"
  },
  "language_info": {
   "codemirror_mode": {
    "name": "ipython",
    "version": 3
   },
   "file_extension": ".py",
   "mimetype": "text/x-python",
   "name": "python",
   "nbconvert_exporter": "python",
   "pygments_lexer": "ipython3",
   "version": "3.10.9"
  }
 },
 "nbformat": 4,
 "nbformat_minor": 2
}
