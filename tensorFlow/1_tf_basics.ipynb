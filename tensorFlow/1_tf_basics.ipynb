{
 "cells": [
  {
   "cell_type": "code",
   "execution_count": 14,
   "metadata": {},
   "outputs": [],
   "source": [
    "import tensorflow as tf\n",
    "import numpy as np\n",
    "import sys\n",
    "from  sys import getsizeof"
   ]
  },
  {
   "cell_type": "code",
   "execution_count": 26,
   "metadata": {},
   "outputs": [
    {
     "name": "stdout",
     "output_type": "stream",
     "text": [
      "Random values\n",
      "tf.Tensor([4 3 1], shape=(3,), dtype=int32)\n",
      "\n",
      "Constant values\n",
      "tf.Tensor(4, shape=(), dtype=int32) tf.Tensor(b'I am Vikram', shape=(), dtype=string) tf.Tensor([ True False], shape=(2,), dtype=bool)\n",
      "tf.Tensor([4 3 2], shape=(3,), dtype=int8)\n"
     ]
    }
   ],
   "source": [
    "tf.random.set_seed(5)\n",
    "print(\"Random values\")\n",
    "print(tf.random.uniform(shape=[3,], maxval=5, dtype=tf.int32, seed=10))\n",
    "\n",
    "print(\"\\nConstant values\")\n",
    "print(tf.constant(4), tf.constant(\"I am Vikram\"), tf.constant([True,False]))\n",
    "print(tf.constant([4,3,2],dtype=\"int8\"))"
   ]
  },
  {
   "cell_type": "code",
   "execution_count": 39,
   "metadata": {},
   "outputs": [
    {
     "name": "stdout",
     "output_type": "stream",
     "text": [
      "tf.Tensor(\n",
      "[[1. 2. 3.]\n",
      " [1. 2. 3.]\n",
      " [1. 2. 3.]], shape=(3, 3), dtype=float32) \n",
      " (3, 3)\n"
     ]
    }
   ],
   "source": [
    "tf_2d = tf.constant(\n",
    "    [[1,2,3],\n",
    "    [1,2,3],\n",
    "     [1,2,3]],\n",
    "    dtype=\"float32\",\n",
    ")\n",
    "print(tf_2d,\"\\n\",tf_2d.shape)"
   ]
  },
  {
   "cell_type": "code",
   "execution_count": 42,
   "metadata": {},
   "outputs": [
    {
     "name": "stdout",
     "output_type": "stream",
     "text": [
      "[1 2 3]\n",
      "tf.Tensor([1. 2. 3.], shape=(3,), dtype=float32)\n",
      "tf.Tensor([1. 2. 3.], shape=(3,), dtype=float32)\n"
     ]
    }
   ],
   "source": [
    "np_array = np.array([1,2,3])\n",
    "print(np_array)\n",
    "tf_array = tf.convert_to_tensor(np_array, dtype=\"float32\")\n",
    "tf_array_2 = tf.convert_to_tensor(np_array, dtype=tf.float32)\n",
    "print(tf_array)\n",
    "print(tf_array_2)"
   ]
  },
  {
   "cell_type": "code",
   "execution_count": 77,
   "metadata": {},
   "outputs": [
    {
     "data": {
      "text/plain": [
       "<tf.Tensor: shape=(2, 3, 2, 2), dtype=float32, numpy=\n",
       "array([[[[1., 0.],\n",
       "         [0., 1.]],\n",
       "\n",
       "        [[1., 0.],\n",
       "         [0., 1.]],\n",
       "\n",
       "        [[1., 0.],\n",
       "         [0., 1.]]],\n",
       "\n",
       "\n",
       "       [[[1., 0.],\n",
       "         [0., 1.]],\n",
       "\n",
       "        [[1., 0.],\n",
       "         [0., 1.]],\n",
       "\n",
       "        [[1., 0.],\n",
       "         [0., 1.]]]], dtype=float32)>"
      ]
     },
     "execution_count": 77,
     "metadata": {},
     "output_type": "execute_result"
    }
   ],
   "source": [
    "tf.eye(num_rows=2,num_columns=2,batch_shape=[2,3], dtype=tf.dtypes.float32)"
   ]
  },
  {
   "cell_type": "code",
   "execution_count": 76,
   "metadata": {},
   "outputs": [
    {
     "data": {
      "text/plain": [
       "<tf.Tensor: shape=(2, 3, 2, 4), dtype=float32, numpy=\n",
       "array([[[[1.5, 1.5, 1.5, 1.5],\n",
       "         [1.5, 1.5, 1.5, 1.5]],\n",
       "\n",
       "        [[1.5, 1.5, 1.5, 1.5],\n",
       "         [1.5, 1.5, 1.5, 1.5]],\n",
       "\n",
       "        [[1.5, 1.5, 1.5, 1.5],\n",
       "         [1.5, 1.5, 1.5, 1.5]]],\n",
       "\n",
       "\n",
       "       [[[1.5, 1.5, 1.5, 1.5],\n",
       "         [1.5, 1.5, 1.5, 1.5]],\n",
       "\n",
       "        [[1.5, 1.5, 1.5, 1.5],\n",
       "         [1.5, 1.5, 1.5, 1.5]],\n",
       "\n",
       "        [[1.5, 1.5, 1.5, 1.5],\n",
       "         [1.5, 1.5, 1.5, 1.5]]]], dtype=float32)>"
      ]
     },
     "execution_count": 76,
     "metadata": {},
     "output_type": "execute_result"
    }
   ],
   "source": [
    "tf.fill([2,3,2,4],1.5)"
   ]
  },
  {
   "cell_type": "code",
   "execution_count": 79,
   "metadata": {},
   "outputs": [
    {
     "data": {
      "text/plain": [
       "<tf.Tensor: shape=(2, 3, 2, 4), dtype=float32, numpy=\n",
       "array([[[[0., 0., 0., 0.],\n",
       "         [0., 0., 0., 0.]],\n",
       "\n",
       "        [[0., 0., 0., 0.],\n",
       "         [0., 0., 0., 0.]],\n",
       "\n",
       "        [[0., 0., 0., 0.],\n",
       "         [0., 0., 0., 0.]]],\n",
       "\n",
       "\n",
       "       [[[0., 0., 0., 0.],\n",
       "         [0., 0., 0., 0.]],\n",
       "\n",
       "        [[0., 0., 0., 0.],\n",
       "         [0., 0., 0., 0.]],\n",
       "\n",
       "        [[0., 0., 0., 0.],\n",
       "         [0., 0., 0., 0.]]]], dtype=float32)>"
      ]
     },
     "execution_count": 79,
     "metadata": {},
     "output_type": "execute_result"
    }
   ],
   "source": [
    "tf.ones_like(tf.fill([2, 3,2,4],1.5))\n",
    "tf.zeros_like(tf.fill([2, 3,2,4],1.5))"
   ]
  },
  {
   "cell_type": "code",
   "execution_count": 75,
   "metadata": {},
   "outputs": [
    {
     "data": {
      "text/plain": [
       "<tf.Tensor: shape=(2, 3, 2, 5), dtype=float32, numpy=\n",
       "array([[[[1., 1., 1., 1., 1.],\n",
       "         [1., 1., 1., 1., 1.]],\n",
       "\n",
       "        [[1., 1., 1., 1., 1.],\n",
       "         [1., 1., 1., 1., 1.]],\n",
       "\n",
       "        [[1., 1., 1., 1., 1.],\n",
       "         [1., 1., 1., 1., 1.]]],\n",
       "\n",
       "\n",
       "       [[[1., 1., 1., 1., 1.],\n",
       "         [1., 1., 1., 1., 1.]],\n",
       "\n",
       "        [[1., 1., 1., 1., 1.],\n",
       "         [1., 1., 1., 1., 1.]],\n",
       "\n",
       "        [[1., 1., 1., 1., 1.],\n",
       "         [1., 1., 1., 1., 1.]]]], dtype=float32)>"
      ]
     },
     "execution_count": 75,
     "metadata": {},
     "output_type": "execute_result"
    }
   ],
   "source": [
    "tf.zeros([2,3,2,5])\n",
    "tf.ones([2, 3,2,5])"
   ]
  },
  {
   "cell_type": "code",
   "execution_count": 85,
   "metadata": {},
   "outputs": [
    {
     "data": {
      "text/plain": [
       "<tf.Tensor: shape=(2, 2), dtype=int32, numpy=\n",
       "array([[5, 7],\n",
       "       [9, 9]])>"
      ]
     },
     "execution_count": 85,
     "metadata": {},
     "output_type": "execute_result"
    }
   ],
   "source": [
    "tf.random.uniform([2,2],minval=3,maxval=10, dtype=tf.dtypes.int32)"
   ]
  },
  {
   "cell_type": "code",
   "execution_count": 86,
   "metadata": {},
   "outputs": [
    {
     "data": {
      "text/plain": [
       "<tf.Tensor: shape=(2, 5), dtype=float32, numpy=\n",
       "array([[ 1.4665463e+00, -1.0248139e+00,  8.6743289e-01, -2.2424309e+00,\n",
       "         8.9757569e-02],\n",
       "       [-1.1256858e-01, -1.6262239e-01, -3.1064131e-04, -2.0654018e+00,\n",
       "         9.5980637e-02]], dtype=float32)>"
      ]
     },
     "execution_count": 86,
     "metadata": {},
     "output_type": "execute_result"
    }
   ],
   "source": [
    "tf.random.normal([2,5],mean=0, stddev=1, dtype=tf.dtypes.float32)"
   ]
  },
  {
   "cell_type": "code",
   "execution_count": 21,
   "metadata": {},
   "outputs": [
    {
     "name": "stdout",
     "output_type": "stream",
     "text": [
      "Size of tensor1: 512 bytes\n",
      "Size of tensor2: 692 bytes\n"
     ]
    }
   ],
   "source": [
    "import tensorflow as tf\n",
    "import sys\n",
    "\n",
    "# Create TensorFlow constant tensors with different ranges\n",
    "tensor1 = tf.constant([x for x in range(100)])\n",
    "tensor2 = tf.constant([x for x in range(5, 150)])\n",
    "\n",
    "# Get the sizes of the tensors\n",
    "size1 = sys.getsizeof(tensor1.numpy())\n",
    "size2 = sys.getsizeof(tensor2.numpy())\n",
    "\n",
    "print(f\"Size of tensor1: {size1} bytes\")\n",
    "print(f\"Size of tensor2: {size2} bytes\")"
   ]
  }
 ],
 "metadata": {
  "kernelspec": {
   "display_name": "base",
   "language": "python",
   "name": "python3"
  },
  "language_info": {
   "codemirror_mode": {
    "name": "ipython",
    "version": 3
   },
   "file_extension": ".py",
   "mimetype": "text/x-python",
   "name": "python",
   "nbconvert_exporter": "python",
   "pygments_lexer": "ipython3",
   "version": "3.10.9"
  }
 },
 "nbformat": 4,
 "nbformat_minor": 2
}
