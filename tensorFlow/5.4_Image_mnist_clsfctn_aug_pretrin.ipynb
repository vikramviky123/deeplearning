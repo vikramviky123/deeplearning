{
  "cells": [
    {
      "cell_type": "code",
      "execution_count": 1,
      "metadata": {
        "id": "OvDj3R3zm3NM"
      },
      "outputs": [],
      "source": [
        "import os\n",
        "import sys\n",
        "from pathlib import  Path\n",
        "\n",
        "import zipfile\n",
        "import requests\n",
        "\n",
        "import pandas as pd\n",
        "import numpy as np\n",
        "\n",
        "import matplotlib.pyplot as plt\n",
        "import seaborn as sns\n",
        "\n",
        "%matplotlib inline\n",
        "\n",
        "from datetime import datetime\n",
        "\n",
        "from sklearn.model_selection import  train_test_split\n",
        "\n",
        "import tensorflow\n",
        "import tensorflow as tf\n",
        "\n",
        "import tensorflow_datasets as tfds\n",
        "import tensorflow_probability as tfp\n",
        "\n",
        "from tensorflow.keras.models import Model\n",
        "from tensorflow.keras.layers import Layer\n",
        "\n",
        "from tensorflow.keras.layers import Conv2D, MaxPool2D,GlobalAveragePooling2D, Dense, Flatten, InputLayer\n",
        "from tensorflow.keras.layers import BatchNormalization, Input, Dropout\n",
        "from tensorflow.keras.layers import RandomFlip, RandomRotation, Resizing, Rescaling\n",
        "\n",
        "from tensorflow.keras.losses import BinaryCrossentropy\n",
        "from tensorflow.keras.metrics import BinaryAccuracy, FalsePositives, FalseNegatives, TruePositives\n",
        "from tensorflow.keras.metrics import TrueNegatives, Precision, Recall, AUC, binary_accuracy\n",
        "\n",
        "from tensorflow.keras.optimizers import Adam, RMSprop, Adam\n",
        "from tensorflow.keras.callbacks import Callback, CSVLogger, EarlyStopping, LearningRateScheduler, ModelCheckpoint, ReduceLROnPlateau\n",
        "from tensorflow.keras.regularizers  import L2, L1\n",
        "\n",
        "from tensorboard.plugins.hparams import api as hp\n",
        "\n",
        "from helper import *"
      ]
    },
    {
      "cell_type": "code",
      "execution_count": null,
      "metadata": {
        "id": "npfZY5b5m3NP"
      },
      "outputs": [],
      "source": [
        "# import wandb\n",
        "# from wandb.keras import WandbCallback"
      ]
    },
    {
      "cell_type": "code",
      "execution_count": 2,
      "metadata": {
        "id": "hvQdzf_Ym3NP",
        "outputId": "4a18dbf5-6086-4f63-f2f0-548f95b92749",
        "colab": {
          "base_uri": "https://localhost:8080/",
          "height": 85,
          "referenced_widgets": [
            "ec4f8203d43040a992fa0bd014693e92",
            "1eea491411f04b8bb6750d19f6854da1",
            "0c5b8cade9cf44af9c63e29fc7d65e4a",
            "9c5f48d7d4534ee8ad92613a5516db30",
            "30455d3a8f6949a49690c186e4d9963b",
            "cf85febcd98c4cae84cc855d73bc03eb",
            "80ce069847904e5c87b07423f2b11648",
            "a055a6ecb4f44241972a0b709253a181",
            "9db0a307712f45d8894ac4c8a0b9e217",
            "6fdd23f554e34568a204683fc2a2312f",
            "c40cfc55ba41441da0660d71bedcde96"
          ]
        }
      },
      "outputs": [
        {
          "output_type": "stream",
          "name": "stdout",
          "text": [
            "Downloading and preparing dataset 11.06 MiB (download: 11.06 MiB, generated: 21.00 MiB, total: 32.06 MiB) to /root/tensorflow_datasets/mnist/3.0.1...\n"
          ]
        },
        {
          "output_type": "display_data",
          "data": {
            "text/plain": [
              "Dl Completed...:   0%|          | 0/5 [00:00<?, ? file/s]"
            ],
            "application/vnd.jupyter.widget-view+json": {
              "version_major": 2,
              "version_minor": 0,
              "model_id": "ec4f8203d43040a992fa0bd014693e92"
            }
          },
          "metadata": {}
        },
        {
          "output_type": "stream",
          "name": "stdout",
          "text": [
            "Dataset mnist downloaded and prepared to /root/tensorflow_datasets/mnist/3.0.1. Subsequent calls will reuse this data.\n"
          ]
        }
      ],
      "source": [
        "(ds_train, ds_test), ds_info = tfds.load(\n",
        "    'mnist',\n",
        "    split=['train', 'test'],\n",
        "    shuffle_files=True,\n",
        "    as_supervised=True,\n",
        "    with_info=True,\n",
        ")"
      ]
    },
    {
      "cell_type": "code",
      "execution_count": 3,
      "metadata": {
        "id": "HaIod0Avm3NQ",
        "outputId": "57307e89-94e8-4875-89a7-ec5a22b20156",
        "colab": {
          "base_uri": "https://localhost:8080/"
        }
      },
      "outputs": [
        {
          "output_type": "stream",
          "name": "stdout",
          "text": [
            "[0, 1, 2, 3, 4, 5, 6, 7, 8, 9]\n",
            "[0, 1, 2, 3, 4, 5]\n",
            "[6, 7]\n",
            "[8, 9]\n"
          ]
        }
      ],
      "source": [
        "d_set = tf.data.Dataset.range(10)\n",
        "print(list(d_set.as_numpy_iterator()))\n",
        "\n",
        "ll = len(list(d_set.as_numpy_iterator()))\n",
        "\n",
        "tr_d_set = d_set.take(int(ll*0.6))\n",
        "print(list(tr_d_set.as_numpy_iterator()))\n",
        "\n",
        "val_d_set = d_set.skip(int(ll*0.6))\n",
        "val_set = val_d_set.take(int(ll*0.2))\n",
        "print(list(val_set.as_numpy_iterator()))\n",
        "\n",
        "ts_d_set = val_d_set.skip(int(ll*0.2))\n",
        "print(list(ts_d_set.as_numpy_iterator()))"
      ]
    },
    {
      "cell_type": "code",
      "source": [
        "import os\n",
        "from pathlib import Path\n",
        "import zipfile\n",
        "import requests\n",
        "import numpy as np\n",
        "\n",
        "from sklearn.metrics import roc_curve\n",
        "\n",
        "\n",
        "def splits(dataset, TRAIN_RATIO, VAL_RATIO):\n",
        "    DATASET_SIZE = len(dataset)\n",
        "\n",
        "    train_dataset = dataset.take(int(TRAIN_RATIO*DATASET_SIZE))\n",
        "\n",
        "    val_test_dataset = dataset.skip(int(TRAIN_RATIO*DATASET_SIZE))\n",
        "    val_dataset = val_test_dataset.take(int(VAL_RATIO*DATASET_SIZE))\n",
        "\n",
        "    return train_dataset, val_dataset"
      ],
      "metadata": {
        "id": "j8RDIawOnS_R"
      },
      "execution_count": 4,
      "outputs": []
    },
    {
      "cell_type": "code",
      "execution_count": 5,
      "metadata": {
        "id": "C7vSKucEm3NQ"
      },
      "outputs": [],
      "source": [
        "TRAIN_RATIO = 0.8\n",
        "VAL_RATIO = 0.2\n",
        "\n",
        "\n",
        "train_dataset, val_dataset = splits(ds_train, TRAIN_RATIO, VAL_RATIO)\n",
        "# print(list(train_dataset.take(1).as_numpy_iterator()),\n",
        "#     list(val_dataset.take(1).as_numpy_iterator()), list(test_dataset.take(1).as_numpy_iterator()))"
      ]
    },
    {
      "cell_type": "code",
      "execution_count": 6,
      "metadata": {
        "id": "N-IA3hsrm3NR",
        "outputId": "852fad89-5a73-4f5e-9bd4-7f85c15c8843",
        "colab": {
          "base_uri": "https://localhost:8080/",
          "height": 322
        }
      },
      "outputs": [
        {
          "output_type": "stream",
          "name": "stdout",
          "text": [
            "(28, 28, 1)\n"
          ]
        },
        {
          "output_type": "display_data",
          "data": {
            "text/plain": [
              "<Figure size 1500x700 with 16 Axes>"
            ],
            "image/png": "[encoded data removed]"
          },
          "metadata": {}
        }
      ],
      "source": [
        "plt.figure(figsize=(15,7))\n",
        "for i, (image, label) in enumerate(train_dataset.take(16)):\n",
        "  ax = plt.subplot(4, 8, i + 1)\n",
        "\n",
        "  plt.imshow(image)\n",
        "  plt.title(ds_info.features['label'].int2str(label.numpy()))\n",
        "  plt.axis('off')\n",
        "print(image.shape)\n",
        "plt.tight_layout()\n",
        "plt.show()"
      ]
    },
    {
      "cell_type": "code",
      "execution_count": 7,
      "metadata": {
        "id": "pKfTmzXjm3NR"
      },
      "outputs": [],
      "source": [
        "CONFIGURATION = {\n",
        "    \"LEARNING_RATE\": 0.001,\n",
        "    \"N_EPOCHS\": 5,\n",
        "    \"BATCH_SIZE\": 128,\n",
        "    \"DROPOUT_RATE\": 0.0,\n",
        "    \"IM_SIZE\": 32,\n",
        "    \"REGULARIZATION_RATE\": 0.0,\n",
        "    \"N_FILTERS\": 6,\n",
        "    \"KERNEL_SIZE\": 3,\n",
        "    \"N_STRIDES\": 1,\n",
        "    \"POOL_SIZE\": 2,\n",
        "    \"N_DENSE_1\": 100,\n",
        "    \"N_DENSE_2\": 10,\n",
        "}\n",
        "IM_SIZE =32"
      ]
    },
    {
      "cell_type": "code",
      "execution_count": 30,
      "metadata": {
        "id": "O2QYdZRBm3NR"
      },
      "outputs": [],
      "source": [
        "def resize_rescale(image, label):\n",
        "    return tf.image.resize(image, (IM_SIZE, IM_SIZE)) / 255., label\n",
        "\n",
        "\n",
        "def augment_0(image, label):\n",
        "  image, label = resize_rescale(image, label)\n",
        "\n",
        "  return image, label\n",
        "\n",
        "def augment_1(image, label):\n",
        "  image, label = resize_rescale(image, label)\n",
        "\n",
        "  image = tf.image.random_brightness(image, 0.2)\n",
        "  return image, label\n",
        "\n",
        "\n",
        "def augment_2(image, label):\n",
        "  image, label = resize_rescale(image, label)\n",
        "\n",
        "  image = tf.image.random_flip_up_down(image)\n",
        "  return image, label\n",
        "\n",
        "\n",
        "def augment_3(image, label):\n",
        "  image, label = resize_rescale(image, label)\n",
        "\n",
        "  image = tf.image.flip_left_right(image)\n",
        "  return image, label\n",
        "\n",
        "\n",
        "def augment_4(image, label):\n",
        "  image, label = resize_rescale(image, label)\n",
        "\n",
        "  image = tf.image.rot90(image)\n",
        "  return image, label\n",
        "\n",
        "\n",
        "def augment_5(image, label):\n",
        "  image, label = resize_rescale(image, label)\n",
        "\n",
        "  return image, label"
      ]
    },
    {
      "cell_type": "code",
      "execution_count": 31,
      "metadata": {
        "id": "YIXrkpv5m3NS"
      },
      "outputs": [],
      "source": [
        "def visualize(original_image, Augmented_image):\n",
        "  plt.subplot(1, 2, 1)\n",
        "  plt.imshow(original_image)\n",
        "\n",
        "  plt.subplot(1, 2, 2)\n",
        "  plt.imshow(Augmented_image)\n",
        "  plt.tight_layout()\n",
        "  plt.show()"
      ]
    },
    {
      "cell_type": "code",
      "execution_count": 32,
      "metadata": {
        "id": "NIBLdo2Cm3NS"
      },
      "outputs": [],
      "source": [
        "original_image, label = next(iter(train_dataset))"
      ]
    },
    {
      "cell_type": "code",
      "execution_count": 33,
      "metadata": {
        "id": "AgE0nX1Im3NT",
        "outputId": "6c41c480-0e0f-420c-e2bc-9d97fea3b439",
        "colab": {
          "base_uri": "https://localhost:8080/",
          "height": 350
        }
      },
      "outputs": [
        {
          "output_type": "stream",
          "name": "stderr",
          "text": [
            "WARNING:matplotlib.image:Clipping input data to the valid range for imshow with RGB data ([0..1] for floats or [0..255] for integers).\n"
          ]
        },
        {
          "output_type": "display_data",
          "data": {
            "text/plain": [
              "<Figure size 640x480 with 2 Axes>"
            ],
            "image/png": "[encoded data removed]"
          },
          "metadata": {}
        }
      ],
      "source": [
        "Augmented_image = tf.image.rot90(original_image, k=1, name=None)\n",
        "Augmented_image = tf.image.flip_left_right(original_image)\n",
        "Augmented_image = tf.image.adjust_brightness(original_image, delta=0.8)\n",
        "Augmented_image = tf.image.adjust_contrast(original_image, contrast_factor=19)\n",
        "Augmented_image = tf.image.random_flip_up_down(original_image)\n",
        "Augmented_image = tf.image.rot90(original_image, k=2)\n",
        "\n",
        "# Convert grayscale images to RGB\n",
        "rgb_images = tf.image.grayscale_to_rgb(original_image)\n",
        "Augmented_image = tf.image.random_saturation(rgb_images, lower=2, upper=12)\n",
        "Augmented_image = tf.image.adjust_saturation(\n",
        "    rgb_images, saturation_factor=0.9, name=None)\n",
        "Augmented_image = tf.image.random_brightness(\n",
        "    rgb_images, max_delta=0.1, seed=None)\n",
        "Augmented_image = tf.image.adjust_gamma(original_image, gamma=0.1, gain=0.1)\n",
        "\n",
        "\n",
        "Augmented_image = tf.image.central_crop(original_image, central_fraction=0.5)\n",
        "Augmented_image = tf.image.resize(rgb_images, (IM_SIZE, IM_SIZE))\n",
        "\n",
        "visualize(original_image, Augmented_image)"
      ]
    },
    {
      "cell_type": "code",
      "execution_count": 34,
      "metadata": {
        "id": "v1DNNvQFm3NT"
      },
      "outputs": [],
      "source": [
        "train_dataset_0 = (\n",
        "        train_dataset\n",
        "        .shuffle(buffer_size=1024, reshuffle_each_iteration=True)\n",
        "        .map(augment_0)\n",
        "    )\n",
        "val_dataset_0 = (\n",
        "    val_dataset\n",
        "        .shuffle(buffer_size=1024, reshuffle_each_iteration=True)\n",
        "        .map(augment_0)\n",
        "    )\n",
        "train_dataset_1 = (\n",
        "        train_dataset\n",
        "        .shuffle(buffer_size=1024, reshuffle_each_iteration=True)\n",
        "        .map(augment_1)\n",
        "    )\n",
        "val_dataset_1 = (\n",
        "    val_dataset\n",
        "        .shuffle(buffer_size=1024, reshuffle_each_iteration=True)\n",
        "        .map(augment_1)\n",
        "    )\n",
        "train_dataset_2 = (\n",
        "        train_dataset\n",
        "        .shuffle(buffer_size=1024, reshuffle_each_iteration=True)\n",
        "        .map(augment_2)\n",
        "    )\n",
        "val_dataset_2 = (\n",
        "    val_dataset\n",
        "    .shuffle(buffer_size=1024, reshuffle_each_iteration=True)\n",
        "    .map(augment_2)\n",
        ")\n",
        "train_dataset_3 = (\n",
        "        train_dataset\n",
        "        .shuffle(buffer_size=1024, reshuffle_each_iteration=True)\n",
        "        .map(augment_3)\n",
        "    )\n",
        "val_dataset_3 = (\n",
        "    val_dataset\n",
        "    .shuffle(buffer_size=1024, reshuffle_each_iteration=True)\n",
        "    .map(augment_3)\n",
        ")\n",
        "train_dataset_4 = (\n",
        "        train_dataset\n",
        "        .shuffle(buffer_size=1024, reshuffle_each_iteration=True)\n",
        "        .map(augment_4)\n",
        "    )\n",
        "val_dataset_4 = (\n",
        "    val_dataset\n",
        "    .shuffle(buffer_size=1024, reshuffle_each_iteration=True)\n",
        "    .map(augment_4)\n",
        ")\n",
        "train_dataset_5 = (\n",
        "        train_dataset\n",
        "        .shuffle(buffer_size=1024, reshuffle_each_iteration=True)\n",
        "        .map(augment_5)\n",
        "    )\n",
        "val_dataset_5 = (\n",
        "    val_dataset\n",
        "    .shuffle(buffer_size=1024, reshuffle_each_iteration=True)\n",
        "    .map(augment_5)\n",
        ")"
      ]
    },
    {
      "cell_type": "code",
      "execution_count": 35,
      "metadata": {
        "id": "3eotZEOLm3NT"
      },
      "outputs": [],
      "source": [
        "full_train_dataset = train_dataset_0.concatenate(train_dataset_1).concatenate(train_dataset_2).concatenate(\n",
        "    train_dataset_3).concatenate(train_dataset_4).concatenate(train_dataset_5)\n",
        "full_val_dataset = val_dataset_0.concatenate(val_dataset_1).concatenate(val_dataset_2).concatenate(\n",
        "    val_dataset_3).concatenate(val_dataset_4).concatenate(val_dataset_5)"
      ]
    },
    {
      "cell_type": "code",
      "execution_count": 36,
      "metadata": {
        "id": "HkAsJ94wm3NT",
        "outputId": "617fd271-4d03-4f96-b0f4-47f842ca55ab",
        "colab": {
          "base_uri": "https://localhost:8080/"
        }
      },
      "outputs": [
        {
          "output_type": "execute_result",
          "data": {
            "text/plain": [
              "(32, 32, 1)"
            ]
          },
          "metadata": {},
          "execution_count": 36
        }
      ],
      "source": [
        "list(full_train_dataset.take(1).as_numpy_iterator())[0][0].shape"
      ]
    },
    {
      "cell_type": "code",
      "execution_count": 37,
      "metadata": {
        "id": "yr6priOym3NT"
      },
      "outputs": [],
      "source": [
        "full_train_data = (\n",
        "    full_train_dataset\n",
        "    .shuffle(buffer_size=1024, reshuffle_each_iteration=True)\n",
        "    .batch(128)\n",
        "    .prefetch(tf.data.AUTOTUNE)\n",
        ")\n",
        "full_val_data = (\n",
        "    full_val_dataset\n",
        "    .shuffle(buffer_size=1024, reshuffle_each_iteration=True)\n",
        "    .batch(128)\n",
        "    .prefetch(tf.data.AUTOTUNE)\n",
        ")"
      ]
    },
    {
      "cell_type": "code",
      "execution_count": 38,
      "metadata": {
        "id": "Yx_tfVGcm3NU"
      },
      "outputs": [],
      "source": [
        "test_ = ds_test.map(resize_rescale)\n",
        "# test_data = test_.shuffle(\n",
        "#     buffer_size=8, reshuffle_each_iteration=True).batch(128).prefetch(tf.data.AUTOTUNE)"
      ]
    },
    {
      "cell_type": "code",
      "execution_count": 39,
      "metadata": {
        "id": "wci_rStkm3NU"
      },
      "outputs": [],
      "source": [
        "im, lab = next(iter(full_train_data.take(1)))"
      ]
    },
    {
      "cell_type": "code",
      "execution_count": 40,
      "metadata": {
        "id": "n79fPxQjm3NU",
        "outputId": "a982b6ff-05a7-46fd-a4d3-1c87f46af790",
        "colab": {
          "base_uri": "https://localhost:8080/"
        }
      },
      "outputs": [
        {
          "output_type": "stream",
          "name": "stdout",
          "text": [
            "tf.Tensor(\n",
            "[[[[0.]\n",
            "   [0.]\n",
            "   [0.]\n",
            "   ...\n",
            "   [0.]\n",
            "   [0.]\n",
            "   [0.]]\n",
            "\n",
            "  [[0.]\n",
            "   [0.]\n",
            "   [0.]\n",
            "   ...\n",
            "   [0.]\n",
            "   [0.]\n",
            "   [0.]]\n",
            "\n",
            "  [[0.]\n",
            "   [0.]\n",
            "   [0.]\n",
            "   ...\n",
            "   [0.]\n",
            "   [0.]\n",
            "   [0.]]\n",
            "\n",
            "  ...\n",
            "\n",
            "  [[0.]\n",
            "   [0.]\n",
            "   [0.]\n",
            "   ...\n",
            "   [0.]\n",
            "   [0.]\n",
            "   [0.]]\n",
            "\n",
            "  [[0.]\n",
            "   [0.]\n",
            "   [0.]\n",
            "   ...\n",
            "   [0.]\n",
            "   [0.]\n",
            "   [0.]]\n",
            "\n",
            "  [[0.]\n",
            "   [0.]\n",
            "   [0.]\n",
            "   ...\n",
            "   [0.]\n",
            "   [0.]\n",
            "   [0.]]]\n",
            "\n",
            "\n",
            " [[[0.]\n",
            "   [0.]\n",
            "   [0.]\n",
            "   ...\n",
            "   [0.]\n",
            "   [0.]\n",
            "   [0.]]\n",
            "\n",
            "  [[0.]\n",
            "   [0.]\n",
            "   [0.]\n",
            "   ...\n",
            "   [0.]\n",
            "   [0.]\n",
            "   [0.]]\n",
            "\n",
            "  [[0.]\n",
            "   [0.]\n",
            "   [0.]\n",
            "   ...\n",
            "   [0.]\n",
            "   [0.]\n",
            "   [0.]]\n",
            "\n",
            "  ...\n",
            "\n",
            "  [[0.]\n",
            "   [0.]\n",
            "   [0.]\n",
            "   ...\n",
            "   [0.]\n",
            "   [0.]\n",
            "   [0.]]\n",
            "\n",
            "  [[0.]\n",
            "   [0.]\n",
            "   [0.]\n",
            "   ...\n",
            "   [0.]\n",
            "   [0.]\n",
            "   [0.]]\n",
            "\n",
            "  [[0.]\n",
            "   [0.]\n",
            "   [0.]\n",
            "   ...\n",
            "   [0.]\n",
            "   [0.]\n",
            "   [0.]]]\n",
            "\n",
            "\n",
            " [[[0.]\n",
            "   [0.]\n",
            "   [0.]\n",
            "   ...\n",
            "   [0.]\n",
            "   [0.]\n",
            "   [0.]]\n",
            "\n",
            "  [[0.]\n",
            "   [0.]\n",
            "   [0.]\n",
            "   ...\n",
            "   [0.]\n",
            "   [0.]\n",
            "   [0.]]\n",
            "\n",
            "  [[0.]\n",
            "   [0.]\n",
            "   [0.]\n",
            "   ...\n",
            "   [0.]\n",
            "   [0.]\n",
            "   [0.]]\n",
            "\n",
            "  ...\n",
            "\n",
            "  [[0.]\n",
            "   [0.]\n",
            "   [0.]\n",
            "   ...\n",
            "   [0.]\n",
            "   [0.]\n",
            "   [0.]]\n",
            "\n",
            "  [[0.]\n",
            "   [0.]\n",
            "   [0.]\n",
            "   ...\n",
            "   [0.]\n",
            "   [0.]\n",
            "   [0.]]\n",
            "\n",
            "  [[0.]\n",
            "   [0.]\n",
            "   [0.]\n",
            "   ...\n",
            "   [0.]\n",
            "   [0.]\n",
            "   [0.]]]\n",
            "\n",
            "\n",
            " ...\n",
            "\n",
            "\n",
            " [[[0.]\n",
            "   [0.]\n",
            "   [0.]\n",
            "   ...\n",
            "   [0.]\n",
            "   [0.]\n",
            "   [0.]]\n",
            "\n",
            "  [[0.]\n",
            "   [0.]\n",
            "   [0.]\n",
            "   ...\n",
            "   [0.]\n",
            "   [0.]\n",
            "   [0.]]\n",
            "\n",
            "  [[0.]\n",
            "   [0.]\n",
            "   [0.]\n",
            "   ...\n",
            "   [0.]\n",
            "   [0.]\n",
            "   [0.]]\n",
            "\n",
            "  ...\n",
            "\n",
            "  [[0.]\n",
            "   [0.]\n",
            "   [0.]\n",
            "   ...\n",
            "   [0.]\n",
            "   [0.]\n",
            "   [0.]]\n",
            "\n",
            "  [[0.]\n",
            "   [0.]\n",
            "   [0.]\n",
            "   ...\n",
            "   [0.]\n",
            "   [0.]\n",
            "   [0.]]\n",
            "\n",
            "  [[0.]\n",
            "   [0.]\n",
            "   [0.]\n",
            "   ...\n",
            "   [0.]\n",
            "   [0.]\n",
            "   [0.]]]\n",
            "\n",
            "\n",
            " [[[0.]\n",
            "   [0.]\n",
            "   [0.]\n",
            "   ...\n",
            "   [0.]\n",
            "   [0.]\n",
            "   [0.]]\n",
            "\n",
            "  [[0.]\n",
            "   [0.]\n",
            "   [0.]\n",
            "   ...\n",
            "   [0.]\n",
            "   [0.]\n",
            "   [0.]]\n",
            "\n",
            "  [[0.]\n",
            "   [0.]\n",
            "   [0.]\n",
            "   ...\n",
            "   [0.]\n",
            "   [0.]\n",
            "   [0.]]\n",
            "\n",
            "  ...\n",
            "\n",
            "  [[0.]\n",
            "   [0.]\n",
            "   [0.]\n",
            "   ...\n",
            "   [0.]\n",
            "   [0.]\n",
            "   [0.]]\n",
            "\n",
            "  [[0.]\n",
            "   [0.]\n",
            "   [0.]\n",
            "   ...\n",
            "   [0.]\n",
            "   [0.]\n",
            "   [0.]]\n",
            "\n",
            "  [[0.]\n",
            "   [0.]\n",
            "   [0.]\n",
            "   ...\n",
            "   [0.]\n",
            "   [0.]\n",
            "   [0.]]]\n",
            "\n",
            "\n",
            " [[[0.]\n",
            "   [0.]\n",
            "   [0.]\n",
            "   ...\n",
            "   [0.]\n",
            "   [0.]\n",
            "   [0.]]\n",
            "\n",
            "  [[0.]\n",
            "   [0.]\n",
            "   [0.]\n",
            "   ...\n",
            "   [0.]\n",
            "   [0.]\n",
            "   [0.]]\n",
            "\n",
            "  [[0.]\n",
            "   [0.]\n",
            "   [0.]\n",
            "   ...\n",
            "   [0.]\n",
            "   [0.]\n",
            "   [0.]]\n",
            "\n",
            "  ...\n",
            "\n",
            "  [[0.]\n",
            "   [0.]\n",
            "   [0.]\n",
            "   ...\n",
            "   [0.]\n",
            "   [0.]\n",
            "   [0.]]\n",
            "\n",
            "  [[0.]\n",
            "   [0.]\n",
            "   [0.]\n",
            "   ...\n",
            "   [0.]\n",
            "   [0.]\n",
            "   [0.]]\n",
            "\n",
            "  [[0.]\n",
            "   [0.]\n",
            "   [0.]\n",
            "   ...\n",
            "   [0.]\n",
            "   [0.]\n",
            "   [0.]]]], shape=(128, 32, 32, 1), dtype=float32)\n"
          ]
        }
      ],
      "source": [
        "for image, label in full_train_data.take(1):\n",
        "    print(image)"
      ]
    },
    {
      "cell_type": "code",
      "execution_count": 41,
      "metadata": {
        "id": "HJWj8dMsm3NU"
      },
      "outputs": [],
      "source": [
        "test_data = test_.batch(1)"
      ]
    },
    {
      "cell_type": "code",
      "execution_count": 41,
      "metadata": {
        "id": "oY4Wz-j3m3NU"
      },
      "outputs": [],
      "source": []
    },
    {
      "cell_type": "code",
      "execution_count": 42,
      "metadata": {
        "id": "VBdDMuoDm3NU"
      },
      "outputs": [],
      "source": [
        "class FeatureExtractor(Layer):\n",
        "    def __init__(self,filters,kernel_size,strides,padding,activation,pool_size):\n",
        "        super(FeatureExtractor,self).__init__()\n",
        "\n",
        "        self.conv_1 = tf.keras.layers.Conv2D(filters=filters, kernel_size=kernel_size, strides=strides, padding=padding, activation=activation)\n",
        "        self.batch_1 = tf.keras.layers.BatchNormalization()\n",
        "        self.maxpool_1 = tf.keras.layers.MaxPooling2D(pool_size=pool_size, strides=strides*2, padding=padding)\n",
        "\n",
        "        self.conv_2 = tf.keras.layers.Conv2D(filters=filters*2+4, kernel_size=kernel_size, strides=strides, padding=padding, activation=activation)\n",
        "        self.batch_2 = tf.keras.layers.BatchNormalization()\n",
        "        self.maxpool_2 = tf.keras.layers.MaxPooling2D(pool_size=pool_size, strides=strides*2, padding=padding)\n",
        "\n",
        "    def call(self,x, training):\n",
        "        x = self.conv_1(x)\n",
        "        x = self.batch_1(x)\n",
        "        x = self.maxpool_1(x)\n",
        "\n",
        "        x = self.conv_2(x)\n",
        "        x = self.batch_2(x)\n",
        "        x = self.maxpool_2(x)\n",
        "\n",
        "        return x\n",
        "\n",
        "\n",
        "class ModelExtractor(Model):\n",
        "    def __init__(self):\n",
        "        super(ModelExtractor, self).__init__()\n",
        "\n",
        "        self.fetaure_extractor = FeatureExtractor(filters=6,\n",
        "                                       kernel_size=5,\n",
        "                                       strides=1,\n",
        "                                       padding='valid',\n",
        "                                       activation='relu',\n",
        "                                       pool_size=2)\n",
        "\n",
        "        self.flatten = tf.keras.layers.Flatten()\n",
        "\n",
        "        self.dense_1 = tf.keras.layers.Dense(120, activation='relu')\n",
        "        self.batch_1 = tf.keras.layers.BatchNormalization()\n",
        "        self.dense_2 = tf.keras.layers.Dense(84, activation='relu')\n",
        "        self.batch_2 = tf.keras.layers.BatchNormalization()\n",
        "        self.dense_3 = tf.keras.layers.Dense(10, activation='softmax')\n",
        "\n",
        "    def call(self, x, training):\n",
        "        x = self.fetaure_extractor(x)\n",
        "        x = self.flatten(x)\n",
        "\n",
        "        x = self.dense_1(x)\n",
        "        x = self.batch_1(x)\n",
        "\n",
        "        x = self.dense_2(x)\n",
        "        x = self.batch_2(x)\n",
        "\n",
        "        x = self.dense_3(x)\n",
        "\n",
        "        return x\n",
        "\n",
        "feature_sub_classed = FeatureExtractor(filters=6,\n",
        "                                       kernel_size=5,\n",
        "                                       strides=1,\n",
        "                                       padding='valid',\n",
        "                                       activation='relu',\n",
        "                                       pool_size=2)\n",
        "\n",
        "model_sub_classed = ModelExtractor()"
      ]
    },
    {
      "cell_type": "code",
      "execution_count": 43,
      "metadata": {
        "id": "jpZ1nXqTm3NU",
        "outputId": "5112415f-9768-4510-9deb-7d2af5eeb467",
        "colab": {
          "base_uri": "https://localhost:8080/"
        }
      },
      "outputs": [
        {
          "output_type": "stream",
          "name": "stdout",
          "text": [
            "Model: \"Lenet_Model_sub_classed\"\n",
            "_________________________________________________________________\n",
            " Layer (type)                Output Shape              Param #   \n",
            "=================================================================\n",
            " Input Image (InputLayer)    [(None, 32, 32, 1)]       0         \n",
            "                                                                 \n",
            " tf.image.grayscale_to_rgb   (None, 32, 32, 3)         0         \n",
            " (TFOpLambda)                                                    \n",
            "                                                                 \n",
            " model_extractor (ModelExtr  (None, 10)                62910     \n",
            " actor)                                                          \n",
            "                                                                 \n",
            "=================================================================\n",
            "Total params: 62910 (245.74 KB)\n",
            "Trainable params: 62458 (243.98 KB)\n",
            "Non-trainable params: 452 (1.77 KB)\n",
            "_________________________________________________________________\n"
          ]
        }
      ],
      "source": [
        "func_input = Input(shape=(32, 32, 1), name=\"Input Image\")\n",
        "\n",
        "func_output = model_sub_classed(tf.image.grayscale_to_rgb(func_input))\n",
        "\n",
        "lenet_model_sub_classed = Model(func_input, func_output, name=\"Lenet_Model_sub_classed\")\n",
        "\n",
        "lenet_model_sub_classed.summary()"
      ]
    },
    {
      "cell_type": "code",
      "execution_count": 44,
      "metadata": {
        "id": "ZOMcVEJcm3NV"
      },
      "outputs": [],
      "source": [
        "from datetime import datetime\n",
        "class CustomCallback(tf.keras.callbacks.Callback):\n",
        "\n",
        "    def on_epoch_end(self,epoch,logs={}):\n",
        "\n",
        "        if (logs.get('val_sparse_categorical_accuracy')>=0.992):\n",
        "\n",
        "            print(\"99.5% Accuracy is reached .......Hence Stopping\")\n",
        "\n",
        "            self.model.stop_training=True\n",
        "\n",
        "\n",
        "# Giving call back for accuracy\n",
        "\n",
        "callbacks = CustomCallback()\n",
        "\n",
        "\n",
        "# Giving call back for EarlyStopping\n",
        "\n",
        "early_stopping = EarlyStopping(\n",
        "\n",
        "    monitor='val_loss',\n",
        "\n",
        "    min_delta=0.0001,\n",
        "\n",
        "    patience=15,\n",
        "\n",
        "    verbose=1,\n",
        "\n",
        "    mode='auto',\n",
        "\n",
        "    baseline=None,\n",
        "\n",
        "    restore_best_weights=True\n",
        "\n",
        ")\n",
        "\n",
        "\n",
        "# Logging the losses and metrics data\n",
        "\n",
        "filename = 'log.csv'\n",
        "\n",
        "csv_logger = tf.keras.callbacks.CSVLogger(filename, separator=',', append=False)\n",
        "\n",
        "\n",
        "# Changing Learning Rate with a Scheduler function\n",
        "\n",
        "def schedule_func(epoch, lr):\n",
        "\n",
        "    if epoch < 3:\n",
        "\n",
        "        return lr\n",
        "\n",
        "    else:\n",
        "\n",
        "        return lr * tf.math.exp(-0.1)\n",
        "\n",
        "lr_scheduler = tf.keras.callbacks.LearningRateScheduler(schedule_func)\n",
        "\n",
        "lr_scheduler = tf.keras.callbacks.ReduceLROnPlateau(\n",
        "\n",
        "    monitor='val_sparse_categorical_accuracy',\n",
        "\n",
        "                                                    factor=0.1,\n",
        "\n",
        "                                                    patience=2,\n",
        "\n",
        "                                                    verbose=1,\n",
        "\n",
        "                                                    mode='auto',\n",
        "\n",
        "                                                    min_delta=0.0001,\n",
        "\n",
        "                                                    min_lr=0.0000001\n",
        "\n",
        "                                                )\n",
        "\n",
        "\n",
        "# Saving the best model and its weights to given path\n",
        "\n",
        "checkpoint_filepath = 'weights/tmp/checkpoint'\n",
        "\n",
        "model_checkpoint_callback = tf.keras.callbacks.ModelCheckpoint(\n",
        "\n",
        "                                                                    filepath=checkpoint_filepath,\n",
        "\n",
        "                                                                    verbose = 1,\n",
        "\n",
        "                                                                    save_weights_only=True,\n",
        "\n",
        "                                                                    save_best_only=True,\n",
        "\n",
        "                                                                    monitor='val_loss',\n",
        "\n",
        "                                                                    mode='auto'\n",
        "\n",
        "                                                                    )\n",
        "# Including TensorBoard\n",
        "CURRENT_TIME = datetime.now().strftime('%d%m%y - %b%M%S')\n",
        "METRIC_DIR = './t_logs/' + CURRENT_TIME + '/metrics'\n",
        "train_writer = tf.summary.create_file_writer(METRIC_DIR)\n",
        "\n",
        "LOG_DIR = './t_logs/' + CURRENT_TIME\n",
        "tensorboard_callback = tf.keras.callbacks.TensorBoard(\n",
        "    log_dir=LOG_DIR, histogram_freq=1, profile_batch='100,132')\n"
      ]
    },
    {
      "cell_type": "code",
      "execution_count": 45,
      "metadata": {
        "id": "Zj4uOQaPm3NV",
        "outputId": "42432b03-6dcd-4bc6-f5af-c3d67c14dd7b",
        "colab": {
          "base_uri": "https://localhost:8080/"
        }
      },
      "outputs": [
        {
          "output_type": "stream",
          "name": "stdout",
          "text": [
            "Epoch 1/20\n",
            "\n",
            "Epoch 1: val_loss improved from inf to 0.60301, saving model to weights/tmp/checkpoint\n",
            "2250/2250 - 67s - loss: 0.4284 - sparse_categorical_accuracy: 0.8772 - val_loss: 0.6030 - val_sparse_categorical_accuracy: 0.8085 - lr: 1.0000e-04 - 67s/epoch - 30ms/step\n",
            "Epoch 2/20\n",
            "\n",
            "Epoch 2: val_loss improved from 0.60301 to 0.44569, saving model to weights/tmp/checkpoint\n",
            "2250/2250 - 38s - loss: 0.1695 - sparse_categorical_accuracy: 0.9508 - val_loss: 0.4457 - val_sparse_categorical_accuracy: 0.8532 - lr: 1.0000e-04 - 38s/epoch - 17ms/step\n",
            "Epoch 3/20\n",
            "\n",
            "Epoch 3: val_loss improved from 0.44569 to 0.36489, saving model to weights/tmp/checkpoint\n",
            "2250/2250 - 34s - loss: 0.1167 - sparse_categorical_accuracy: 0.9654 - val_loss: 0.3649 - val_sparse_categorical_accuracy: 0.8791 - lr: 1.0000e-04 - 34s/epoch - 15ms/step\n",
            "Epoch 4/20\n",
            "\n",
            "Epoch 4: val_loss improved from 0.36489 to 0.31442, saving model to weights/tmp/checkpoint\n",
            "2250/2250 - 33s - loss: 0.0897 - sparse_categorical_accuracy: 0.9733 - val_loss: 0.3144 - val_sparse_categorical_accuracy: 0.8957 - lr: 1.0000e-04 - 33s/epoch - 15ms/step\n",
            "Epoch 5/20\n",
            "\n",
            "Epoch 5: val_loss improved from 0.31442 to 0.27443, saving model to weights/tmp/checkpoint\n",
            "2250/2250 - 33s - loss: 0.0743 - sparse_categorical_accuracy: 0.9773 - val_loss: 0.2744 - val_sparse_categorical_accuracy: 0.9114 - lr: 1.0000e-04 - 33s/epoch - 15ms/step\n",
            "Epoch 6/20\n",
            "\n",
            "Epoch 6: val_loss improved from 0.27443 to 0.26198, saving model to weights/tmp/checkpoint\n",
            "2250/2250 - 38s - loss: 0.0623 - sparse_categorical_accuracy: 0.9812 - val_loss: 0.2620 - val_sparse_categorical_accuracy: 0.9164 - lr: 1.0000e-04 - 38s/epoch - 17ms/step\n",
            "Epoch 7/20\n",
            "\n",
            "Epoch 7: val_loss improved from 0.26198 to 0.24568, saving model to weights/tmp/checkpoint\n",
            "2250/2250 - 35s - loss: 0.0536 - sparse_categorical_accuracy: 0.9839 - val_loss: 0.2457 - val_sparse_categorical_accuracy: 0.9232 - lr: 1.0000e-04 - 35s/epoch - 16ms/step\n",
            "Epoch 8/20\n",
            "\n",
            "Epoch 8: val_loss did not improve from 0.24568\n",
            "2250/2250 - 36s - loss: 0.0478 - sparse_categorical_accuracy: 0.9854 - val_loss: 0.2514 - val_sparse_categorical_accuracy: 0.9222 - lr: 1.0000e-04 - 36s/epoch - 16ms/step\n",
            "Epoch 9/20\n",
            "\n",
            "Epoch 9: val_loss improved from 0.24568 to 0.23422, saving model to weights/tmp/checkpoint\n",
            "2250/2250 - 37s - loss: 0.0431 - sparse_categorical_accuracy: 0.9871 - val_loss: 0.2342 - val_sparse_categorical_accuracy: 0.9288 - lr: 1.0000e-04 - 37s/epoch - 17ms/step\n",
            "Epoch 10/20\n",
            "\n",
            "Epoch 10: val_loss improved from 0.23422 to 0.23054, saving model to weights/tmp/checkpoint\n",
            "2250/2250 - 35s - loss: 0.0386 - sparse_categorical_accuracy: 0.9885 - val_loss: 0.2305 - val_sparse_categorical_accuracy: 0.9303 - lr: 1.0000e-04 - 35s/epoch - 16ms/step\n",
            "Epoch 11/20\n",
            "\n",
            "Epoch 11: val_loss did not improve from 0.23054\n",
            "2250/2250 - 38s - loss: 0.0357 - sparse_categorical_accuracy: 0.9891 - val_loss: 0.2306 - val_sparse_categorical_accuracy: 0.9321 - lr: 1.0000e-04 - 38s/epoch - 17ms/step\n",
            "Epoch 12/20\n",
            "\n",
            "Epoch 12: val_loss did not improve from 0.23054\n",
            "2250/2250 - 35s - loss: 0.0324 - sparse_categorical_accuracy: 0.9903 - val_loss: 0.2330 - val_sparse_categorical_accuracy: 0.9329 - lr: 1.0000e-04 - 35s/epoch - 15ms/step\n",
            "Epoch 13/20\n",
            "\n",
            "Epoch 13: val_loss improved from 0.23054 to 0.22448, saving model to weights/tmp/checkpoint\n",
            "2250/2250 - 37s - loss: 0.0299 - sparse_categorical_accuracy: 0.9912 - val_loss: 0.2245 - val_sparse_categorical_accuracy: 0.9349 - lr: 1.0000e-04 - 37s/epoch - 17ms/step\n",
            "Epoch 14/20\n",
            "\n",
            "Epoch 14: val_loss improved from 0.22448 to 0.22419, saving model to weights/tmp/checkpoint\n",
            "2250/2250 - 33s - loss: 0.0276 - sparse_categorical_accuracy: 0.9918 - val_loss: 0.2242 - val_sparse_categorical_accuracy: 0.9351 - lr: 1.0000e-04 - 33s/epoch - 14ms/step\n",
            "Epoch 15/20\n",
            "\n",
            "Epoch 15: val_loss did not improve from 0.22419\n",
            "2250/2250 - 37s - loss: 0.0252 - sparse_categorical_accuracy: 0.9927 - val_loss: 0.2337 - val_sparse_categorical_accuracy: 0.9346 - lr: 1.0000e-04 - 37s/epoch - 17ms/step\n",
            "Epoch 16/20\n",
            "\n",
            "Epoch 16: val_loss did not improve from 0.22419\n",
            "2250/2250 - 37s - loss: 0.0237 - sparse_categorical_accuracy: 0.9930 - val_loss: 0.2254 - val_sparse_categorical_accuracy: 0.9370 - lr: 1.0000e-04 - 37s/epoch - 16ms/step\n",
            "Epoch 17/20\n",
            "\n",
            "Epoch 17: val_loss did not improve from 0.22419\n",
            "2250/2250 - 37s - loss: 0.0221 - sparse_categorical_accuracy: 0.9934 - val_loss: 0.2286 - val_sparse_categorical_accuracy: 0.9353 - lr: 1.0000e-04 - 37s/epoch - 17ms/step\n",
            "Epoch 18/20\n",
            "\n",
            "Epoch 18: val_loss improved from 0.22419 to 0.22292, saving model to weights/tmp/checkpoint\n",
            "2250/2250 - 33s - loss: 0.0211 - sparse_categorical_accuracy: 0.9937 - val_loss: 0.2229 - val_sparse_categorical_accuracy: 0.9376 - lr: 1.0000e-04 - 33s/epoch - 15ms/step\n",
            "Epoch 19/20\n",
            "\n",
            "Epoch 19: val_loss did not improve from 0.22292\n",
            "2250/2250 - 33s - loss: 0.0199 - sparse_categorical_accuracy: 0.9941 - val_loss: 0.2245 - val_sparse_categorical_accuracy: 0.9383 - lr: 1.0000e-04 - 33s/epoch - 15ms/step\n",
            "Epoch 20/20\n",
            "\n",
            "Epoch 20: val_loss did not improve from 0.22292\n",
            "2250/2250 - 33s - loss: 0.0183 - sparse_categorical_accuracy: 0.9946 - val_loss: 0.2347 - val_sparse_categorical_accuracy: 0.9367 - lr: 1.0000e-04 - 33s/epoch - 15ms/step\n"
          ]
        }
      ],
      "source": [
        "lenet_model_sub_classed.compile(optimizer=tf.keras.optimizers.Adam(learning_rate=0.0001),\n",
        "                                loss=tf.keras.losses.SparseCategoricalCrossentropy(),\n",
        "                                metrics=['sparse_categorical_accuracy'])\n",
        "\n",
        "lenet_history = lenet_model_sub_classed.fit(full_train_data,\n",
        "                                            validation_data=full_val_data,\n",
        "                                            epochs=20,\n",
        "                                            verbose=2,\n",
        "                                            callbacks = [callbacks,\n",
        "                                                        early_stopping,\n",
        "                                                        csv_logger,\n",
        "                                                        lr_scheduler,\n",
        "                                                        model_checkpoint_callback,\n",
        "                                                         tensorboard_callback])"
      ]
    },
    {
      "cell_type": "code",
      "execution_count": null,
      "metadata": {
        "id": "RnT92hlJm3NV",
        "outputId": "f81fce42-24ee-4458-a432-0adaee5c98d5"
      },
      "outputs": [
        {
          "name": "stdout",
          "output_type": "stream",
          "text": [
            "The tensorboard extension is already loaded. To reload it, use:\n",
            "  %reload_ext tensorboard\n"
          ]
        }
      ],
      "source": [
        "%load_ext tensorboard"
      ]
    },
    {
      "cell_type": "code",
      "execution_count": null,
      "metadata": {
        "id": "bLRksbjym3NV"
      },
      "outputs": [],
      "source": [
        "# tensorboard --logdir './t_logs' --port=6007"
      ]
    },
    {
      "cell_type": "code",
      "execution_count": 46,
      "metadata": {
        "id": "Pcw9sI8Em3NV",
        "outputId": "81050887-165c-49f3-da07-62209cd42c6e",
        "colab": {
          "base_uri": "https://localhost:8080/",
          "height": 412
        }
      },
      "outputs": [
        {
          "output_type": "display_data",
          "data": {
            "text/plain": [
              "<Figure size 1500x500 with 2 Axes>"
            ],
            "image/png": "[encoded data removed]"
          },
          "metadata": {}
        }
      ],
      "source": [
        "fig, ax = plt.subplots(1, 2, figsize=(15, 5))\n",
        "\n",
        "ax[0].plot(lenet_history.history['loss'], label=\"train_loss\")\n",
        "ax[0].plot(lenet_history.history['val_loss'], label=\"val_loss\")\n",
        "ax[0].set_title(\"SCE loss function\")\n",
        "ax[0].legend()\n",
        "\n",
        "ax[1].plot(lenet_history.history['sparse_categorical_accuracy'],\n",
        "           label=\"train_acc\")\n",
        "ax[1].plot(lenet_history.history['val_sparse_categorical_accuracy'],\n",
        "           label=\"val_acc\")\n",
        "ax[1].set_title(\"Accuracy Metric function\")\n",
        "ax[1].legend()\n",
        "plt.tight_layout()\n",
        "plt.show()"
      ]
    },
    {
      "cell_type": "code",
      "execution_count": 47,
      "metadata": {
        "id": "cShoM0U5m3NV",
        "outputId": "9785d906-a96b-402d-9a7c-928f384c476b",
        "colab": {
          "base_uri": "https://localhost:8080/"
        }
      },
      "outputs": [
        {
          "output_type": "stream",
          "name": "stdout",
          "text": [
            "10000/10000 [==============================] - 45s 4ms/step - loss: 0.0378 - sparse_categorical_accuracy: 0.9881\n"
          ]
        },
        {
          "output_type": "execute_result",
          "data": {
            "text/plain": [
              "[0.03784351050853729, 0.988099992275238]"
            ]
          },
          "metadata": {},
          "execution_count": 47
        }
      ],
      "source": [
        "lenet_model_sub_classed.evaluate(test_data)"
      ]
    },
    {
      "cell_type": "code",
      "execution_count": 48,
      "metadata": {
        "id": "B-H2Sw0Xm3NW",
        "outputId": "505d0707-470d-4e19-8b7c-fa7a71265591",
        "colab": {
          "base_uri": "https://localhost:8080/",
          "height": 593
        }
      },
      "outputs": [
        {
          "output_type": "stream",
          "name": "stdout",
          "text": [
            "1/1 [==============================] - 0s 205ms/step\n",
            "1/1 [==============================] - 0s 19ms/step\n",
            "1/1 [==============================] - 0s 21ms/step\n",
            "1/1 [==============================] - 0s 18ms/step\n",
            "1/1 [==============================] - 0s 22ms/step\n",
            "1/1 [==============================] - 0s 18ms/step\n",
            "1/1 [==============================] - 0s 21ms/step\n",
            "1/1 [==============================] - 0s 19ms/step\n",
            "1/1 [==============================] - 0s 21ms/step\n",
            "1/1 [==============================] - 0s 20ms/step\n",
            "1/1 [==============================] - 0s 18ms/step\n",
            "1/1 [==============================] - 0s 25ms/step\n",
            "1/1 [==============================] - 0s 19ms/step\n",
            "1/1 [==============================] - 0s 19ms/step\n",
            "1/1 [==============================] - 0s 19ms/step\n",
            "1/1 [==============================] - 0s 18ms/step\n"
          ]
        },
        {
          "output_type": "display_data",
          "data": {
            "text/plain": [
              "<Figure size 1500x700 with 16 Axes>"
            ],
            "image/png": "[encoded data removed]"
          },
          "metadata": {}
        }
      ],
      "source": [
        "plt.figure(figsize=(15, 7))\n",
        "\n",
        "for i, (image, label) in enumerate(test_data.take(16)):\n",
        "\n",
        "  ax = plt.subplot(4, 8, i + 1)\n",
        "\n",
        "  plt.imshow(tf.squeeze(image, axis=0))\n",
        "\n",
        "  pred_prob_lst = lenet_model_sub_classed.predict(image)\n",
        "\n",
        "  pred_label = np.argmax(pred_prob_lst)\n",
        "\n",
        "  pred_prob = np.max(pred_prob_lst)\n",
        "\n",
        "  plt.title(f\"label:{pred_label} prob:{pred_prob:.2f}\")\n",
        "  plt.axis('off')\n",
        "plt.tight_layout()\n",
        "\n",
        "plt.show()"
      ]
    },
    {
      "cell_type": "code",
      "execution_count": 49,
      "metadata": {
        "id": "I0f87cpym3NW",
        "outputId": "a6c513c0-0c53-4c73-9412-ca25bbb975ec",
        "colab": {
          "base_uri": "https://localhost:8080/"
        }
      },
      "outputs": [
        {
          "output_type": "stream",
          "name": "stdout",
          "text": [
            "Downloading data from https://storage.googleapis.com/keras-applications/efficientnetb4_notop.h5\n",
            "71686520/71686520 [==============================] - 0s 0us/step\n"
          ]
        }
      ],
      "source": [
        "backbone = tf.keras.applications.efficientnet.EfficientNetB4(\n",
        "    include_top=False,\n",
        "    weights='imagenet',\n",
        "    input_shape=(32, 32, 3),\n",
        ")"
      ]
    },
    {
      "cell_type": "code",
      "execution_count": 50,
      "metadata": {
        "id": "1KcvAte7m3NW"
      },
      "outputs": [],
      "source": [
        "backbone.trainable = False"
      ]
    },
    {
      "cell_type": "code",
      "execution_count": 61,
      "metadata": {
        "id": "C1FAKyGnm3NW",
        "outputId": "485f77e5-3300-4365-e58e-41b6e4dc7c90",
        "colab": {
          "base_uri": "https://localhost:8080/"
        }
      },
      "outputs": [
        {
          "output_type": "stream",
          "name": "stdout",
          "text": [
            "Model: \"sequential_3\"\n",
            "_________________________________________________________________\n",
            " Layer (type)                Output Shape              Param #   \n",
            "=================================================================\n",
            " lambda_2 (Lambda)           (None, 32, 32, 3)         0         \n",
            "                                                                 \n",
            " efficientnetb4 (Functional  (None, 1, 1, 1792)        17673823  \n",
            " )                                                               \n",
            "                                                                 \n",
            " global_average_pooling2d_3  (None, 1792)              0         \n",
            "  (GlobalAveragePooling2D)                                       \n",
            "                                                                 \n",
            " dense_12 (Dense)            (None, 1200)              2151600   \n",
            "                                                                 \n",
            " batch_normalization_9 (Bat  (None, 1200)              4800      \n",
            " chNormalization)                                                \n",
            "                                                                 \n",
            " dense_13 (Dense)            (None, 800)               960800    \n",
            "                                                                 \n",
            " batch_normalization_10 (Ba  (None, 800)               3200      \n",
            " tchNormalization)                                               \n",
            "                                                                 \n",
            " dense_14 (Dense)            (None, 10)                8010      \n",
            "                                                                 \n",
            "=================================================================\n",
            "Total params: 20802233 (79.35 MB)\n",
            "Trainable params: 3124410 (11.92 MB)\n",
            "Non-trainable params: 17677823 (67.44 MB)\n",
            "_________________________________________________________________\n"
          ]
        }
      ],
      "source": [
        "pretrained_model = tf.keras.Sequential([\n",
        "    Input(shape=(32, 32, 1)),\n",
        "    tf.keras.layers.Lambda(lambda x: tf.image.grayscale_to_rgb(x)),\n",
        "    backbone,\n",
        "    GlobalAveragePooling2D(),\n",
        "    Dense(1200, activation=\"relu\"),\n",
        "    BatchNormalization(),\n",
        "    Dense(800, activation=\"relu\"),\n",
        "    BatchNormalization(),\n",
        "    Dense(10, activation=\"softmax\"),\n",
        "\n",
        "])\n",
        "pretrained_model.summary()"
      ]
    },
    {
      "cell_type": "code",
      "execution_count": 62,
      "metadata": {
        "id": "TImBeMyvm3NW",
        "outputId": "d7e8b619-9cf6-4c94-f1c3-3679e42353ea",
        "colab": {
          "base_uri": "https://localhost:8080/"
        }
      },
      "outputs": [
        {
          "output_type": "stream",
          "name": "stdout",
          "text": [
            "Epoch 1/10\n",
            "\n",
            "Epoch 1: val_loss did not improve from 0.22292\n",
            "2250/2250 - 108s - loss: 1.6368 - sparse_categorical_accuracy: 0.4186 - val_loss: 3.8698 - val_sparse_categorical_accuracy: 0.2768 - lr: 1.0000e-04 - 108s/epoch - 48ms/step\n",
            "Epoch 2/10\n",
            "\n",
            "Epoch 2: val_loss did not improve from 0.22292\n",
            "2250/2250 - 90s - loss: 1.3812 - sparse_categorical_accuracy: 0.5110 - val_loss: 1.9034 - val_sparse_categorical_accuracy: 0.3725 - lr: 1.0000e-04 - 90s/epoch - 40ms/step\n",
            "Epoch 3/10\n",
            "\n",
            "Epoch 3: val_loss did not improve from 0.22292\n",
            "2250/2250 - 88s - loss: 1.2963 - sparse_categorical_accuracy: 0.5438 - val_loss: 5.9692 - val_sparse_categorical_accuracy: 0.2412 - lr: 1.0000e-04 - 88s/epoch - 39ms/step\n",
            "Epoch 4/10\n",
            "\n",
            "Epoch 4: ReduceLROnPlateau reducing learning rate to 9.999999747378752e-06.\n",
            "\n",
            "Epoch 4: val_loss did not improve from 0.22292\n",
            "2250/2250 - 89s - loss: 1.2319 - sparse_categorical_accuracy: 0.5693 - val_loss: 9.7206 - val_sparse_categorical_accuracy: 0.1614 - lr: 1.0000e-04 - 89s/epoch - 40ms/step\n",
            "Epoch 5/10\n",
            "\n",
            "Epoch 5: val_loss did not improve from 0.22292\n",
            "2250/2250 - 90s - loss: 1.1956 - sparse_categorical_accuracy: 0.5882 - val_loss: 1.9752 - val_sparse_categorical_accuracy: 0.4020 - lr: 1.0000e-05 - 90s/epoch - 40ms/step\n",
            "Epoch 6/10\n",
            "\n",
            "Epoch 6: val_loss did not improve from 0.22292\n",
            "2250/2250 - 91s - loss: 1.1538 - sparse_categorical_accuracy: 0.6020 - val_loss: 1.2466 - val_sparse_categorical_accuracy: 0.5857 - lr: 1.0000e-05 - 91s/epoch - 41ms/step\n",
            "Epoch 7/10\n",
            "\n",
            "Epoch 7: val_loss did not improve from 0.22292\n",
            "2250/2250 - 115s - loss: 1.1343 - sparse_categorical_accuracy: 0.6091 - val_loss: 1.5394 - val_sparse_categorical_accuracy: 0.4977 - lr: 1.0000e-05 - 115s/epoch - 51ms/step\n",
            "Epoch 8/10\n",
            "\n",
            "Epoch 8: ReduceLROnPlateau reducing learning rate to 9.999999747378752e-07.\n",
            "\n",
            "Epoch 8: val_loss did not improve from 0.22292\n",
            "2250/2250 - 93s - loss: 1.1121 - sparse_categorical_accuracy: 0.6172 - val_loss: 2.8486 - val_sparse_categorical_accuracy: 0.3047 - lr: 1.0000e-05 - 93s/epoch - 41ms/step\n",
            "Epoch 9/10\n",
            "\n",
            "Epoch 9: val_loss did not improve from 0.22292\n",
            "2250/2250 - 93s - loss: 1.1859 - sparse_categorical_accuracy: 0.5984 - val_loss: 1.4005 - val_sparse_categorical_accuracy: 0.5249 - lr: 1.0000e-06 - 93s/epoch - 41ms/step\n",
            "Epoch 10/10\n",
            "\n",
            "Epoch 10: ReduceLROnPlateau reducing learning rate to 1e-07.\n",
            "\n",
            "Epoch 10: val_loss did not improve from 0.22292\n",
            "2250/2250 - 92s - loss: 1.1710 - sparse_categorical_accuracy: 0.6002 - val_loss: 1.3660 - val_sparse_categorical_accuracy: 0.5360 - lr: 1.0000e-06 - 92s/epoch - 41ms/step\n"
          ]
        }
      ],
      "source": [
        "pretrained_model.compile(optimizer=tf.keras.optimizers.Adam(learning_rate=0.0001),\n",
        "                                loss=tf.keras.losses.SparseCategoricalCrossentropy(),\n",
        "                                metrics=['sparse_categorical_accuracy'])\n",
        "\n",
        "pretrained_model_history = pretrained_model.fit(full_train_data,\n",
        "                                            validation_data=full_val_data,\n",
        "                                            epochs=10,\n",
        "                                            verbose=2,\n",
        "                                            callbacks=[callbacks,\n",
        "                                                       early_stopping,\n",
        "                                                       csv_logger,\n",
        "                                                       lr_scheduler,\n",
        "                                                       model_checkpoint_callback\n",
        "                                                       ])"
      ]
    },
    {
      "cell_type": "code",
      "execution_count": 63,
      "metadata": {
        "id": "NjssSzUxm3NW"
      },
      "outputs": [],
      "source": [
        "inputs = Input(shape=(32, 32, 1), name=\"Input Image\")\n",
        "\n",
        "y_1 = lenet_model_sub_classed(inputs)\n",
        "y_2 = pretrained_model(inputs)\n",
        "\n",
        "output = 0.5*y_1 + 0.5*y_2\n",
        "ensemble_model = Model(inputs=inputs, outputs=output)"
      ]
    },
    {
      "cell_type": "code",
      "execution_count": 64,
      "metadata": {
        "id": "Z8kKTzoRm3NX"
      },
      "outputs": [],
      "source": [
        "ensemble_model.compile(optimizer=tf.keras.optimizers.Adam(learning_rate=0.0001),\n",
        "                         loss=tf.keras.losses.SparseCategoricalCrossentropy(),\n",
        "                         metrics=['sparse_categorical_accuracy'])"
      ]
    },
    {
      "cell_type": "code",
      "execution_count": 65,
      "metadata": {
        "id": "ebpi97uJm3NX",
        "outputId": "fba88ba9-1214-422b-ef6a-90988015c5b2",
        "colab": {
          "base_uri": "https://localhost:8080/"
        }
      },
      "outputs": [
        {
          "output_type": "stream",
          "name": "stdout",
          "text": [
            "10000/10000 [==============================] - 239s 23ms/step - loss: 0.3246 - sparse_categorical_accuracy: 0.9868\n"
          ]
        },
        {
          "output_type": "execute_result",
          "data": {
            "text/plain": [
              "[0.32458218932151794, 0.9868000149726868]"
            ]
          },
          "metadata": {},
          "execution_count": 65
        }
      ],
      "source": [
        "ensemble_model.evaluate(test_data)"
      ]
    },
    {
      "cell_type": "code",
      "execution_count": 1,
      "metadata": {
        "id": "CONQwD4dm3NX"
      },
      "outputs": [],
      "source": []
    },
    {
      "cell_type": "code",
      "execution_count": null,
      "metadata": {
        "id": "DAlbN7rvm3NX",
        "outputId": "8c1fdf82-932f-43f5-a98f-82c7114d350f"
      },
      "outputs": [
        {
          "data": {
            "text/plain": [
              "<tensorflow.python.checkpoint.checkpoint.CheckpointLoadStatus at 0x25c5cf03af0>"
            ]
          },
          "execution_count": 109,
          "metadata": {},
          "output_type": "execute_result"
        }
      ],
      "source": [
        "lenet_model_sub_classed.save_weights('weights/lenet_weights')\n",
        "lenet_model_sub_classed.load_weights('weights/lenet_weights')\n",
        "lenet_model_sub_classed.evaluate(test_data)"
      ]
    },
    {
      "cell_type": "code",
      "execution_count": null,
      "metadata": {
        "id": "bPrcrwv1m3Nb",
        "outputId": "fdc39365-766a-476e-ce00-34d2840fde4b"
      },
      "outputs": [
        {
          "name": "stdout",
          "output_type": "stream",
          "text": [
            "10000/10000 [==============================] - 29s 3ms/step - loss: 0.0596 - sparse_categorical_accuracy: 0.9888\n"
          ]
        },
        {
          "data": {
            "text/plain": [
              "[0.05957506597042084, 0.9887999892234802]"
            ]
          },
          "execution_count": 111,
          "metadata": {},
          "output_type": "execute_result"
        }
      ],
      "source": [
        "lenet_model_sub_classed.load_weights(checkpoint_filepath)\n",
        "lenet_model_sub_classed.evaluate(test_data)"
      ]
    }
  ],
  "metadata": {
    "kernelspec": {
      "display_name": "Python 3",
      "name": "python3"
    },
    "language_info": {
      "codemirror_mode": {
        "name": "ipython",
        "version": 3
      },
      "file_extension": ".py",
      "mimetype": "text/x-python",
      "name": "python",
      "nbconvert_exporter": "python",
      "pygments_lexer": "ipython3",
      "version": "3.10.9"
    },
    "colab": {
      "provenance": [],
      "toc_visible": true,
      "gpuType": "T4"
    },
    "accelerator": "GPU",
    "widgets": {
      "application/vnd.jupyter.widget-state+json": {
        "ec4f8203d43040a992fa0bd014693e92": {
          "model_module": "@jupyter-widgets/controls",
          "model_name": "HBoxModel",
          "model_module_version": "1.5.0",
          "state": {
            "_dom_classes": [],
            "_model_module": "@jupyter-widgets/controls",
            "_model_module_version": "1.5.0",
            "_model_name": "HBoxModel",
            "_view_count": null,
            "_view_module": "@jupyter-widgets/controls",
            "_view_module_version": "1.5.0",
            "_view_name": "HBoxView",
            "box_style": "",
            "children": [
              "IPY_MODEL_1eea491411f04b8bb6750d19f6854da1",
              "IPY_MODEL_0c5b8cade9cf44af9c63e29fc7d65e4a",
              "IPY_MODEL_9c5f48d7d4534ee8ad92613a5516db30"
            ],
            "layout": "IPY_MODEL_30455d3a8f6949a49690c186e4d9963b"
          }
        },
        "1eea491411f04b8bb6750d19f6854da1": {
          "model_module": "@jupyter-widgets/controls",
          "model_name": "HTMLModel",
          "model_module_version": "1.5.0",
          "state": {
            "_dom_classes": [],
            "_model_module": "@jupyter-widgets/controls",
            "_model_module_version": "1.5.0",
            "_model_name": "HTMLModel",
            "_view_count": null,
            "_view_module": "@jupyter-widgets/controls",
            "_view_module_version": "1.5.0",
            "_view_name": "HTMLView",
            "description": "",
            "description_tooltip": null,
            "layout": "IPY_MODEL_cf85febcd98c4cae84cc855d73bc03eb",
            "placeholder": "​",
            "style": "IPY_MODEL_80ce069847904e5c87b07423f2b11648",
            "value": "Dl Completed...: 100%"
          }
        },
        "0c5b8cade9cf44af9c63e29fc7d65e4a": {
          "model_module": "@jupyter-widgets/controls",
          "model_name": "FloatProgressModel",
          "model_module_version": "1.5.0",
          "state": {
            "_dom_classes": [],
            "_model_module": "@jupyter-widgets/controls",
            "_model_module_version": "1.5.0",
            "_model_name": "FloatProgressModel",
            "_view_count": null,
            "_view_module": "@jupyter-widgets/controls",
            "_view_module_version": "1.5.0",
            "_view_name": "ProgressView",
            "bar_style": "success",
            "description": "",
            "description_tooltip": null,
            "layout": "IPY_MODEL_a055a6ecb4f44241972a0b709253a181",
            "max": 5,
            "min": 0,
            "orientation": "horizontal",
            "style": "IPY_MODEL_9db0a307712f45d8894ac4c8a0b9e217",
            "value": 5
          }
        },
        "9c5f48d7d4534ee8ad92613a5516db30": {
          "model_module": "@jupyter-widgets/controls",
          "model_name": "HTMLModel",
          "model_module_version": "1.5.0",
          "state": {
            "_dom_classes": [],
            "_model_module": "@jupyter-widgets/controls",
            "_model_module_version": "1.5.0",
            "_model_name": "HTMLModel",
            "_view_count": null,
            "_view_module": "@jupyter-widgets/controls",
            "_view_module_version": "1.5.0",
            "_view_name": "HTMLView",
            "description": "",
            "description_tooltip": null,
            "layout": "IPY_MODEL_6fdd23f554e34568a204683fc2a2312f",
            "placeholder": "​",
            "style": "IPY_MODEL_c40cfc55ba41441da0660d71bedcde96",
            "value": " 5/5 [00:00&lt;00:00,  9.50 file/s]"
          }
        },
        "30455d3a8f6949a49690c186e4d9963b": {
          "model_module": "@jupyter-widgets/base",
          "model_name": "LayoutModel",
          "model_module_version": "1.2.0",
          "state": {
            "_model_module": "@jupyter-widgets/base",
            "_model_module_version": "1.2.0",
            "_model_name": "LayoutModel",
            "_view_count": null,
            "_view_module": "@jupyter-widgets/base",
            "_view_module_version": "1.2.0",
            "_view_name": "LayoutView",
            "align_content": null,
            "align_items": null,
            "align_self": null,
            "border": null,
            "bottom": null,
            "display": null,
            "flex": null,
            "flex_flow": null,
            "grid_area": null,
            "grid_auto_columns": null,
            "grid_auto_flow": null,
            "grid_auto_rows": null,
            "grid_column": null,
            "grid_gap": null,
            "grid_row": null,
            "grid_template_areas": null,
            "grid_template_columns": null,
            "grid_template_rows": null,
            "height": null,
            "justify_content": null,
            "justify_items": null,
            "left": null,
            "margin": null,
            "max_height": null,
            "max_width": null,
            "min_height": null,
            "min_width": null,
            "object_fit": null,
            "object_position": null,
            "order": null,
            "overflow": null,
            "overflow_x": null,
            "overflow_y": null,
            "padding": null,
            "right": null,
            "top": null,
            "visibility": null,
            "width": null
          }
        },
        "cf85febcd98c4cae84cc855d73bc03eb": {
          "model_module": "@jupyter-widgets/base",
          "model_name": "LayoutModel",
          "model_module_version": "1.2.0",
          "state": {
            "_model_module": "@jupyter-widgets/base",
            "_model_module_version": "1.2.0",
            "_model_name": "LayoutModel",
            "_view_count": null,
            "_view_module": "@jupyter-widgets/base",
            "_view_module_version": "1.2.0",
            "_view_name": "LayoutView",
            "align_content": null,
            "align_items": null,
            "align_self": null,
            "border": null,
            "bottom": null,
            "display": null,
            "flex": null,
            "flex_flow": null,
            "grid_area": null,
            "grid_auto_columns": null,
            "grid_auto_flow": null,
            "grid_auto_rows": null,
            "grid_column": null,
            "grid_gap": null,
            "grid_row": null,
            "grid_template_areas": null,
            "grid_template_columns": null,
            "grid_template_rows": null,
            "height": null,
            "justify_content": null,
            "justify_items": null,
            "left": null,
            "margin": null,
            "max_height": null,
            "max_width": null,
            "min_height": null,
            "min_width": null,
            "object_fit": null,
            "object_position": null,
            "order": null,
            "overflow": null,
            "overflow_x": null,
            "overflow_y": null,
            "padding": null,
            "right": null,
            "top": null,
            "visibility": null,
            "width": null
          }
        },
        "80ce069847904e5c87b07423f2b11648": {
          "model_module": "@jupyter-widgets/controls",
          "model_name": "DescriptionStyleModel",
          "model_module_version": "1.5.0",
          "state": {
            "_model_module": "@jupyter-widgets/controls",
            "_model_module_version": "1.5.0",
            "_model_name": "DescriptionStyleModel",
            "_view_count": null,
            "_view_module": "@jupyter-widgets/base",
            "_view_module_version": "1.2.0",
            "_view_name": "StyleView",
            "description_width": ""
          }
        },
        "a055a6ecb4f44241972a0b709253a181": {
          "model_module": "@jupyter-widgets/base",
          "model_name": "LayoutModel",
          "model_module_version": "1.2.0",
          "state": {
            "_model_module": "@jupyter-widgets/base",
            "_model_module_version": "1.2.0",
            "_model_name": "LayoutModel",
            "_view_count": null,
            "_view_module": "@jupyter-widgets/base",
            "_view_module_version": "1.2.0",
            "_view_name": "LayoutView",
            "align_content": null,
            "align_items": null,
            "align_self": null,
            "border": null,
            "bottom": null,
            "display": null,
            "flex": null,
            "flex_flow": null,
            "grid_area": null,
            "grid_auto_columns": null,
            "grid_auto_flow": null,
            "grid_auto_rows": null,
            "grid_column": null,
            "grid_gap": null,
            "grid_row": null,
            "grid_template_areas": null,
            "grid_template_columns": null,
            "grid_template_rows": null,
            "height": null,
            "justify_content": null,
            "justify_items": null,
            "left": null,
            "margin": null,
            "max_height": null,
            "max_width": null,
            "min_height": null,
            "min_width": null,
            "object_fit": null,
            "object_position": null,
            "order": null,
            "overflow": null,
            "overflow_x": null,
            "overflow_y": null,
            "padding": null,
            "right": null,
            "top": null,
            "visibility": null,
            "width": null
          }
        },
        "9db0a307712f45d8894ac4c8a0b9e217": {
          "model_module": "@jupyter-widgets/controls",
          "model_name": "ProgressStyleModel",
          "model_module_version": "1.5.0",
          "state": {
            "_model_module": "@jupyter-widgets/controls",
            "_model_module_version": "1.5.0",
            "_model_name": "ProgressStyleModel",
            "_view_count": null,
            "_view_module": "@jupyter-widgets/base",
            "_view_module_version": "1.2.0",
            "_view_name": "StyleView",
            "bar_color": null,
            "description_width": ""
          }
        },
        "6fdd23f554e34568a204683fc2a2312f": {
          "model_module": "@jupyter-widgets/base",
          "model_name": "LayoutModel",
          "model_module_version": "1.2.0",
          "state": {
            "_model_module": "@jupyter-widgets/base",
            "_model_module_version": "1.2.0",
            "_model_name": "LayoutModel",
            "_view_count": null,
            "_view_module": "@jupyter-widgets/base",
            "_view_module_version": "1.2.0",
            "_view_name": "LayoutView",
            "align_content": null,
            "align_items": null,
            "align_self": null,
            "border": null,
            "bottom": null,
            "display": null,
            "flex": null,
            "flex_flow": null,
            "grid_area": null,
            "grid_auto_columns": null,
            "grid_auto_flow": null,
            "grid_auto_rows": null,
            "grid_column": null,
            "grid_gap": null,
            "grid_row": null,
            "grid_template_areas": null,
            "grid_template_columns": null,
            "grid_template_rows": null,
            "height": null,
            "justify_content": null,
            "justify_items": null,
            "left": null,
            "margin": null,
            "max_height": null,
            "max_width": null,
            "min_height": null,
            "min_width": null,
            "object_fit": null,
            "object_position": null,
            "order": null,
            "overflow": null,
            "overflow_x": null,
            "overflow_y": null,
            "padding": null,
            "right": null,
            "top": null,
            "visibility": null,
            "width": null
          }
        },
        "c40cfc55ba41441da0660d71bedcde96": {
          "model_module": "@jupyter-widgets/controls",
          "model_name": "DescriptionStyleModel",
          "model_module_version": "1.5.0",
          "state": {
            "_model_module": "@jupyter-widgets/controls",
            "_model_module_version": "1.5.0",
            "_model_name": "DescriptionStyleModel",
            "_view_count": null,
            "_view_module": "@jupyter-widgets/base",
            "_view_module_version": "1.2.0",
            "_view_name": "StyleView",
            "description_width": ""
          }
        }
      }
    }
  },
  "nbformat": 4,
  "nbformat_minor": 0
}