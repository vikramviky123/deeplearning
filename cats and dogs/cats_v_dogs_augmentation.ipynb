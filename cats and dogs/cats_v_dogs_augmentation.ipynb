{
 "cells": [
  {
   "cell_type": "markdown",
   "metadata": {},
   "source": [
    "<a href=\"https://colab.research.google.com/github/https-deeplearning-ai/tensorflow-1-public/blob/master/C2/W2/ungraded_labs/C2_W2_Lab_1_cats_v_dogs_augmentation.ipynb\" target=\"_parent\"><img src=\"https://colab.research.google.com/assets/colab-badge.svg\" alt=\"Open In Colab\"/></a>"
   ]
  },
  {
   "cell_type": "markdown",
   "metadata": {
    "id": "kJJqX4DxcQs8"
   },
   "source": [
    "## Baseline Performance\n",
    "\n",
    "You will start with a model that's very effective at learning `Cats vs Dogs` without data augmentation. It's similar to the previous models that you have used. Note that there are four convolutional layers with 32, 64, 128 and 128 convolutions respectively. The code is basically the same from the previous lab so we won't go over the details step by step since you've already seen it before.\n",
    "\n",
    "You will train only for 20 epochs to save time but feel free to increase this if you want."
   ]
  },
  {
   "cell_type": "code",
   "execution_count": 10,
   "metadata": {
    "id": "zJZIF29-dIRv"
   },
   "outputs": [],
   "source": [
    "# Download the dataset\n",
    "# !wget https://storage.googleapis.com/tensorflow-1-public/course2/cats_and_dogs_filtered.zip"
   ]
  },
  {
   "cell_type": "code",
   "execution_count": 4,
   "metadata": {},
   "outputs": [],
   "source": [
    "from helper import *\n",
    "import os\n",
    "import sys\n",
    "from pathlib import Path\n",
    "import zipfile"
   ]
  },
  {
   "cell_type": "code",
   "execution_count": 2,
   "metadata": {},
   "outputs": [
    {
     "name": "stdout",
     "output_type": "stream",
     "text": [
      "Download successful. File saved at data\\cats_and_dogs.zip\n"
     ]
    }
   ],
   "source": [
    "url = \"https://storage.googleapis.com/tensorflow-1-public/course2/cats_and_dogs_filtered.zip\"\n",
    "\n",
    "zip_file_path = Path('data/cats_and_dogs.zip')\n",
    "extract_path = Path('data/')\n",
    "\n",
    "download_zip_file(url,zip_file_path)"
   ]
  },
  {
   "cell_type": "code",
   "execution_count": 6,
   "metadata": {},
   "outputs": [],
   "source": [
    "import os\n",
    "import zipfile\n",
    "\n",
    "# Extract the archive\n",
    "zip_ref = zipfile.ZipFile(zip_file_path, 'r')\n",
    "zip_ref.extractall(\"tmp/\")\n",
    "zip_ref.close()"
   ]
  },
  {
   "cell_type": "code",
   "execution_count": 7,
   "metadata": {
    "id": "_DyUfCTgdwa8"
   },
   "outputs": [],
   "source": [
    "# Assign training and validation set directories\n",
    "base_dir = 'tmp/cats_and_dogs_filtered'\n",
    "train_dir = os.path.join(base_dir, 'train')\n",
    "validation_dir = os.path.join(base_dir, 'validation')\n",
    "\n",
    "# Directory with training cat pictures\n",
    "train_cats_dir = os.path.join(train_dir, 'cats')\n",
    "\n",
    "# Directory with training dog pictures\n",
    "train_dogs_dir = os.path.join(train_dir, 'dogs')\n",
    "\n",
    "# Directory with validation cat pictures\n",
    "validation_cats_dir = os.path.join(validation_dir, 'cats')\n",
    "\n",
    "# Directory with validation dog pictures\n",
    "validation_dogs_dir = os.path.join(validation_dir, 'dogs')"
   ]
  },
  {
   "cell_type": "code",
   "execution_count": 17,
   "metadata": {},
   "outputs": [
    {
     "name": "stdout",
     "output_type": "stream",
     "text": [
      "Length of training for CATS is  1000 and for DOGS 1000\n",
      "Length of Validation for CATS is  500 and for DOGS 500\n"
     ]
    }
   ],
   "source": [
    "tr_cats = len(os.listdir(train_cats_dir))\n",
    "tr_dogs = len(os.listdir(train_dogs_dir))\n",
    "\n",
    "vl_cats = len(os.listdir(validation_cats_dir))\n",
    "vl_dogs = len(os.listdir(validation_dogs_dir))\n",
    "\n",
    "print(\"Length of training for CATS is \",tr_cats,\"and for DOGS\",tr_dogs)\n",
    "print(\"Length of Validation for CATS is \", vl_cats, \"and for DOGS\",vl_dogs)"
   ]
  },
  {
   "cell_type": "markdown",
   "metadata": {
    "id": "Ub_BdOJIfZ_Q"
   },
   "source": [
    "You will place the model creation inside a function so you can easily initialize a new one when you use data augmentation later in this notebook."
   ]
  },
  {
   "cell_type": "code",
   "execution_count": 99,
   "metadata": {
    "id": "uWllK_Wad-Mx"
   },
   "outputs": [],
   "source": [
    "import tensorflow as tf\n",
    "from tensorflow.keras.optimizers import RMSprop\n",
    "\n",
    "\n",
    "def create_model():\n",
    "    '''Creates a CNN with 4 convolutional layers'''\n",
    "    model = tf.keras.models.Sequential([\n",
    "        tf.keras.layers.Conv2D(\n",
    "            32, (3, 3), activation='relu', input_shape=(150, 150, 3)),\n",
    "        tf.keras.layers.MaxPooling2D(2, 2),\n",
    "        tf.keras.layers.Conv2D(64, (3, 3), activation='relu'),\n",
    "        tf.keras.layers.MaxPooling2D(2, 2),\n",
    "        tf.keras.layers.Conv2D(128, (3, 3), activation='relu'),\n",
    "        tf.keras.layers.MaxPooling2D(2, 2),\n",
    "        tf.keras.layers.Conv2D(128, (3, 3), activation='relu'),\n",
    "        tf.keras.layers.MaxPooling2D(2, 2),\n",
    "        tf.keras.layers.Flatten(),\n",
    "        tf.keras.layers.Dense(512, activation='relu'),\n",
    "        # Use softmax activation for categorical labels\n",
    "        tf.keras.layers.Dense(1, activation='sigmoid')\n",
    "    ])\n",
    "\n",
    "    model.compile(loss='binary_crossentropy',\n",
    "                  optimizer=RMSprop(learning_rate=1e-4),\n",
    "                  metrics=['binary_accuracy'])\n",
    "\n",
    "    return model"
   ]
  },
  {
   "cell_type": "code",
   "execution_count": 131,
   "metadata": {
    "id": "MJPyDEzOqrKB"
   },
   "outputs": [
    {
     "name": "stdout",
     "output_type": "stream",
     "text": [
      "Found 2000 images belonging to 2 classes.\n",
      "Found 1000 images belonging to 2 classes.\n"
     ]
    }
   ],
   "source": [
    "from tensorflow.keras.preprocessing.image import ImageDataGenerator\n",
    "\n",
    "# All images will be rescaled by 1./255\n",
    "train_datagen = ImageDataGenerator(rescale=1./255, \n",
    "                                        rotation_range=40,\n",
    "                                        width_shift_range=0.2,\n",
    "                                        height_shift_range=0.2,\n",
    "                                        shear_range=0.2,\n",
    "                                        zoom_range=0.2,\n",
    "                                        horizontal_flip=True,\n",
    "                                        fill_mode='nearest')\n",
    "test_datagen = ImageDataGenerator(rescale=1./255)\n",
    "\n",
    "# Flow training images in batches of 20 using train_datagen generator\n",
    "train_generator = train_datagen.flow_from_directory(\n",
    "        train_dir,  # This is the source directory for training images\n",
    "        target_size=(150, 150),  # All images will be resized to 150x150\n",
    "        batch_size=20,\n",
    "        # Since we use binary_crossentropy loss, we need binary labels\n",
    "        class_mode='binary')\n",
    "\n",
    "# Flow validation images in batches of 20 using test_datagen generator\n",
    "validation_generator = test_datagen.flow_from_directory(\n",
    "        validation_dir,\n",
    "        target_size=(150, 150),\n",
    "        batch_size=20,\n",
    "        class_mode='binary')"
   ]
  },
  {
   "cell_type": "code",
   "execution_count": 108,
   "metadata": {},
   "outputs": [
    {
     "name": "stdout",
     "output_type": "stream",
     "text": [
      "Found 2000 files belonging to 2 classes.\n",
      "Found 1000 files belonging to 2 classes.\n"
     ]
    }
   ],
   "source": [
    "train_dataset = tf.keras.utils.image_dataset_from_directory(\n",
    "    train_dir,\n",
    "    labels='inferred',\n",
    "    label_mode='categorical',\n",
    "    class_names=[\"cats\", \"dogs\"],\n",
    "    color_mode='rgb',\n",
    "    batch_size=20,\n",
    "    image_size=(150, 150),\n",
    "    shuffle=True,\n",
    "    seed=99,\n",
    ")\n",
    "\n",
    "val_dataset = tf.keras.utils.image_dataset_from_directory(\n",
    "    validation_dir,\n",
    "    labels='inferred',\n",
    "    label_mode='categorical',\n",
    "    class_names=[\"cats\", \"dogs\"],\n",
    "    color_mode='rgb',\n",
    "    batch_size=20,  # CONFIGURATION[\"BATCH_SIZE\"],\n",
    "    image_size=(150, 150),\n",
    "    shuffle=True,\n",
    "    seed=99,\n",
    ")"
   ]
  },
  {
   "cell_type": "code",
   "execution_count": 127,
   "metadata": {},
   "outputs": [
    {
     "data": {
      "text/plain": [
       "<tf.Tensor: shape=(3, 1), dtype=float32, numpy=\n",
       "array([[3.],\n",
       "       [3.],\n",
       "       [3.]], dtype=float32)>"
      ]
     },
     "execution_count": 127,
     "metadata": {},
     "output_type": "execute_result"
    }
   ],
   "source": [
    "tf_2d = tf.constant(\n",
    "    [[1, 2, 3],\n",
    "     [1, 2, 3],\n",
    "     [1, 2, 3]],\n",
    "    dtype=\"float32\",\n",
    ")\n",
    "tf_2d[:,-1:]"
   ]
  },
  {
   "cell_type": "code",
   "execution_count": 123,
   "metadata": {},
   "outputs": [],
   "source": [
    "def resize_rescale(image, label):\n",
    "    image = tf.cast(image, tf.float32) / 255.\n",
    "    return tf.squeeze(image), tf.squeeze(tf.squeeze(label)[:, -1:])"
   ]
  },
  {
   "cell_type": "code",
   "execution_count": 124,
   "metadata": {},
   "outputs": [],
   "source": [
    "train_data = (train_dataset.map(resize_rescale)\n",
    "              .shuffle(buffer_size=512, reshuffle_each_iteration=True)\n",
    "              .prefetch(tf.data.AUTOTUNE))\n",
    "\n",
    "val_data = (val_dataset.map(resize_rescale)\n",
    "              .shuffle(buffer_size=512, reshuffle_each_iteration=True)\n",
    "              .prefetch(tf.data.AUTOTUNE))\n"
   ]
  },
  {
   "cell_type": "code",
   "execution_count": 125,
   "metadata": {},
   "outputs": [
    {
     "data": {
      "text/plain": [
       "(20,)"
      ]
     },
     "execution_count": 125,
     "metadata": {},
     "output_type": "execute_result"
    }
   ],
   "source": [
    "list(train_data.take(1).as_numpy_iterator())[0][1].shape"
   ]
  },
  {
   "cell_type": "code",
   "execution_count": 128,
   "metadata": {},
   "outputs": [
    {
     "name": "stdout",
     "output_type": "stream",
     "text": [
      "Epoch 1/20\n",
      "100/100 - 37s - loss: 0.6940 - binary_accuracy: 0.5195 - val_loss: 0.6860 - val_binary_accuracy: 0.5780 - 37s/epoch - 373ms/step\n",
      "Epoch 2/20\n",
      "100/100 - 37s - loss: 0.6811 - binary_accuracy: 0.5510 - val_loss: 0.6803 - val_binary_accuracy: 0.5190 - 37s/epoch - 372ms/step\n",
      "Epoch 3/20\n",
      "100/100 - 38s - loss: 0.6609 - binary_accuracy: 0.6040 - val_loss: 0.6446 - val_binary_accuracy: 0.6400 - 38s/epoch - 385ms/step\n",
      "Epoch 4/20\n",
      "100/100 - 35s - loss: 0.6335 - binary_accuracy: 0.6415 - val_loss: 0.6211 - val_binary_accuracy: 0.6650 - 35s/epoch - 349ms/step\n",
      "Epoch 5/20\n",
      "100/100 - 33s - loss: 0.5962 - binary_accuracy: 0.6640 - val_loss: 0.5901 - val_binary_accuracy: 0.6810 - 33s/epoch - 332ms/step\n",
      "Epoch 6/20\n",
      "100/100 - 33s - loss: 0.5662 - binary_accuracy: 0.7090 - val_loss: 0.6388 - val_binary_accuracy: 0.6260 - 33s/epoch - 330ms/step\n",
      "Epoch 7/20\n",
      "100/100 - 33s - loss: 0.5415 - binary_accuracy: 0.7305 - val_loss: 0.5573 - val_binary_accuracy: 0.7090 - 33s/epoch - 332ms/step\n",
      "Epoch 8/20\n",
      "100/100 - 33s - loss: 0.5199 - binary_accuracy: 0.7450 - val_loss: 0.5731 - val_binary_accuracy: 0.6910 - 33s/epoch - 333ms/step\n",
      "Epoch 9/20\n",
      "100/100 - 34s - loss: 0.5036 - binary_accuracy: 0.7420 - val_loss: 0.5568 - val_binary_accuracy: 0.7000 - 34s/epoch - 335ms/step\n",
      "Epoch 10/20\n",
      "100/100 - 33s - loss: 0.4734 - binary_accuracy: 0.7765 - val_loss: 0.5462 - val_binary_accuracy: 0.7170 - 33s/epoch - 334ms/step\n",
      "Epoch 11/20\n",
      "100/100 - 34s - loss: 0.4626 - binary_accuracy: 0.7730 - val_loss: 0.5423 - val_binary_accuracy: 0.7270 - 34s/epoch - 335ms/step\n",
      "Epoch 12/20\n",
      "100/100 - 34s - loss: 0.4395 - binary_accuracy: 0.7870 - val_loss: 0.5457 - val_binary_accuracy: 0.7320 - 34s/epoch - 338ms/step\n",
      "Epoch 13/20\n",
      "100/100 - 33s - loss: 0.4138 - binary_accuracy: 0.8145 - val_loss: 0.5423 - val_binary_accuracy: 0.7230 - 33s/epoch - 333ms/step\n",
      "Epoch 14/20\n",
      "100/100 - 33s - loss: 0.3964 - binary_accuracy: 0.8245 - val_loss: 0.5463 - val_binary_accuracy: 0.7280 - 33s/epoch - 327ms/step\n",
      "Epoch 15/20\n",
      "100/100 - 33s - loss: 0.3649 - binary_accuracy: 0.8385 - val_loss: 0.7266 - val_binary_accuracy: 0.6500 - 33s/epoch - 334ms/step\n",
      "Epoch 16/20\n",
      "100/100 - 34s - loss: 0.3499 - binary_accuracy: 0.8410 - val_loss: 0.5406 - val_binary_accuracy: 0.7360 - 34s/epoch - 337ms/step\n",
      "Epoch 17/20\n",
      "100/100 - 33s - loss: 0.3235 - binary_accuracy: 0.8585 - val_loss: 0.5426 - val_binary_accuracy: 0.7410 - 33s/epoch - 331ms/step\n",
      "Epoch 18/20\n",
      "100/100 - 36s - loss: 0.3097 - binary_accuracy: 0.8720 - val_loss: 0.5805 - val_binary_accuracy: 0.7230 - 36s/epoch - 356ms/step\n",
      "Epoch 19/20\n",
      "100/100 - 36s - loss: 0.2744 - binary_accuracy: 0.8860 - val_loss: 0.6046 - val_binary_accuracy: 0.7150 - 36s/epoch - 355ms/step\n",
      "Epoch 20/20\n",
      "100/100 - 37s - loss: 0.2565 - binary_accuracy: 0.8990 - val_loss: 0.5642 - val_binary_accuracy: 0.7470 - 37s/epoch - 369ms/step\n"
     ]
    }
   ],
   "source": [
    "# Constant for epochs\n",
    "EPOCHS = 20\n",
    "\n",
    "# Create a new model\n",
    "model = create_model()\n",
    "\n",
    "# Train the model\n",
    "history = model.fit(\n",
    "    train_data,\n",
    "    steps_per_epoch=100,  # 2000 images = batch_size * steps\n",
    "    epochs=EPOCHS,\n",
    "    validation_data=val_data,\n",
    "    validation_steps=50,  # 1000 images = batch_size * steps\n",
    "    verbose=2)"
   ]
  },
  {
   "cell_type": "code",
   "execution_count": 132,
   "metadata": {
    "id": "hdqUoF44esR3"
   },
   "outputs": [
    {
     "name": "stdout",
     "output_type": "stream",
     "text": [
      "Epoch 1/20\n",
      "100/100 - 42s - loss: 0.6943 - binary_accuracy: 0.4995 - val_loss: 0.6877 - val_binary_accuracy: 0.6040 - 42s/epoch - 421ms/step\n",
      "Epoch 2/20\n",
      "100/100 - 40s - loss: 0.6902 - binary_accuracy: 0.5410 - val_loss: 0.6774 - val_binary_accuracy: 0.5590 - 40s/epoch - 402ms/step\n",
      "Epoch 3/20\n",
      "100/100 - 45s - loss: 0.6810 - binary_accuracy: 0.5535 - val_loss: 0.6575 - val_binary_accuracy: 0.6110 - 45s/epoch - 447ms/step\n",
      "Epoch 4/20\n",
      "100/100 - 46s - loss: 0.6682 - binary_accuracy: 0.5940 - val_loss: 0.6449 - val_binary_accuracy: 0.6550 - 46s/epoch - 460ms/step\n",
      "Epoch 5/20\n",
      "100/100 - 43s - loss: 0.6541 - binary_accuracy: 0.6105 - val_loss: 0.6240 - val_binary_accuracy: 0.6480 - 43s/epoch - 431ms/step\n",
      "Epoch 6/20\n",
      "100/100 - 46s - loss: 0.6365 - binary_accuracy: 0.6295 - val_loss: 0.6068 - val_binary_accuracy: 0.6720 - 46s/epoch - 459ms/step\n",
      "Epoch 7/20\n",
      "100/100 - 42s - loss: 0.6264 - binary_accuracy: 0.6360 - val_loss: 0.5845 - val_binary_accuracy: 0.6850 - 42s/epoch - 421ms/step\n",
      "Epoch 8/20\n",
      "100/100 - 42s - loss: 0.6210 - binary_accuracy: 0.6490 - val_loss: 0.5862 - val_binary_accuracy: 0.6770 - 42s/epoch - 420ms/step\n",
      "Epoch 9/20\n",
      "100/100 - 40s - loss: 0.6064 - binary_accuracy: 0.6630 - val_loss: 0.6087 - val_binary_accuracy: 0.6630 - 40s/epoch - 398ms/step\n",
      "Epoch 10/20\n",
      "100/100 - 43s - loss: 0.5999 - binary_accuracy: 0.6735 - val_loss: 0.5630 - val_binary_accuracy: 0.6890 - 43s/epoch - 426ms/step\n",
      "Epoch 11/20\n",
      "100/100 - 44s - loss: 0.5959 - binary_accuracy: 0.6815 - val_loss: 0.5589 - val_binary_accuracy: 0.7050 - 44s/epoch - 436ms/step\n",
      "Epoch 12/20\n",
      "100/100 - 42s - loss: 0.5911 - binary_accuracy: 0.6750 - val_loss: 0.5535 - val_binary_accuracy: 0.6980 - 42s/epoch - 420ms/step\n",
      "Epoch 13/20\n",
      "100/100 - 42s - loss: 0.5797 - binary_accuracy: 0.6940 - val_loss: 0.5905 - val_binary_accuracy: 0.6670 - 42s/epoch - 422ms/step\n",
      "Epoch 14/20\n",
      "100/100 - 41s - loss: 0.5803 - binary_accuracy: 0.6885 - val_loss: 0.5351 - val_binary_accuracy: 0.7180 - 41s/epoch - 406ms/step\n",
      "Epoch 15/20\n",
      "100/100 - 41s - loss: 0.5768 - binary_accuracy: 0.6920 - val_loss: 0.5829 - val_binary_accuracy: 0.6900 - 41s/epoch - 412ms/step\n",
      "Epoch 16/20\n",
      "100/100 - 41s - loss: 0.5750 - binary_accuracy: 0.6995 - val_loss: 0.5337 - val_binary_accuracy: 0.7230 - 41s/epoch - 406ms/step\n",
      "Epoch 17/20\n",
      "100/100 - 39s - loss: 0.5557 - binary_accuracy: 0.7050 - val_loss: 0.5247 - val_binary_accuracy: 0.7310 - 39s/epoch - 395ms/step\n",
      "Epoch 18/20\n",
      "100/100 - 40s - loss: 0.5460 - binary_accuracy: 0.7310 - val_loss: 0.5171 - val_binary_accuracy: 0.7210 - 40s/epoch - 398ms/step\n",
      "Epoch 19/20\n",
      "100/100 - 45s - loss: 0.5499 - binary_accuracy: 0.7215 - val_loss: 0.5217 - val_binary_accuracy: 0.7180 - 45s/epoch - 451ms/step\n",
      "Epoch 20/20\n",
      "100/100 - 41s - loss: 0.5441 - binary_accuracy: 0.7120 - val_loss: 0.5315 - val_binary_accuracy: 0.7120 - 41s/epoch - 408ms/step\n"
     ]
    }
   ],
   "source": [
    "# Constant for epochs\n",
    "EPOCHS = 20\n",
    "\n",
    "# Create a new model\n",
    "model = create_model()\n",
    "\n",
    "# Train the model\n",
    "history = model.fit(\n",
    "      train_generator,\n",
    "      steps_per_epoch=100,  # 2000 images = batch_size * steps\n",
    "      epochs=EPOCHS,\n",
    "      validation_data=validation_generator,\n",
    "      validation_steps=50,  # 1000 images = batch_size * steps\n",
    "      verbose=2)"
   ]
  },
  {
   "cell_type": "markdown",
   "metadata": {
    "id": "Y-G0Am4cguNt"
   },
   "source": [
    "You will then visualize the loss and accuracy with respect to the training and validation set. You will again use a convenience function so it can be reused later. This function accepts a [History](https://www.tensorflow.org/api_docs/python/tf/keras/callbacks/History) object which contains the results of the `fit()` method you ran above."
   ]
  },
  {
   "cell_type": "code",
   "execution_count": 135,
   "metadata": {},
   "outputs": [
    {
     "data": {
      "text/plain": [
       "dict_keys(['loss', 'binary_accuracy', 'val_loss', 'val_binary_accuracy'])"
      ]
     },
     "execution_count": 135,
     "metadata": {},
     "output_type": "execute_result"
    }
   ],
   "source": [
    "history.history.keys()"
   ]
  },
  {
   "cell_type": "code",
   "execution_count": 136,
   "metadata": {
    "id": "GZWPcmKWO303"
   },
   "outputs": [],
   "source": [
    "import matplotlib.pyplot as plt\n",
    "\n",
    "def plot_loss_acc(history):\n",
    "  '''Plots the training and validation loss and accuracy from a history object'''\n",
    "  acc = history.history['binary_accuracy']\n",
    "  val_acc = history.history['val_binary_accuracy']\n",
    "  loss = history.history['loss']\n",
    "  val_loss = history.history['val_loss']\n",
    "\n",
    "  epochs = range(len(acc))\n",
    "\n",
    "  plt.plot(epochs, acc, 'bo', label='Training accuracy')\n",
    "  plt.plot(epochs, val_acc, 'b', label='Validation accuracy')\n",
    "  plt.title('Training and validation accuracy')\n",
    "\n",
    "  plt.figure()\n",
    "\n",
    "  plt.plot(epochs, loss, 'bo', label='Training Loss')\n",
    "  plt.plot(epochs, val_loss, 'b', label='Validation Loss')\n",
    "  plt.title('Training and validation loss')\n",
    "  plt.legend()\n",
    "\n",
    "  plt.show()"
   ]
  },
  {
   "cell_type": "code",
   "execution_count": 137,
   "metadata": {
    "id": "Vojz4NYXiT_f"
   },
   "outputs": [
    {
     "data": {
      "image/png": "[encoded data removed]",
      "text/plain": [
       "<Figure size 640x480 with 1 Axes>"
      ]
     },
     "metadata": {},
     "output_type": "display_data"
    },
    {
     "data": {
      "image/png": "[encoded data removed]",
      "text/plain": [
       "<Figure size 640x480 with 1 Axes>"
      ]
     },
     "metadata": {},
     "output_type": "display_data"
    }
   ],
   "source": [
    "# Plot training results\n",
    "plot_loss_acc(history)"
   ]
  },
  {
   "cell_type": "code",
   "execution_count": null,
   "metadata": {},
   "outputs": [],
   "source": []
  }
 ],
 "metadata": {
  "accelerator": "GPU",
  "colab": {
   "collapsed_sections": [],
   "name": "C2_W2_Lab_1_cats_v_dogs_augmentation.ipynb",
   "private_outputs": true,
   "provenance": [
    {
     "file_id": "https://github.com/https-deeplearning-ai/tensorflow-1-public/blob/adding_C2/C2/W2/ungraded_labs/C2_W2_Lab_1_cats_v_dogs_augmentation.ipynb",
     "timestamp": 1639637705486
    }
   ]
  },
  "kernelspec": {
   "display_name": "Python 3 (ipykernel)",
   "language": "python",
   "name": "python3"
  },
  "language_info": {
   "codemirror_mode": {
    "name": "ipython",
    "version": 3
   },
   "file_extension": ".py",
   "mimetype": "text/x-python",
   "name": "python",
   "nbconvert_exporter": "python",
   "pygments_lexer": "ipython3",
   "version": "3.10.9"
  }
 },
 "nbformat": 4,
 "nbformat_minor": 1
}
